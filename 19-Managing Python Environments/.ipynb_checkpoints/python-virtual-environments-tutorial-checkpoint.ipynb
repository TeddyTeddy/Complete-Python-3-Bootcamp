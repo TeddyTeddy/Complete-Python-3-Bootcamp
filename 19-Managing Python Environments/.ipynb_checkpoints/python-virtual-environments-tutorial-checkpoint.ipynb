{
 "cells": [
  {
   "cell_type": "markdown",
   "metadata": {},
   "source": [
    "# Introduction"
   ]
  },
  {
   "cell_type": "markdown",
   "metadata": {},
   "source": [
    "This tutorial will walk through the basics of Python 3 virtual environments. \n",
    "\n",
    "The official documentation is available at https://docs.python.org/3/library/venv.html. \n",
    "\n",
    "All of these commands are run from your command prompt/shell/terminal, not from within Python."
   ]
  },
  {
   "cell_type": "markdown",
   "metadata": {},
   "source": [
    "## What is a Python virtual environment"
   ]
  },
  {
   "cell_type": "markdown",
   "metadata": {},
   "source": [
    "A virtual environment is a directory that contains its own installation of Python and its own set of libraries (site packages; i.e. math, os, re, site, pip etc)."
   ]
  },
  {
   "cell_type": "markdown",
   "metadata": {},
   "source": [
    "## Why use it?"
   ]
  },
  {
   "cell_type": "markdown",
   "metadata": {},
   "source": [
    "Every project utilizing Python depends on:\n",
    "    \n",
    "    A Python executable with a version (i.e. Python 3.7.4 )\n",
    "    Site packages that come with the Python version (i.e. math, pip)\n",
    "    Additionally installed packages required by the project\n",
    "\n",
    "All installed packages can be listed via command: **python -m pip list**\n",
    "\n",
    "Python virtual environments are particularly useful if you have multiple versions of Python installed, or you work on many projects that have different package requirements.\n",
    "\n",
    "By default, without a virtual environment, all python and pip **commands** will use the default executables, usually available system wide via **PATH** environment variable. It is better to keep your system Python clean of unnecessary site packages. Otherwise, over time, you will add lots of things to your system packages and things might conflict and cause problems. Using an isolated environment for each project ensures easy reproducability and reduced conflict."
   ]
  },
  {
   "cell_type": "markdown",
   "metadata": {},
   "source": [
    "## Create a venv"
   ]
  },
  {
   "cell_type": "markdown",
   "metadata": {},
   "source": [
    "To create a virtual environment, run in your command prompt or shell:"
   ]
  },
  {
   "cell_type": "raw",
   "metadata": {},
   "source": [
    "# Create a virtual environment named `my_venv` in your current directory\n",
    "python3 -m venv my_venv\n",
    "\n",
    "# Optionally inherit the system site package\n",
    "python3 -m venv my_venv --system-site-packages"
   ]
  },
  {
   "cell_type": "markdown",
   "metadata": {},
   "source": [
    "It can be useful at times to inherit the system site packages with the system-site-packages flag. This is particularly helpful if you have a library that is difficult to build or install, or is provided by another package provider (like a Linux apt or yum install). In these cases, inheriting the site packages may be necessary to avoid rebuilding libraries. In general, this is rare and I would avoid doing it unless you have a specific need to do so."
   ]
  },
  {
   "cell_type": "markdown",
   "metadata": {},
   "source": [
    "## How to use a virtual environment"
   ]
  },
  {
   "cell_type": "markdown",
   "metadata": {},
   "source": [
    "To use a virtual environment, you activate and deactivate them. This will modify your **PATH** environment variable.\n",
    "\n",
    "Alternatively, you don't have to \"activate\" the environment, you can directly run the python interpreter using its full path. This is useful for running cron jobs. See the next examples."
   ]
  },
  {
   "cell_type": "markdown",
   "metadata": {},
   "source": [
    "### Activate a virtual environment"
   ]
  },
  {
   "cell_type": "markdown",
   "metadata": {},
   "source": [
    "In Linux/Mac:"
   ]
  },
  {
   "cell_type": "raw",
   "metadata": {},
   "source": [
    "source venv/bin/activate"
   ]
  },
  {
   "cell_type": "markdown",
   "metadata": {},
   "source": [
    "In Windows:"
   ]
  },
  {
   "cell_type": "raw",
   "metadata": {},
   "source": [
    "venv\\Scripts\\activate.bat"
   ]
  },
  {
   "cell_type": "markdown",
   "metadata": {},
   "source": [
    "When you activate a virtual environment, the following happen:"
   ]
  },
  {
   "cell_type": "markdown",
   "metadata": {},
   "source": [
    "1) **PATH** environment variable gets modified: The path of **venv/bin/** directory is prepended to the **PATH**. This means that **python** and **pip** comments will first be looked under the path of **venv/bin**. Here is an example **PATH** content when **venv** is activated:"
   ]
  },
  {
   "cell_type": "raw",
   "metadata": {},
   "source": [
    "(venv) (base) hakan@hakan-VirtualBox:~/Python/Robot/robot-fw-seleniumlibrary-tests$ echo $PATH\n",
    "\n",
    "/home/hakan/Python/Robot/robot-fw-seleniumlibrary-tests/venv/bin  <-- python & pip commands will be found here\n",
    ":/home/hakan/anaconda3/bin\n",
    ":/home/hakan/anaconda3/condabin\n",
    ":/usr/local/sbin:/usr/local/bin\n",
    ":/usr/sbin\n",
    ":/usr/bin\n",
    ":/sbin\n",
    ":/bin\n",
    ":/usr/games\n",
    ":/usr/local/games\n",
    ":/snap/bin"
   ]
  },
  {
   "cell_type": "markdown",
   "metadata": {},
   "source": [
    "2) Python will have access to the site packages from the virtual environment only. Note that Python looks for site packages under **sys.path**, which upon **venv** activation, point to:"
   ]
  },
  {
   "cell_type": "raw",
   "metadata": {},
   "source": [
    "(venv) (base) hakan@hakan-VirtualBox:~/Python/Robot/robot-fw-seleniumlibrary-tests$ python -m site\n",
    "sys.path = [\n",
    "    '/home/hakan/Python/Robot/robot-fw-seleniumlibrary-tests',\n",
    "    '/home/hakan/Python/Robot/robot-fw-seleniumlibrary-tests/venv/lib/python37.zip',\n",
    "    '/home/hakan/Python/Robot/robot-fw-seleniumlibrary-tests/venv/lib/python3.7',\n",
    "    '/home/hakan/Python/Robot/robot-fw-seleniumlibrary-tests/venv/lib/python3.7/lib-dynload',\n",
    "    '/home/hakan/anaconda3/lib/python3.7',\n",
    "    '/home/hakan/Python/Robot/robot-fw-seleniumlibrary-tests/venv/lib/python3.7/site-packages', <<-- (3)\n",
    "]\n",
    "USER_BASE: '/home/hakan/.local' (exists)\n",
    "USER_SITE: '/home/hakan/.local/lib/python3.7/site-packages' (doesn't exist)\n",
    "ENABLE_USER_SITE: False"
   ]
  },
  {
   "cell_type": "markdown",
   "metadata": {},
   "source": [
    "3) pip packages and things installed with setup.py will go in your virtual environment's site packages"
   ]
  },
  {
   "cell_type": "markdown",
   "metadata": {},
   "source": [
    "4) Your PATH will be updated to include the Python virtual environment's script directory. \n",
    "   Any executables installed through a package will be available in your shell path. (???)"
   ]
  },
  {
   "cell_type": "markdown",
   "metadata": {},
   "source": [
    "## Run without activating"
   ]
  },
  {
   "cell_type": "markdown",
   "metadata": {},
   "source": [
    "You can run a Python interpreter directly to avoid having to activate the virtual environment. This is useful for scripting or setting up cron jobs:"
   ]
  },
  {
   "cell_type": "raw",
   "metadata": {},
   "source": [
    "# Example of running a python virtual environment directly\n",
    "/home/hakan/Python/Robot/robot-fw-seleniumlibrary-tests/venv/bin/python -m pip list"
   ]
  },
  {
   "cell_type": "markdown",
   "metadata": {},
   "source": [
    "## Deactivate a virtual environment"
   ]
  },
  {
   "cell_type": "markdown",
   "metadata": {},
   "source": [
    "To \"exit\" a virtual environment, deactivate it:"
   ]
  },
  {
   "cell_type": "raw",
   "metadata": {},
   "source": [
    "conda deactivate (on the root folder where venv folder resides )"
   ]
  },
  {
   "cell_type": "markdown",
   "metadata": {},
   "source": [
    "## See which python and pip are being used"
   ]
  },
  {
   "cell_type": "markdown",
   "metadata": {},
   "source": [
    "You can always check which **python** and **pip** your PATH environment variable is pointing to by using the following commands.\n",
    "\n",
    "In Linux/Mac:"
   ]
  },
  {
   "cell_type": "raw",
   "metadata": {},
   "source": [
    "which pip\n",
    "which python"
   ]
  },
  {
   "cell_type": "markdown",
   "metadata": {},
   "source": [
    "In Windows:"
   ]
  },
  {
   "cell_type": "raw",
   "metadata": {},
   "source": [
    "where pip\n",
    "where python"
   ]
  },
  {
   "cell_type": "markdown",
   "metadata": {},
   "source": [
    "## Find site packages directory"
   ]
  },
  {
   "cell_type": "markdown",
   "metadata": {},
   "source": [
    "To see what directories are being used to search for packages, invoke the site module directly by running:"
   ]
  },
  {
   "cell_type": "raw",
   "metadata": {},
   "source": [
    "(venv) (base) hakan@hakan-VirtualBox:~/Python/Robot/robot-fw-seleniumlibrary-tests$ python -m site\n",
    "sys.path = [\n",
    "    '/home/hakan/Python/Robot/robot-fw-seleniumlibrary-tests',\n",
    "    '/home/hakan/Python/Robot/robot-fw-seleniumlibrary-tests/venv/lib/python37.zip',\n",
    "    '/home/hakan/Python/Robot/robot-fw-seleniumlibrary-tests/venv/lib/python3.7',\n",
    "    '/home/hakan/Python/Robot/robot-fw-seleniumlibrary-tests/venv/lib/python3.7/lib-dynload',\n",
    "    '/home/hakan/anaconda3/lib/python3.7',\n",
    "    '/home/hakan/Python/Robot/robot-fw-seleniumlibrary-tests/venv/lib/python3.7/site-packages', <<-- (3)\n",
    "]\n",
    "USER_BASE: '/home/hakan/.local' (exists)\n",
    "USER_SITE: '/home/hakan/.local/lib/python3.7/site-packages' (doesn't exist)\n",
    "ENABLE_USER_SITE: False"
   ]
  },
  {
   "cell_type": "raw",
   "metadata": {},
   "source": [
    "Learn more about how Python searches for imports, how the PYTHONPATH environment variable is used, and \n",
    "how to use sys.path in my Python import, sys.path, and PYTHONPATH Tutorial [2]."
   ]
  },
  {
   "cell_type": "markdown",
   "metadata": {},
   "source": [
    "### View installed packages"
   ]
  },
  {
   "cell_type": "markdown",
   "metadata": {},
   "source": [
    "To list the installed packages when a virtual environment is active, from the shell run:"
   ]
  },
  {
   "cell_type": "raw",
   "metadata": {},
   "source": [
    "python -m pip list"
   ]
  },
  {
   "cell_type": "markdown",
   "metadata": {},
   "source": [
    "## Install packages to virtual environment"
   ]
  },
  {
   "cell_type": "markdown",
   "metadata": {},
   "source": [
    "Once the virtual environment is activated (which you can confirm with which python/where python), you can install packages by using pip or running a setup.py file that uses distutils. The installed packages will go in to your virtual environment's site packages directory:"
   ]
  },
  {
   "cell_type": "raw",
   "metadata": {},
   "source": [
    "# Install using `pip` and pypi.org packages\n",
    "python -m pip install flask\n",
    "pip install flask  # Equivalent when virtual environment is activated\n",
    "\n",
    "# Install from source\n",
    "python setup.py install"
   ]
  },
  {
   "cell_type": "markdown",
   "metadata": {},
   "source": [
    "You can also use a requirements.txt file to install a group of modules. \n",
    "This is useful for quickly setting up a new virtual environment from an existing one:"
   ]
  },
  {
   "cell_type": "raw",
   "metadata": {},
   "source": [
    "# requirements.txt contains list of packages to install\n",
    "# and can be created with `python -m pip freeze > requirements.txt`\n",
    "python -m pip install -r requirements.txt"
   ]
  },
  {
   "cell_type": "markdown",
   "metadata": {},
   "source": [
    "# Important tips"
   ]
  },
  {
   "cell_type": "markdown",
   "metadata": {},
   "source": [
    "## Python is not finding a package that you are sure you installed?"
   ]
  },
  {
   "cell_type": "markdown",
   "metadata": {},
   "source": [
    "Did you install the package to a different environment by accident? \n",
    "To check what packages have been installed in your current venv:"
   ]
  },
  {
   "cell_type": "raw",
   "metadata": {},
   "source": [
    "python -m pip list"
   ]
  },
  {
   "cell_type": "markdown",
   "metadata": {},
   "source": [
    "## Which Python environment does Python command points at via PATH?"
   ]
  },
  {
   "cell_type": "markdown",
   "metadata": {},
   "source": [
    "The command **python** may refer to different version of python depending on whether you are using it in your command prompt/shell, pycharm, visual studio code, or another editor. \n",
    "\n",
    "**IMPORTANT!** Don't always assume python from different places is calling the same Python environment.\n",
    "\n",
    "To make sure that you are using the right python environment, use:"
   ]
  },
  {
   "cell_type": "raw",
   "metadata": {},
   "source": [
    "which python"
   ]
  },
  {
   "cell_type": "markdown",
   "metadata": {},
   "source": [
    "## Avoid using pip by itself"
   ]
  },
  {
   "cell_type": "markdown",
   "metadata": {},
   "source": [
    "Using **python -m pip** will always guarantee you are using the **pip** associated with that specific python being called, instead of potentially calling a pip associated with a different python."
   ]
  },
  {
   "cell_type": "markdown",
   "metadata": {},
   "source": [
    "## Virtual Env As a Seperate Linux Package in Linux"
   ]
  },
  {
   "cell_type": "markdown",
   "metadata": {},
   "source": [
    "Sometimes Linux distributions require you to install virtualenv as a separate package. \n",
    "For example:"
   ]
  },
  {
   "cell_type": "raw",
   "metadata": {},
   "source": [
    "sudo apt install python3-virtualenv"
   ]
  },
  {
   "cell_type": "markdown",
   "metadata": {},
   "source": [
    "## For Each New Project, A seperate venv"
   ]
  },
  {
   "cell_type": "markdown",
   "metadata": {},
   "source": [
    "I recommend using a separate virtual environment for each project.\n",
    "You should never copy or move around virtual environments. Always create new ones.\n",
    "Ignore the virtual environment directories from repositories. For example, .gitignore them."
   ]
  },
  {
   "cell_type": "markdown",
   "metadata": {},
   "source": [
    "# REFERENCES:\n",
    "\n",
    "[1] https://www.devdungeon.com/content/python-virtual-environments-tutorial\n",
    "\n",
    "[2] https://www.devdungeon.com/content/python-import-syspath-and-pythonpath-tutorial\n",
    "    "
   ]
  }
 ],
 "metadata": {
  "kernelspec": {
   "display_name": "Python 3",
   "language": "python",
   "name": "python3"
  },
  "language_info": {
   "codemirror_mode": {
    "name": "ipython",
    "version": 3
   },
   "file_extension": ".py",
   "mimetype": "text/x-python",
   "name": "python",
   "nbconvert_exporter": "python",
   "pygments_lexer": "ipython3",
   "version": "3.7.4"
  }
 },
 "nbformat": 4,
 "nbformat_minor": 2
}
