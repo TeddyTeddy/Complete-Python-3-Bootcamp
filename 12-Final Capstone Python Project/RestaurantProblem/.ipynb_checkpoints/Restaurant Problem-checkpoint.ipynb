{
 "cells": [
  {
   "cell_type": "markdown",
   "metadata": {},
   "source": [
    "## Restaurant Recommendations: Planning the Program"
   ]
  },
  {
   "cell_type": "markdown",
   "metadata": {},
   "source": [
    "At this point, you should:\n",
    "\n",
    "understand the problem, and\n",
    "be familiar with the data structures we'll use to represent the data from the file.\n",
    "Next, we'll design the functions.\n",
    "Quick Review:\n",
    "\n",
    "We've created 3 dictionaries:"
   ]
  },
  {
   "cell_type": "code",
   "execution_count": null,
   "metadata": {},
   "outputs": [],
   "source": [
    "restaurant to rating (dict of {str: int})\n",
    "price range to restaurants (dict of {str: list of str})\n",
    "cuisine type to restaurants (dict of {str: list of str})"
   ]
  },
  {
   "cell_type": "markdown",
   "metadata": {},
   "source": [
    "## Planning the Program"
   ]
  },
  {
   "cell_type": "markdown",
   "metadata": {},
   "source": [
    "As with many programs, the first step is reading the file (restaurant_small.txt) and building the data structures (in this case, building the three dictionaries).\n",
    "\n",
    "Now we need to make a design decision: should we look up restaurants by price or by cuisine first?\n",
    "We choose to look up price first. (Choosing to look up restaurants by cuisine first would result in a\n",
    "different solution.) We'll make a list of the restaurants in the desired price range.\n",
    "\n",
    "Next, we need to create a list of restaurants in the desired price range list that serve one of the desired cuisines. Now that we have a list of restaurants in the desired price range that serve the desired cuisine type,\n",
    "we need to sort the restaurants based on their ratings and return the sorted list."
   ]
  },
  {
   "cell_type": "markdown",
   "metadata": {},
   "source": [
    "## Design Tip"
   ]
  },
  {
   "cell_type": "markdown",
   "metadata": {},
   "source": [
    "Before programming, plan your program by breaking it down into sub-problems. Take notes.\n",
    "Work through at least one example by hand and decide how to represent the data.\n",
    "Decompose the problem into sub-problems so that you have more places in the program to test for correctness."
   ]
  },
  {
   "cell_type": "markdown",
   "metadata": {},
   "source": [
    "## More Planning and Some Implementation"
   ]
  },
  {
   "cell_type": "markdown",
   "metadata": {},
   "source": [
    "### Step 1 - Build the Data Structures"
   ]
  },
  {
   "cell_type": "markdown",
   "metadata": {},
   "source": [
    "Start by building the data structures we've discussed:"
   ]
  },
  {
   "cell_type": "code",
   "execution_count": null,
   "metadata": {},
   "outputs": [],
   "source": [
    "a dict of {restaurant name: rating %}\n",
    "a dict of {price: list of restaurant names}\n",
    "a dict of {cuisine: list of restaurant names}"
   ]
  },
  {
   "cell_type": "markdown",
   "metadata": {},
   "source": [
    "To do all of this in one function would be long, messy and hard to debug.\n",
    "Therefore, we create another function that takes a file and returns the three dictionaries as a tuple:"
   ]
  },
  {
   "cell_type": "code",
   "execution_count": null,
   "metadata": {},
   "outputs": [],
   "source": [
    "name_to_rating, price_to_names, cuisine_to_names = read_restaurants(file)"
   ]
  },
  {
   "cell_type": "markdown",
   "metadata": {},
   "source": [
    "We can now create the header for this new function and create three accumulator variables.\n",
    "The function will accumulate the information from the file in the three dictionaries as it reads the file line-by-line:"
   ]
  },
  {
   "cell_type": "code",
   "execution_count": null,
   "metadata": {},
   "outputs": [],
   "source": [
    "def read_restaurants(file):\n",
    "    \"\"\" (file) -> (dict of {str: int}, dict of {str: list of str}, dict of {str: list of str})\n",
    "\n",
    "    Return a tuple of three dictionaries based on the information in file:\n",
    "\n",
    "    - a dict of {restaurant name: rating%}\n",
    "    - a dict of {price range: list of restaurant names}\n",
    "    - a dict of {cuisine: list of restaurant names}\n",
    "    \"\"\"\n",
    "\n",
    "    name_to_rating = {}\n",
    "    price_to_name = {'$':[], '$$':[], '$$$':[], '$$$$':[]}\n",
    "    cuisine_to_name = {}"
   ]
  },
  {
   "cell_type": "markdown",
   "metadata": {},
   "source": [
    "Finishing this function is left as an exercise for you. We recommend you approach it as follows:"
   ]
  },
  {
   "cell_type": "markdown",
   "metadata": {},
   "source": [
    "Read the file line by line, and build up the name_to_rating dictionary.\n",
    "Only once that's working, go back and edit the function to build up the price_to_name dictionary as well.\n",
    "Next, add the code to build the cuisine_to_name dictionary.\n",
    "\n",
    "You should only read through the file once, so you'll need to add more statements in your for loop as\n",
    "add the code to build the 2nd and 3rd dictionaries.\n",
    "One thing that you may find a bit challenging is pulling apart the comma separated\n",
    "list of cuisines for the cuisine_to_name dictionary. You may want to create a helper function to aid with this task."
   ]
  },
  {
   "cell_type": "markdown",
   "metadata": {},
   "source": [
    "### Step 2 - Filter by Price Range"
   ]
  },
  {
   "cell_type": "markdown",
   "metadata": {},
   "source": [
    "We now have the **price_to_name** dictionary, and the **price range** the user desires. We can find the names of restaurants in that price range as follows:"
   ]
  },
  {
   "cell_type": "code",
   "execution_count": null,
   "metadata": {},
   "outputs": [],
   "source": [
    "names_matching_price = price_to_names[price]"
   ]
  },
  {
   "cell_type": "markdown",
   "metadata": {},
   "source": [
    "### Step 3 - Filter by Cuisine"
   ]
  },
  {
   "cell_type": "markdown",
   "metadata": {},
   "source": [
    "We now need a new list of restaurants from the names_matching_price list that we just created that also serve\n",
    "the desired type of cuisine. We'll add a helper function **filter_by_cuisine()** to return a list of all of the\n",
    "restaurants that are in the price range that serves one of the cuisines in the cuisines_list."
   ]
  },
  {
   "cell_type": "code",
   "execution_count": null,
   "metadata": {},
   "outputs": [],
   "source": [
    "names_final = filter_by_cuisine(names_matching_price, cuisine_to_names, desired_cuisines)"
   ]
  },
  {
   "cell_type": "markdown",
   "metadata": {},
   "source": [
    "Start by writing following the Function Design Recipe to write the function header:"
   ]
  },
  {
   "cell_type": "code",
   "execution_count": null,
   "metadata": {},
   "outputs": [],
   "source": [
    "def filter_by_cuisine(names_matching_price, cuisine_to_names, cuisines_list):\n",
    "    \"\"\" (list of str, dict of {str: list of str}, list of str) -> list of str\n",
    "\n",
    "    Return a list of the restaurants in names_matching_price that serve at\n",
    "    least one of the cuisines in cuisines_list according to cuisine_to_names.\n",
    "\n",
    "    >>> names_matching_price = ['Queen St. Cafe', 'Dumplings R Us', 'Deep Fried Everything']\n",
    "    >>> cuisine_to_names = {'Canadian': ['Georgie Porgie'],\n",
    "                'Pub Food': ['Georgie Porgie', 'Deep Fried Everything'],\n",
    "                'Malaysian': ['Queen St. Cafe'],\n",
    "                'Thai': ['Queen St. Cafe'],\n",
    "                'Chinese: ['Dumplings R Us'],\n",
    "                'Mexican': ['Mexican Grill']}\n",
    "    >>> selected_cuisines = ['Chinese', 'Thai']\n",
    "    >>> filter_by_cuisine(names_matching_price, cuisine_to_names, selected_cuisines)\n",
    "    ['Queen St. Cafe', 'Dumplings R Us']\n",
    "    \"\"\""
   ]
  },
  {
   "cell_type": "markdown",
   "metadata": {},
   "source": [
    "In the example in the docstring, we filtered the names_matching_price list, looking for Thai ('Queen St. Cafe') and Chinese ('Dumplings R Us'). We expect those two restaurants to be returned: ['Queen St. Cafe', 'Dumplings R Us'].\n",
    "\n",
    "For this example, we would start by looking for 'Queen St. Cafe' in the 'Chinese' food list.\n",
    "It's not there, so we now check the 'Thai' food list. It is there, so we add 'Queen St. Cafe' to our accumulator.\n",
    "We then move onto 'Dumplings R Us' and then 'Deep Fried Everything' repeating the same process.\n",
    "Since 'Deep Fried Everything' doesn't appear in either the Chinese or Thai lists, it is excluded from the results.\n",
    "This function is left as an exercise for you to implement.\n"
   ]
  },
  {
   "cell_type": "markdown",
   "metadata": {},
   "source": [
    "### Step 4 - Sort and Return"
   ]
  },
  {
   "cell_type": "markdown",
   "metadata": {},
   "source": [
    "We need to build a list of list in the right format, and sort by rating percentage. Again, we'll use a helper function:"
   ]
  },
  {
   "cell_type": "code",
   "execution_count": null,
   "metadata": {},
   "outputs": [],
   "source": [
    "result = build_rating_list(name_to_rating, names_final)\n",
    "Again, start with the function header:\n",
    "\n",
    "def build_rating_list(names_matching, name_to_rating):\n",
    "    \"\"\" (list of str, dict of {str: int}) -> list of [int, str] list\n",
    "\n",
    "    Return a list of [rating%, restaurant name], sorted by rating%.\n",
    "    >>> name_to_rating = {'Georgie Porgie': 87,\n",
    "                          'Queen St. Cafe': 82,\n",
    "                          'Dumplings R Us': 71,\n",
    "                          'Mexican Grill': 85,\n",
    "                          'Deep Fried Everything': 52}\n",
    "    >>> names = ['Queen St. Cafe', 'Dumplings R Us']\n",
    "    >>> build_rating_list(name_to_rating, names)\n",
    "    [[82, 'Queen St. Cafe'], [71, 'Dumplings R Us']]\n",
    "    \"\"\""
   ]
  },
  {
   "cell_type": "markdown",
   "metadata": {},
   "source": [
    "Now, all that's left is to sort and return the list of recommended restaurants.\tThe reason we put the rating first, followed by the string, is that when calling sort() on a list of list, it will use the first value of the inner list to determine the sort order of the items. The rest of this function is being left for you to complete"
   ]
  }
 ],
 "metadata": {
  "kernelspec": {
   "display_name": "Python 3",
   "language": "python",
   "name": "python3"
  },
  "language_info": {
   "codemirror_mode": {
    "name": "ipython",
    "version": 3
   },
   "file_extension": ".py",
   "mimetype": "text/x-python",
   "name": "python",
   "nbconvert_exporter": "python",
   "pygments_lexer": "ipython3",
   "version": "3.7.4"
  }
 },
 "nbformat": 4,
 "nbformat_minor": 2
}
