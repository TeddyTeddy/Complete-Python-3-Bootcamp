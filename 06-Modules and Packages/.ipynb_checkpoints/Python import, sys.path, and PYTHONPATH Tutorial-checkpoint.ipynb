{
 "cells": [
  {
   "cell_type": "markdown",
   "metadata": {},
   "source": [
    "# Introduction"
   ]
  },
  {
   "cell_type": "markdown",
   "metadata": {},
   "source": [
    "The **import** statement is usually the first thing you see at the top of any Python file. We use it all the time, yet it is still a bit mysterious to many people. This tutorial will walk through how **import** works and how to view and modify the directories used for importing."
   ]
  },
  {
   "cell_type": "markdown",
   "metadata": {},
   "source": [
    "# Modules versus packages\n",
    "\n",
    "First, let's clarify the difference between modules and packages. They are very closely related, and often confused. They both serve the same purpose which is to organize code, but they each provide slightly different ways of doing that.\n",
    "\n",
    "    A module is a single .py file with Python code.\n",
    "    A package is a directory that can contains multiple Python modules.\n"
   ]
  },
  {
   "cell_type": "markdown",
   "metadata": {},
   "source": [
    "It always start with a module and turn it in to a package if needed later. Note that a package can contain other packages and modules."
   ]
  },
  {
   "cell_type": "markdown",
   "metadata": {},
   "source": [
    "## How import works\n",
    "\n",
    "The import keyword in Python is used to load other Python source code files in to the current interpreter session. This is how you re-use code and share it among multiple files or different projects.\n",
    "\n",
    "There are a few different ways to use **import**. For example, if we wanted to use the function **join()** that lives in the **path** module of the **os** package. Its full name would be **os.path.join()**. We have a few ways of importing and using the function."
   ]
  },
  {
   "cell_type": "markdown",
   "metadata": {},
   "source": [
    "## Import versus from"
   ]
  },
  {
   "cell_type": "markdown",
   "metadata": {},
   "source": [
    "There are a few different ways you can **import** a package or a module: \n",
    "    \n",
    "    You can directly call import \n",
    "    Use from x import y format. The from keyword tells Python what package or module to look in for the name \n",
    "    specified with import. \n",
    "\n",
    "Different ways to import and execute os.path.join():"
   ]
  },
  {
   "cell_type": "code",
   "execution_count": 2,
   "metadata": {},
   "outputs": [
    {
     "data": {
      "text/plain": [
       "' '"
      ]
     },
     "execution_count": 2,
     "metadata": {},
     "output_type": "execute_result"
    }
   ],
   "source": [
    "import os\n",
    "os.path.join(' ')"
   ]
  },
  {
   "cell_type": "code",
   "execution_count": 3,
   "metadata": {},
   "outputs": [
    {
     "data": {
      "text/plain": [
       "' '"
      ]
     },
     "execution_count": 3,
     "metadata": {},
     "output_type": "execute_result"
    }
   ],
   "source": [
    "from os import path\n",
    "path.join(' ')"
   ]
  },
  {
   "cell_type": "code",
   "execution_count": 4,
   "metadata": {},
   "outputs": [
    {
     "data": {
      "text/plain": [
       "' '"
      ]
     },
     "execution_count": 4,
     "metadata": {},
     "output_type": "execute_result"
    }
   ],
   "source": [
    "from os import *\n",
    "path.join(' ')"
   ]
  },
  {
   "cell_type": "code",
   "execution_count": 5,
   "metadata": {},
   "outputs": [
    {
     "data": {
      "text/plain": [
       "' '"
      ]
     },
     "execution_count": 5,
     "metadata": {},
     "output_type": "execute_result"
    }
   ],
   "source": [
    "from os.path import join\n",
    "join(' ')"
   ]
  },
  {
   "cell_type": "markdown",
   "metadata": {},
   "source": [
    "As you can see, you can import the whole package, a specific module within a package, a specific function from within a module. The * wildcard means load all modules and functions. I do not recommend using the wildcard because it is too ambiguous. It is better to explicitly list each import so you can identify where it came from. "
   ]
  },
  {
   "cell_type": "markdown",
   "metadata": {},
   "source": [
    "When you call import in the Python interpreter searches through a set of directories for the name provided. The list of directories that it searches is stored in **sys.path** and **can be modified during run-time**. To modify the paths before starting Python, you can modify the **PYTHONPATH** environment variable. Both **sys.path** and **PYTHONPATH** are covered more below."
   ]
  },
  {
   "cell_type": "markdown",
   "metadata": {},
   "source": [
    "## Import by string\n",
    "\n",
    "If you want to import a module programmatically, you can use **importlib.import_module()**. This function is useful if you are creating a plugin system where modules need to be loaded at run-time based on string names.\n",
    "\n"
   ]
  },
  {
   "cell_type": "code",
   "execution_count": null,
   "metadata": {},
   "outputs": [],
   "source": [
    "from importlib import import_module\n",
    "\n",
    "# String should match the same format you would normally use to import\n",
    "my_module = import_module(\"my_package.my_module\")\n",
    "\n",
    "# Then you can use it as if you did `import my_package.my_module`\n",
    "my_module.my_function()"
   ]
  },
  {
   "cell_type": "markdown",
   "metadata": {},
   "source": [
    "This method is not commonly used, and is only useful in special circumstances. For example, if you are building a plugin system where you want to load every file in a directory as a module based on the filepath string."
   ]
  },
  {
   "cell_type": "raw",
   "metadata": {},
   "source": [
    "How __init__.py and __main__.py work"
   ]
  },
  {
   "cell_type": "raw",
   "metadata": {},
   "source": [
    "Names that start and end with double underscores, often called 'dunders', are special names in Python. \n",
    "\n",
    "Two of them are special names related to modules and packages: __init__ and __main__. Depending on whether you are organizing your code as a package or a module, they are treated slightly differently.\n",
    "\n",
    "We will look at the difference between a module and a package in a moment, but the main idea is this:"
   ]
  },
  {
   "cell_type": "raw",
   "metadata": {},
   "source": [
    "When you import a package it runs the __init__.py file inside the package directory.\n",
    "Example; import os (package) -> __init__.py under os package will run\n",
    "\n",
    "When you execute a package (e.g. python -m my_package) it executes the __main__.py file under that package\n",
    "\n",
    "When you import a module (i.e. import my_module):\n",
    " 1. __name__ is set to the module name (i.e. __name__ = 'my_module' )\n",
    " 2. it runs the entire file from top to bottom.\n",
    " \n",
    "When you execute a module (i.e. python -m my_module)\n",
    " 1. Sets the __name__ variable to the string \"__main__\"\n",
    " 2. It runs the entire file from top-to-bottom\n"
   ]
  },
  {
   "cell_type": "markdown",
   "metadata": {},
   "source": [
    "## In a package"
   ]
  },
  {
   "cell_type": "raw",
   "metadata": {},
   "source": [
    "In a Python package (a directory), you can have a module named __init__.py and another named __main__.py.\n",
    "\n",
    "Here is an example structure of a package:"
   ]
  },
  {
   "cell_type": "raw",
   "metadata": {},
   "source": [
    "# Directory structure of my_package/\n",
    "my_package/\n",
    "my_package/__init__.py   <-- when my_package is imported\n",
    "my_package/__main__.py   <-- when my_package gets invoked\n",
    "my_package/some_other_module.py"
   ]
  },
  {
   "cell_type": "raw",
   "metadata": {},
   "source": [
    "If a package is invoked directly (e.g. python -m my_package), the __main__.py module is executed. The __init__.py file is executed when a package is imported (e.g. import my_package)."
   ]
  },
  {
   "cell_type": "markdown",
   "metadata": {},
   "source": [
    "## In a module"
   ]
  },
  {
   "cell_type": "raw",
   "metadata": {},
   "source": [
    "In the previous section, we saw how a package can have separate files for __init__.py and __main__.py. In a module (a single .py file) the equivalent of __init__ and __main__ are contained in the single file. The entire itself essentially becomes both the __init__.py and the __main__.py."
   ]
  },
  {
   "cell_type": "raw",
   "metadata": {},
   "source": [
    "When you import a module (i.e. import my_module):\n",
    " 1. __name__ is set to the module name (i.e. __name__ = 'my_module' )\n",
    " 2. it runs the entire file from top to bottom."
   ]
  },
  {
   "cell_type": "raw",
   "metadata": {},
   "source": [
    "When a module is invoked directly, for example, python my_module.py or python -m my_module, then it does the same thing as importing it, but also sets the __name__ variable to the string \"__main__\"."
   ]
  },
  {
   "cell_type": "raw",
   "metadata": {},
   "source": [
    "You can take advantage of this and execute a section of code only if the module is invoked directly, and not when it is imported. To do this, you need to explicitly check the __name__ variable, and see if it equals __main__. If it is set to the string __main__, then you know the module was invoked directly, and not simply imported.\n",
    "\n",
    "Take this example. Create a file named my_module.py with the following contents:"
   ]
  },
  {
   "cell_type": "code",
   "execution_count": null,
   "metadata": {},
   "outputs": [],
   "source": [
    "# can be found under:\n",
    "# /home/hakan/Python/Complete-Python-3-Bootcamp/06-Modules and Packages/python-import-syspath-and-pythonpath-tutorial\n",
    "\n",
    "# my_module.py\n",
    "print('This will run when the file is imported or invoked.')\n",
    "print(f'__name__ is {__name__}')\n",
    "\n",
    "def my_function():\n",
    "    print('Executing function. This will only run when the function is called.')\n",
    "\n",
    "if __name__ == '__main__':\n",
    "    print('This will get executed only if')\n",
    "    print('the module is invoked directly.')\n",
    "    print('It will not run when this module is imported')\n",
    "    my_function()\n"
   ]
  },
  {
   "cell_type": "markdown",
   "metadata": {},
   "source": [
    "Try out a few different things to understand how it works:\n",
    "\n",
    "    Run the file directly with Python: python my_module.py\n",
    "    Invoke the module with -m flag:    python -m my_module\n",
    "    Import the module from another Python file: python -c \"import my_module\"\n",
    "    Import and call the function defined: python -c \"import my_module; my_module.my_function()\"\n"
   ]
  },
  {
   "cell_type": "markdown",
   "metadata": {},
   "source": [
    "## Manage import paths"
   ]
  },
  {
   "cell_type": "markdown",
   "metadata": {},
   "source": [
    "### sys.path"
   ]
  },
  {
   "cell_type": "markdown",
   "metadata": {},
   "source": [
    "When you start a Python interpreter, one of the things it creates automatically is a list that contains all of directories it will use to search for modules when importing. This list is available in a variable named **sys.path**. Here is an example of printing out sys.path. Note that the empty '' entry means the current directory."
   ]
  },
  {
   "cell_type": "code",
   "execution_count": 8,
   "metadata": {},
   "outputs": [
    {
     "data": {
      "text/plain": [
       "['/home/hakan/Python/Complete-Python-3-Bootcamp/06-Modules and Packages',\n",
       " '/home/hakan/anaconda3/lib/python37.zip',\n",
       " '/home/hakan/anaconda3/lib/python3.7',\n",
       " '/home/hakan/anaconda3/lib/python3.7/lib-dynload',\n",
       " '',\n",
       " '/home/hakan/anaconda3/lib/python3.7/site-packages',\n",
       " '/home/hakan/anaconda3/lib/python3.7/site-packages/IPython/extensions',\n",
       " '/home/hakan/.ipython']"
      ]
     },
     "execution_count": 8,
     "metadata": {},
     "output_type": "execute_result"
    }
   ],
   "source": [
    "import sys\n",
    "sys.path"
   ]
  },
  {
   "cell_type": "markdown",
   "metadata": {},
   "source": [
    "**NOTE!!** You are allowed to modify **sys.path** during run-time. Just be sure to modify it before you call import. It will search the directories in order stopping at the first place it finds the specified modules."
   ]
  },
  {
   "cell_type": "markdown",
   "metadata": {},
   "source": [
    "## PYTHONPATH"
   ]
  },
  {
   "cell_type": "markdown",
   "metadata": {},
   "source": [
    "**PYTHONPATH** is related to **sys.path** very closely. **PYTHONPATH** is an environment variable that you set **before** running the Python interpreter. **PYTHONPATH**, if it exists, should contain directories that should be searched for modules when using import. If PYTHONPATH is set, Python will include the directories in **sys.path** for searching. Use a semicolon (; in Windows) and a colon (: in Linux/Mac) to separate multiple directories."
   ]
  },
  {
   "cell_type": "markdown",
   "metadata": {},
   "source": [
    "Here is an example of setting the environment variable in Windows and listing the paths in Python:"
   ]
  },
  {
   "cell_type": "raw",
   "metadata": {},
   "source": [
    "set PYTHONPATH=C:\\pypath1\\;C:\\pypath2\\\n",
    "python -c \"import sys; print(sys.path)\"\n",
    "# Example output\n",
    "['', 'C:\\\\pypath1', 'C:\\\\pypath2', 'C:\\\\opt\\\\Python36\\\\python36.zip', 'C:\\\\opt\\\\Python36\\\\DLLs', 'C:\\\\opt\\\\Python36\\\\lib', 'C:\\\\opt\\\\Python36', 'C:\\\\Users\\\\NanoDano\\\\AppData\\\\Roaming\\\\Python\\\\Python36\\\\site-packages', 'C:\\\\opt\\\\Python36\\\\lib\\\\site-packages', 'C:\\\\opt\\\\Python36\\\\lib\\\\site-packages\\\\win32', 'C:\\\\opt\\\\Python36\\\\lib\\\\site-packages\\\\win32\\\\lib', 'C:\\\\opt\\\\Python36\\\\lib\\\\site-packages\\\\Pythonwin']"
   ]
  },
  {
   "cell_type": "markdown",
   "metadata": {},
   "source": [
    "And in Linux and Mac you can do the equivalent like this:"
   ]
  },
  {
   "cell_type": "raw",
   "metadata": {},
   "source": [
    "export PYTHONPATH='/some/extra/path/one:/some/extra/path/two'\n",
    "python -c \"import sys; print(sys.path)\"\n",
    "# Example output\n",
    "['', '/some/extra/path/one', '/some/extra/path/two', '/usr/lib/python2.7', '/usr/lib/python2.7/plat-x86_64-linux-gnu', '/usr/lib/python2.7/lib-tk', '/usr/lib/python2.7/lib-old', '/usr/lib/python2.7/lib-dynload', '/usr/local/lib/python2.7/dist-packages', '/usr/lib/python2.7/dist-packages']"
   ]
  },
  {
   "cell_type": "markdown",
   "metadata": {},
   "source": [
    "So, in order to **import** modules or packages, they need to reside in one of the paths listed in **sys.path**. You can modify the **sys.path** list manually if needed from within Python. It is just a regular list so it can be modified in all the normal ways. For example, you can append to the end of the list using **sys.path.append()** or to insert in an arbitrary position using **sys.path.insert()**"
   ]
  },
  {
   "cell_type": "markdown",
   "metadata": {},
   "source": [
    "## The site module"
   ]
  },
  {
   "cell_type": "markdown",
   "metadata": {},
   "source": [
    "You can also use the site module to modify sys.path. See more at https://docs.python.org/3/library/site.html."
   ]
  },
  {
   "cell_type": "code",
   "execution_count": 9,
   "metadata": {},
   "outputs": [
    {
     "name": "stdout",
     "output_type": "stream",
     "text": [
      "['/home/hakan/Python/Complete-Python-3-Bootcamp/06-Modules and Packages', '/home/hakan/anaconda3/lib/python37.zip', '/home/hakan/anaconda3/lib/python3.7', '/home/hakan/anaconda3/lib/python3.7/lib-dynload', '', '/home/hakan/anaconda3/lib/python3.7/site-packages', '/home/hakan/anaconda3/lib/python3.7/site-packages/IPython/extensions', '/home/hakan/.ipython', '/the/path']\n"
     ]
    }
   ],
   "source": [
    "import site\n",
    "import sys\n",
    "\n",
    "site.addsitedir('/the/path')  # Always appends to end\n",
    "print(sys.path)"
   ]
  },
  {
   "cell_type": "markdown",
   "metadata": {},
   "source": [
    "You can also direclty invoke the site module to get a list of default paths:"
   ]
  },
  {
   "cell_type": "raw",
   "metadata": {},
   "source": [
    "python -m site"
   ]
  },
  {
   "cell_type": "raw",
   "metadata": {},
   "source": [
    "Example run:"
   ]
  },
  {
   "cell_type": "raw",
   "metadata": {},
   "source": [
    "nanodano@localhost:~$ python -m site\n",
    "sys.path = [\n",
    "    '/home/nanodano',\n",
    "    '/usr/lib/python37.zip',\n",
    "    '/usr/lib/python3.7',\n",
    "    '/usr/lib/python3.7/lib-dynload',\n",
    "    '/usr/local/lib/python3.7/dist-packages',\n",
    "    '/usr/lib/python3/dist-packages',\n",
    "]"
   ]
  },
  {
   "cell_type": "markdown",
   "metadata": {},
   "source": [
    "# References"
   ]
  },
  {
   "cell_type": "markdown",
   "metadata": {},
   "source": [
    "[1] https://www.devdungeon.com/content/python-import-syspath-and-pythonpath-tutorial"
   ]
  }
 ],
 "metadata": {
  "kernelspec": {
   "display_name": "Python 3",
   "language": "python",
   "name": "python3"
  },
  "language_info": {
   "codemirror_mode": {
    "name": "ipython",
    "version": 3
   },
   "file_extension": ".py",
   "mimetype": "text/x-python",
   "name": "python",
   "nbconvert_exporter": "python",
   "pygments_lexer": "ipython3",
   "version": "3.7.4"
  }
 },
 "nbformat": 4,
 "nbformat_minor": 2
}
