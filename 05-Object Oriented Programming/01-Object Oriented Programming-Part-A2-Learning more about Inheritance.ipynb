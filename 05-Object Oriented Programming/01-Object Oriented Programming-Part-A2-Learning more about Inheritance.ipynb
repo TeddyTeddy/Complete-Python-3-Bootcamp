{
 "cells": [
  {
   "cell_type": "markdown",
   "metadata": {},
   "source": [
    "## Python Inheritance Example"
   ]
  },
  {
   "cell_type": "markdown",
   "metadata": {},
   "source": [
    "Inheritance is a capability of one class to derive or inherit the properties from some other class. The benefits of inheritance are:"
   ]
  },
  {
   "cell_type": "markdown",
   "metadata": {},
   "source": [
    "1) It represents real-world relationships well\n",
    "\n",
    "2) It provides reusability of code. We don’t have to write a same code again and again. It also allows us to add more features to the class without modifying it.\n",
    "\n",
    "3) It is **transitive**, which means that if the class B inherits from another class A, then all subclasses of B would automatically inherit from class A.\n"
   ]
  },
  {
   "cell_type": "code",
   "execution_count": 3,
   "metadata": {},
   "outputs": [
    {
     "name": "stdout",
     "output_type": "stream",
     "text": [
      "Eleven False\n",
      "Krunal True\n"
     ]
    }
   ],
   "source": [
    "class Person(object):\n",
    "\n",
    "    # Constructor\n",
    "    def __init__(self, name):\n",
    "        self.name = name\n",
    "\n",
    "    # To get name\n",
    "    def getName(self):\n",
    "        return self.name\n",
    "\n",
    "    # To check if this person is Student\n",
    "    def isStudent(self):\n",
    "        return False\n",
    "\n",
    "\n",
    "# Inherited or Subclass (Note Person in bracket)\n",
    "class Student(Person):\n",
    "    # NOTE! There is no __init__ method defined here. The child class directly inherits the\n",
    "    # parent's __init__ method.\n",
    "    \n",
    "    # Here we return true\n",
    "    def isStudent(self):\n",
    "        return True\n",
    "\n",
    "\n",
    "# Driver code\n",
    "person = Person(\"Eleven\")  # An Object of Person\n",
    "print(person.getName(), person.isStudent())\n",
    "\n",
    "student = Student(\"Krunal\")  # An Object of Student\n",
    "print(student.getName(), student.isStudent())"
   ]
  },
  {
   "cell_type": "markdown",
   "metadata": {},
   "source": [
    "Inheritance enables us to define the class that takes all the functionality from a parent class and allows us to add more.\n",
    "\n",
    "Let’s breakdown the above code into pieces."
   ]
  },
  {
   "cell_type": "markdown",
   "metadata": {},
   "source": [
    "## Overriding init method in the child class"
   ]
  },
  {
   "cell_type": "markdown",
   "metadata": {},
   "source": [
    "When you add the __init__() function in the child class, Python will no longer call the parent’s __init__() method. \n",
    "\n",
    "The child’s __init__() function overrides the parent’s __init__() method.\n",
    "\n",
    "If we want to access the parent’s __init__() method, add a call to the parent’s __init__() method in child's __init__() method. See the following code."
   ]
  },
  {
   "cell_type": "code",
   "execution_count": 4,
   "metadata": {},
   "outputs": [],
   "source": [
    "class Student(Person):\n",
    "    def __init__(self, name):\n",
    "        Person.__init__(self, name)"
   ]
  },
  {
   "cell_type": "markdown",
   "metadata": {},
   "source": [
    "OR:"
   ]
  },
  {
   "cell_type": "code",
   "execution_count": 5,
   "metadata": {},
   "outputs": [],
   "source": [
    "class Student(Person):\n",
    "    def __init__(self, name):\n",
    "        super().__init__(self, name)"
   ]
  },
  {
   "cell_type": "markdown",
   "metadata": {},
   "source": [
    "## Different forms of Inheritance"
   ]
  },
  {
   "cell_type": "markdown",
   "metadata": {},
   "source": [
    "### Single inheritance"
   ]
  },
  {
   "cell_type": "markdown",
   "metadata": {},
   "source": [
    "When the child class inherits from only one parent class, it is called single inheritance. We saw an example above."
   ]
  },
  {
   "cell_type": "markdown",
   "metadata": {},
   "source": [
    "### Multilevel inheritance"
   ]
  },
  {
   "cell_type": "markdown",
   "metadata": {},
   "source": [
    "Multilevel inheritance means GrandParent -> Parents -> Children kind of relationship"
   ]
  },
  {
   "cell_type": "code",
   "execution_count": 6,
   "metadata": {},
   "outputs": [
    {
     "name": "stdout",
     "output_type": "stream",
     "text": [
      "Hakan 36 Helsinki\n"
     ]
    }
   ],
   "source": [
    "class GrandParents(object):\n",
    "\n",
    "    # Constructor\n",
    "    def __init__(self, name):\n",
    "        self.name = name\n",
    "\n",
    "    # To get name\n",
    "    def getName(self):\n",
    "        return self.name\n",
    "\n",
    "\n",
    "# Inherited or SubClass\n",
    "class Parents(GrandParents):\n",
    "\n",
    "    # Constructor\n",
    "    def __init__(self, name, age):\n",
    "        super().__init__(name)\n",
    "        self.age = age\n",
    "\n",
    "    # To get name\n",
    "    def getAge(self):\n",
    "        return self.age\n",
    "\n",
    "\n",
    "# Inherited or SubClass\n",
    "class Children(Parents):\n",
    "\n",
    "    # Constructor\n",
    "    def __init__(self, name, age, address):\n",
    "        super().__init__(name, age)\n",
    "        self.address = address\n",
    "\n",
    "    # To get address\n",
    "    def getAddress(self):\n",
    "        return self.address\n",
    "\n",
    "\n",
    "# Driver code\n",
    "g = Children(\"Hakan\", 36, \"Helsinki\")\n",
    "print(g.getName(), g.getAge(), g.getAddress())"
   ]
  },
  {
   "cell_type": "markdown",
   "metadata": {},
   "source": [
    "### Multiple inheritance"
   ]
  },
  {
   "cell_type": "markdown",
   "metadata": {},
   "source": [
    "When the child class inherits from multiple parent classes, it is called multiple inheritance.\n",
    "Python supports multiple inheritances. We specify all parent classes as a comma-separated list in the bracket."
   ]
  },
  {
   "cell_type": "code",
   "execution_count": 7,
   "metadata": {},
   "outputs": [
    {
     "name": "stdout",
     "output_type": "stream",
     "text": [
      "First Base Class\n",
      "Second Base Class\n",
      "Derived Class\n",
      "Eleven Krunal\n"
     ]
    }
   ],
   "source": [
    "class Base1(object):\n",
    "    def __init__(self):\n",
    "        self.str1 = \"Eleven\"\n",
    "        print(\"First Base Class\")\n",
    "\n",
    "\n",
    "class Base2(object):\n",
    "    def __init__(self):\n",
    "        self.str2 = \"Krunal\"\n",
    "        print(\"Second Base Class\")\n",
    "\n",
    "\n",
    "class Derived(Base1, Base2):\n",
    "    def __init__(self):\n",
    "        Base1.__init__(self)\n",
    "        Base2.__init__(self)\n",
    "        print(\"Derived Class\")\n",
    "\n",
    "    def printData(self):\n",
    "        print(self.str1, self.str2)\n",
    "\n",
    "\n",
    "obj = Derived()\n",
    "obj.printData()"
   ]
  },
  {
   "cell_type": "markdown",
   "metadata": {},
   "source": [
    "# REFERENCES"
   ]
  },
  {
   "cell_type": "markdown",
   "metadata": {},
   "source": [
    "[1] https://appdividend.com/2019/08/14/python-inheritance-example-inheritance-in-python/"
   ]
  }
 ],
 "metadata": {
  "kernelspec": {
   "display_name": "Python 3",
   "language": "python",
   "name": "python3"
  },
  "language_info": {
   "codemirror_mode": {
    "name": "ipython",
    "version": 3
   },
   "file_extension": ".py",
   "mimetype": "text/x-python",
   "name": "python",
   "nbconvert_exporter": "python",
   "pygments_lexer": "ipython3",
   "version": "3.7.3"
  }
 },
 "nbformat": 4,
 "nbformat_minor": 2
}
