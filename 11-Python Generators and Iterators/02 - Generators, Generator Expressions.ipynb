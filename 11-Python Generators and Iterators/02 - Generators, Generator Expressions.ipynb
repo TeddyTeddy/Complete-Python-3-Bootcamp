{
 "cells": [
  {
   "cell_type": "markdown",
   "metadata": {},
   "source": [
    "## What are generators in Python?"
   ]
  },
  {
   "cell_type": "raw",
   "metadata": {},
   "source": [
    "There is a lot of overhead in building an iterator in Python; we need to implement the iteration protocol: we have to implement a class with __iter__() and __next__() method, keep track of internal states, raise StopIteration when there was no values to be returned etc."
   ]
  },
  {
   "cell_type": "markdown",
   "metadata": {},
   "source": [
    "This is both lengthy and counter intuitive. Generator comes into rescue in such situations.\n",
    "\n",
    "Python generators are too iterators implemented differently. Python generators utilize **yield** statement instead of **the iteration protocol**. Yield statement causes the generator to do a **state suspension** (i.e. saving the local symbol table, and the execution point) and then delivering a value to the caller.\n",
    "\n",
    "Simply speaking, a **generator** is a function that, when invoked, returns an **iterator** which we can iterate over via **next** (one value at a time)."
   ]
  },
  {
   "cell_type": "markdown",
   "metadata": {},
   "source": [
    "## How to create a generator in Python?"
   ]
  },
  {
   "cell_type": "markdown",
   "metadata": {},
   "source": [
    "It is fairly simple to create a generator in Python. It is as easy as defining a normal function with **yield** statement instead of a return statement."
   ]
  },
  {
   "cell_type": "markdown",
   "metadata": {},
   "source": [
    "The difference is that, while a return statement terminates a function entirely, **yield** statement pauses the function doing a **state suspension** and later continues from there on successive calls."
   ]
  },
  {
   "cell_type": "markdown",
   "metadata": {},
   "source": [
    "## Differences between Generator function and a Normal function"
   ]
  },
  {
   "cell_type": "markdown",
   "metadata": {},
   "source": [
    "Here is how a generator function differs from a normal function"
   ]
  },
  {
   "cell_type": "markdown",
   "metadata": {},
   "source": [
    "1. Generator function contains one or more yield statement\n",
    "2. When called, it returns an iterator object but does not start execution immediately.\n",
    "3. We can call next() on the iterator object. \n",
    "4. Once the function yields, the function is state is suspeded and the control is transferred to the caller.\n",
    "5. Local variables and their states are remembered between successive calls.\n",
    "6. Finally, when the function terminates (i.e. reaches its last execution point), StopIteration is raised automatically on further calls"
   ]
  },
  {
   "cell_type": "markdown",
   "metadata": {},
   "source": [
    "Here is an example to illustrate all of the points stated above. We have a generator function named my_gen() with several yield statements."
   ]
  },
  {
   "cell_type": "code",
   "execution_count": 1,
   "metadata": {},
   "outputs": [],
   "source": [
    "# A simple generator function\n",
    "def my_gen():\n",
    "    n = 1\n",
    "    print('This is printed first')\n",
    "    # Generator function contains yield statements\n",
    "    yield n\n",
    "\n",
    "    n += 1\n",
    "    print('This is printed second')\n",
    "    yield n\n",
    "\n",
    "    n += 1\n",
    "    print('This is printed at last')\n",
    "    yield n\n",
    "    pass # an imaginary last point of execution, when my_gen() terminates here Python raises StopIteration error"
   ]
  },
  {
   "cell_type": "markdown",
   "metadata": {},
   "source": [
    "An interactive run in the interpreter is given below"
   ]
  },
  {
   "cell_type": "code",
   "execution_count": 15,
   "metadata": {},
   "outputs": [
    {
     "name": "stdout",
     "output_type": "stream",
     "text": [
      "True\n",
      "This is printed first\n",
      "1\n",
      "This is printed second\n",
      "2\n",
      "This is printed at last\n",
      "3\n"
     ]
    },
    {
     "ename": "StopIteration",
     "evalue": "",
     "output_type": "error",
     "traceback": [
      "\u001b[0;31m---------------------------------------------------------------------------\u001b[0m",
      "\u001b[0;31mStopIteration\u001b[0m                             Traceback (most recent call last)",
      "\u001b[0;32m<ipython-input-15-43b48c5b4347>\u001b[0m in \u001b[0;36m<module>\u001b[0;34m\u001b[0m\n\u001b[1;32m      6\u001b[0m \u001b[0mprint\u001b[0m\u001b[0;34m(\u001b[0m\u001b[0mnext\u001b[0m\u001b[0;34m(\u001b[0m\u001b[0miterator\u001b[0m\u001b[0;34m)\u001b[0m\u001b[0;34m)\u001b[0m\u001b[0;34m\u001b[0m\u001b[0;34m\u001b[0m\u001b[0m\n\u001b[1;32m      7\u001b[0m \u001b[0mprint\u001b[0m\u001b[0;34m(\u001b[0m\u001b[0mnext\u001b[0m\u001b[0;34m(\u001b[0m\u001b[0miterator\u001b[0m\u001b[0;34m)\u001b[0m\u001b[0;34m)\u001b[0m\u001b[0;34m\u001b[0m\u001b[0;34m\u001b[0m\u001b[0m\n\u001b[0;32m----> 8\u001b[0;31m \u001b[0mprint\u001b[0m\u001b[0;34m(\u001b[0m\u001b[0mnext\u001b[0m\u001b[0;34m(\u001b[0m\u001b[0miterator\u001b[0m\u001b[0;34m)\u001b[0m\u001b[0;34m)\u001b[0m\u001b[0;34m\u001b[0m\u001b[0;34m\u001b[0m\u001b[0m\n\u001b[0m",
      "\u001b[0;31mStopIteration\u001b[0m: "
     ]
    }
   ],
   "source": [
    "iterator = my_gen()\n",
    "print(iter(iterator) == iterator)  # An generator always returns itself when invoked with iter()\n",
    "                                   # This is used in FOR LOOP's implementation with while\n",
    "# manual invocation of iterator\n",
    "print(next(iterator))\n",
    "print(next(iterator))\n",
    "print(next(iterator))\n",
    "print(next(iterator))"
   ]
  },
  {
   "cell_type": "markdown",
   "metadata": {},
   "source": [
    "One interesting thing to note in the above example is that, the value of variable n is remembered between each call.\n",
    "\n",
    "Unlike normal functions, the local variables are not destroyed when the function yields. Furthermore, the generator object can be iterated to exhaustion only once.\n",
    "\n",
    "To restart the process we need to create another generator object using something like new_iterator = my_gen()."
   ]
  },
  {
   "cell_type": "markdown",
   "metadata": {},
   "source": [
    "## For loops can be used with iterators (as well as with iterables)"
   ]
  },
  {
   "cell_type": "code",
   "execution_count": 32,
   "metadata": {},
   "outputs": [
    {
     "name": "stdout",
     "output_type": "stream",
     "text": [
      "This is printed first\n",
      "1\n",
      "This is printed second\n",
      "2\n",
      "This is printed at last\n",
      "3\n"
     ]
    }
   ],
   "source": [
    "# Using for loop\n",
    "iterator = my_gen()  # my_gen() returns an iterator\n",
    "for item in iterator:  \n",
    "    print(item)"
   ]
  },
  {
   "cell_type": "markdown",
   "metadata": {},
   "source": [
    "Referring to \"For loops with iterables\" section in the notebook \"01- Iterables, Iterators, for loops with iterables, infinite iterators\", we can see how Python implements the for loop:"
   ]
  },
  {
   "cell_type": "code",
   "execution_count": 36,
   "metadata": {},
   "outputs": [],
   "source": [
    "generator = my_gen() # re-initializing is necessary, coz previous iterator is exhausted"
   ]
  },
  {
   "cell_type": "code",
   "execution_count": 37,
   "metadata": {},
   "outputs": [
    {
     "name": "stdout",
     "output_type": "stream",
     "text": [
      "True\n",
      "This is printed first\n",
      "1\n",
      "This is printed second\n",
      "2\n",
      "This is printed at last\n",
      "3\n"
     ]
    }
   ],
   "source": [
    "iterator = iter(generator)          #  iter(iterator) returns the same iterator instance, coz iterator is a generator. Proof is next line\n",
    "print(generator == iter(generator))  #  An generator always returns itself when invoked with iter()\n",
    "while True:\n",
    "    try:\n",
    "        item = next(iterator)\n",
    "    except StopIteration:\n",
    "        break\n",
    "    else:\n",
    "        print(item)\n",
    "    "
   ]
  },
  {
   "cell_type": "markdown",
   "metadata": {},
   "source": [
    "## Python Generator Expression"
   ]
  },
  {
   "cell_type": "markdown",
   "metadata": {},
   "source": [
    "Simple generators can be easily created on the fly using generator expressions. It makes building generators easy.\n",
    "\n",
    "Same as **lambda** function creates an **anonymous function**, **generator expression** creates an **anonymous generator function**.\n",
    "\n",
    "The syntax for generator expression is similar to that of a list comprehension in Python. But the square brackets are replaced with round parentheses.\n",
    "\n",
    "The major difference between a **list comprehension** and a **generator expression** is that while list comprehension produces the entire list, generator expression produces one item at a time.\n",
    "\n",
    "They are kind of lazy, producing items only when asked for. For this reason, a generator expression is much more memory efficient than an equivalent list comprehension.\n"
   ]
  },
  {
   "cell_type": "code",
   "execution_count": 39,
   "metadata": {},
   "outputs": [
    {
     "name": "stdout",
     "output_type": "stream",
     "text": [
      "[1, 9, 36, 100]\n",
      "1\n",
      "9\n",
      "36\n",
      "100\n"
     ]
    }
   ],
   "source": [
    "# Initialize the list\n",
    "my_list = [1, 3, 6, 10]\n",
    "\n",
    "# square each term using list comprehension\n",
    "# Output: [1, 9, 36, 100] --> built an entire list\n",
    "print([x**2 for x in my_list])\n",
    "\n",
    "# same thing can be done using generator expression\n",
    "# Output: <generator object <genexpr> at 0x0000000002EBDAF8>\n",
    "generator = (x**2 for x in my_list)  # when invoked with next(), raises StopIteration error when exhausted\n",
    "for x in generator:\n",
    "    print(x)"
   ]
  },
  {
   "cell_type": "markdown",
   "metadata": {},
   "source": [
    "## Generator Pipelining"
   ]
  },
  {
   "cell_type": "markdown",
   "metadata": {},
   "source": [
    "Suppose we have a log file from a famous fast food chain. The log file has a column (4th column) that keeps track of the number of pizza sold every hour and we want to sum it to find the total pizzas sold.\n",
    "\n",
    "Assume everything is in string and numbers that are not available are marked as 'N/A'. \n",
    "\n",
    "A generator implementation of this can be found in 11-Python-Generators And Iterators > Pipelining generators"
   ]
  },
  {
   "cell_type": "code",
   "execution_count": 41,
   "metadata": {},
   "outputs": [
    {
     "name": "stdout",
     "output_type": "stream",
     "text": [
      "Total pizzas sold =  17\n"
     ]
    }
   ],
   "source": [
    "with open('sells.log') as file:\n",
    "    pizza_col = (line.split(' ')[3] for line in file)  # line is a str\n",
    "    per_hour = (int(x) for x in pizza_col if x != 'N/A\\n')\n",
    "    print(\"Total pizzas sold = \", sum(per_hour))"
   ]
  },
  {
   "cell_type": "markdown",
   "metadata": {},
   "source": [
    "## Why generators are used in Python?"
   ]
  },
  {
   "cell_type": "markdown",
   "metadata": {},
   "source": [
    "1. Generators are iterators not implementing iterator protocol but implementing yield statement. That's why they are shorter, more concise and easier to maintain\n",
    "\n",
    "2. Memory Efficient compared to a Normal Function: Just like native iterator (i.e. implementing the iterator protocol) they are memory efficient. A normal function would populate the entire sequence before returning a result. Generator is memory friendly; each time it is invoked with next(), because of state suspension, it utilizes its previous state to generate the next result.\n",
    "\n",
    "3. We can represent infinite streams with generators\n",
    "\n",
    "4. Generator pipelining would allow you to write efficient code"
   ]
  },
  {
   "cell_type": "markdown",
   "metadata": {},
   "source": [
    "## REFERENCES"
   ]
  },
  {
   "cell_type": "markdown",
   "metadata": {},
   "source": [
    "[1] https://www.programiz.com/python-programming/generator"
   ]
  }
 ],
 "metadata": {
  "kernelspec": {
   "display_name": "Python 3",
   "language": "python",
   "name": "python3"
  },
  "language_info": {
   "codemirror_mode": {
    "name": "ipython",
    "version": 3
   },
   "file_extension": ".py",
   "mimetype": "text/x-python",
   "name": "python",
   "nbconvert_exporter": "python",
   "pygments_lexer": "ipython3",
   "version": "3.7.4"
  }
 },
 "nbformat": 4,
 "nbformat_minor": 2
}
