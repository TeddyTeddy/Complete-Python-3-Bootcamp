{
 "cells": [
  {
   "cell_type": "markdown",
   "metadata": {},
   "source": [
    "# Collections Module\n",
    "\n",
    "The collections module is a built-in module that implements specialized containers providing alternatives to Python’s general purpose built-in containers: dict, list, set, and tuple.\n",
    "\n",
    "Now we'll learn about the alternatives that the collections module provides.\n",
    "\n",
    "## collections.Counter class\n",
    "\n",
    "**Counter** is a **dict subclass** which helps count **hashable objects**.\n",
    "\n",
    "Counter is a subclass of dictionary object. The Counter() function takes an iterable or a mapping as the argument and returns a Dictionary. In this output dictionary, a key is an unique element in the iterable or the mapping and value is the number of times that element exists in the iterable or the mapping\n",
    "\n",
    "Let's see how it can be used:"
   ]
  },
  {
   "cell_type": "code",
   "execution_count": 18,
   "metadata": {},
   "outputs": [],
   "source": [
    "from collections import Counter"
   ]
  },
  {
   "cell_type": "markdown",
   "metadata": {},
   "source": [
    "**Counter() with lists**"
   ]
  },
  {
   "cell_type": "code",
   "execution_count": 11,
   "metadata": {},
   "outputs": [
    {
     "data": {
      "text/plain": [
       "Counter({1: 6, 2: 6, 3: 4, 12: 1, 32: 1, 21: 1, 223: 1})"
      ]
     },
     "execution_count": 11,
     "metadata": {},
     "output_type": "execute_result"
    }
   ],
   "source": [
    "lst = [1,2,2,2,2,3,3,3,1,2,1,12,3,2,32,1,21,1,223,1] # note that all the elements are hashable\n",
    "\n",
    "Counter(lst)"
   ]
  },
  {
   "cell_type": "markdown",
   "metadata": {},
   "source": [
    "**Counter with strings**"
   ]
  },
  {
   "cell_type": "code",
   "execution_count": 20,
   "metadata": {},
   "outputs": [
    {
     "data": {
      "text/plain": [
       "Counter({'a': 2, 'b': 7, 's': 6, 'h': 3})"
      ]
     },
     "execution_count": 20,
     "metadata": {},
     "output_type": "execute_result"
    }
   ],
   "source": [
    "Counter('aabsbsbsbhshhbbsbs')"
   ]
  },
  {
   "cell_type": "markdown",
   "metadata": {},
   "source": [
    "**Counter with words in a sentence**"
   ]
  },
  {
   "cell_type": "code",
   "execution_count": 21,
   "metadata": {},
   "outputs": [
    {
     "data": {
      "text/plain": [
       "Counter({'How': 1,\n",
       "         'many': 1,\n",
       "         'times': 2,\n",
       "         'does': 1,\n",
       "         'each': 3,\n",
       "         'word': 3,\n",
       "         'show': 1,\n",
       "         'up': 1,\n",
       "         'in': 1,\n",
       "         'this': 1,\n",
       "         'sentence': 1})"
      ]
     },
     "execution_count": 21,
     "metadata": {},
     "output_type": "execute_result"
    }
   ],
   "source": [
    "s = 'How many times does each word show up in this sentence word times each each word'\n",
    "\n",
    "words = s.split()\n",
    "\n",
    "Counter(words)"
   ]
  },
  {
   "cell_type": "markdown",
   "metadata": {},
   "source": [
    "### Counter initialized with a dictionary/mapping\n",
    "\n",
    "the Counter() function can take a dictionary as an argument. In this dictionary, the value of a key should be the 'count' of that key."
   ]
  },
  {
   "cell_type": "code",
   "execution_count": 22,
   "metadata": {},
   "outputs": [
    {
     "data": {
      "text/plain": [
       "Counter({1: 3, 2: 4})"
      ]
     },
     "execution_count": 22,
     "metadata": {},
     "output_type": "execute_result"
    }
   ],
   "source": [
    "Counter({1:3,2:4})"
   ]
  },
  {
   "cell_type": "markdown",
   "metadata": {},
   "source": [
    "### Accessing any item with its key"
   ]
  },
  {
   "cell_type": "markdown",
   "metadata": {},
   "source": [
    "You can access any counter item with its key as shown below:"
   ]
  },
  {
   "cell_type": "code",
   "execution_count": 23,
   "metadata": {},
   "outputs": [
    {
     "name": "stdout",
     "output_type": "stream",
     "text": [
      "3\n"
     ]
    }
   ],
   "source": [
    "lst = [1,2,3,4,1,2,6,7,3,8,1]\n",
    "cnt = Counter(lst)\n",
    "print(cnt[1])  # number of occurrences of 1"
   ]
  },
  {
   "cell_type": "markdown",
   "metadata": {},
   "source": [
    "## The methods of Counter() class"
   ]
  },
  {
   "cell_type": "markdown",
   "metadata": {},
   "source": [
    "**Counter** class which is a subclass of **dict**. So it has all the methods of **dict** class.\n",
    "\n",
    "Apart from that, **Counter** has three additional functions:\n",
    "\n",
    "    elements()\n",
    "    most_common([n])\n",
    "    subtract([interable-or-mapping])\n"
   ]
  },
  {
   "cell_type": "markdown",
   "metadata": {},
   "source": [
    "### Counter.elements() method"
   ]
  },
  {
   "cell_type": "markdown",
   "metadata": {},
   "source": [
    "The Counter.elements() method returns an iterator. The iterator yields each **key** in the counter object **Counter[key]** times"
   ]
  },
  {
   "cell_type": "code",
   "execution_count": 2,
   "metadata": {},
   "outputs": [
    {
     "name": "stdout",
     "output_type": "stream",
     "text": [
      "[2, 2, 2, 2, 5, 5, 5]\n"
     ]
    }
   ],
   "source": [
    "from collections import Counter\n",
    "c = Counter({2:4,5:3})\n",
    "print(list(c.elements()))"
   ]
  },
  {
   "cell_type": "markdown",
   "metadata": {},
   "source": [
    "Here, we create a Counter object with a dictionary as an argument. In this Counter object, count of 2 is 4 and count of 5 is 3. The elements() function is called using c object which returns an iterator which is passed as an argument to the list.\n",
    "\n",
    "The iterator repeats 4 times over 2 returning four '2's, and repeats three times over 5 returning three '5's to the list."
   ]
  },
  {
   "cell_type": "markdown",
   "metadata": {},
   "source": [
    "### Counter.most_common() Function"
   ]
  },
  {
   "cell_type": "markdown",
   "metadata": {},
   "source": [
    "Counter() class returns a dictionary which is unordered. You can sort it according to the number of counts in each element using most_common() function of the Counter object:"
   ]
  },
  {
   "cell_type": "code",
   "execution_count": 14,
   "metadata": {},
   "outputs": [
    {
     "name": "stdout",
     "output_type": "stream",
     "text": [
      "Counter({2: 5, 8: 3, 3: 2, 1: 2, 4: 1, 6: 1, 7: 1})\n",
      "[(2, 5), (8, 3), (3, 2), (1, 2), (4, 1), (6, 1), (7, 1)]\n"
     ]
    }
   ],
   "source": [
    "lst = [2,2,2,2,3,4,1,2,6,7,3,8,1,8,8]\n",
    "cnt = Counter(lst)\n",
    "print(cnt)\n",
    "print(cnt.most_common())"
   ]
  },
  {
   "cell_type": "markdown",
   "metadata": {},
   "source": [
    "Counter.most_common() function returns a list of tuples. Each tuple is a pair of (key, num_of_occurrences). The tuples are sorted based on num_of_occurrences. 2 has a count of five, therefore it is the first element of the list."
   ]
  },
  {
   "cell_type": "markdown",
   "metadata": {},
   "source": [
    "### Counter.subtract() method"
   ]
  },
  {
   "cell_type": "markdown",
   "metadata": {},
   "source": [
    "The subtract() takes iterable (list) or a mapping (dictionary) as an argument and deducts elements' count using that argument. Check the following example:"
   ]
  },
  {
   "cell_type": "code",
   "execution_count": 10,
   "metadata": {},
   "outputs": [
    {
     "name": "stdout",
     "output_type": "stream",
     "text": [
      "Counter({1: 2, 2: 2, 7: -7})\n"
     ]
    }
   ],
   "source": [
    "cnt = Counter({1:3,2:4})\n",
    "deduct = {1:1, 2:2, 7:7}\n",
    "cnt.subtract(deduct)\n",
    "print(cnt)"
   ]
  },
  {
   "cell_type": "markdown",
   "metadata": {},
   "source": [
    "You can notice that **cnt** object we first created, has a count of 3 for '1' and count of 4 for '2'. The **deduct** dictionary has the count 1 for key '1', count 2 for key '2' and count 7 for '7'. The subtract() function deducted count 1 from count 3 for key '1' and subtracted count 2 from count 4 for key '2'.\n",
    "\n",
    "Note that subtract() function deducted count 7 from count 0 for key '7', which has a count of 0 in **cnt**"
   ]
  },
  {
   "cell_type": "markdown",
   "metadata": {},
   "source": [
    "## Common patterns when using the Counter() object"
   ]
  },
  {
   "cell_type": "markdown",
   "metadata": {
    "collapsed": true
   },
   "source": [
    "    sum(counter.values())                 # total of all counts\n",
    "    counter.clear()                       # reset all counts\n",
    "    list(counter)                         # list unique elements\n",
    "    set(counter)                          # convert to a set\n",
    "    dict(counter)                         # convert to a regular dictionary\n",
    "    counter.items()                       # convert to a list of (elem, cnt) pairs\n",
    "    Counter(dict(list_of_pairs))          # convert from a list of (elem, cnt) pairs\n",
    "    counter.most_common()[:-n-1:-1]       # n least common elements\n",
    "    counter.most_common()[:n:1]           # n most common elements  \n",
    "    counter += Counter()                  # remove zero and negative counts"
   ]
  },
  {
   "cell_type": "markdown",
   "metadata": {},
   "source": [
    "#### list(counter) :  a list of unique elements"
   ]
  },
  {
   "cell_type": "code",
   "execution_count": 2,
   "metadata": {},
   "outputs": [
    {
     "name": "stdout",
     "output_type": "stream",
     "text": [
      "[2, 3, 4, 1, 6, 7, 8]\n",
      "[2, 3, 4, 1, 6, 7, 8]\n"
     ]
    }
   ],
   "source": [
    "from collections import Counter\n",
    "lst = [2,2,2,2,3,4,1,2,6,7,3,8,1,8,8]\n",
    "counter = Counter(lst)\n",
    "print(list(counter))   # list unique elements\n",
    "print(list(counter.keys()))"
   ]
  },
  {
   "cell_type": "markdown",
   "metadata": {},
   "source": [
    "#### set(counter) : a set of unique elements"
   ]
  },
  {
   "cell_type": "code",
   "execution_count": 18,
   "metadata": {},
   "outputs": [
    {
     "data": {
      "text/plain": [
       "{1, 2, 3, 4, 6, 7, 8}"
      ]
     },
     "execution_count": 18,
     "metadata": {},
     "output_type": "execute_result"
    }
   ],
   "source": [
    "lst = [2,2,2,2,3,4,1,2,6,7,3,8,1,8,8]\n",
    "counter = Counter(lst)\n",
    "set(counter)"
   ]
  },
  {
   "cell_type": "markdown",
   "metadata": {},
   "source": [
    "#### dict(counter) : convert to a regular dictionary"
   ]
  },
  {
   "cell_type": "code",
   "execution_count": 19,
   "metadata": {},
   "outputs": [
    {
     "data": {
      "text/plain": [
       "{2: 5, 3: 2, 4: 1, 1: 2, 6: 1, 7: 1, 8: 3}"
      ]
     },
     "execution_count": 19,
     "metadata": {},
     "output_type": "execute_result"
    }
   ],
   "source": [
    "lst = [2,2,2,2,3,4,1,2,6,7,3,8,1,8,8]\n",
    "counter = Counter(lst)\n",
    "dict(counter)"
   ]
  },
  {
   "cell_type": "markdown",
   "metadata": {},
   "source": [
    "#### counter.items()"
   ]
  },
  {
   "cell_type": "code",
   "execution_count": 4,
   "metadata": {},
   "outputs": [
    {
     "name": "stdout",
     "output_type": "stream",
     "text": [
      "Counter({2: 5, 8: 3, 3: 2, 1: 2, 4: 1, 6: 1, 7: 1})\n",
      "****************** Using Counter.items() **********************************\n",
      "<class 'dict_items'>\n",
      "True\n",
      "False\n",
      "[(2, 5), (3, 2), (4, 1), (1, 2), (6, 1), (7, 1), (8, 3)]\n",
      "****************** Do you see the difference between Counter.items() and iter(counter) ? ******\n",
      "[2, 3, 4, 1, 6, 7, 8]\n"
     ]
    }
   ],
   "source": [
    "lst = [2,2,2,2,3,4,1,2,6,7,3,8,1,8,8]  # a list containing elements\n",
    "counter = Counter(lst)       # container\n",
    "print(counter)\n",
    "\n",
    "print('****************** Using Counter.items() **********************************')\n",
    "iterable = counter.items()   # Counter.items() returns an iterable\n",
    "print(type(iterable))        # dict_items view object\n",
    "print(hasattr(iterable, '__iter__')) # True\n",
    "print(hasattr(iterable, '__next__')) # False\n",
    "print(list(iterable))        # convert to a list of (element, cnt) pairs\n",
    "\n",
    "print('****************** Do you see the difference between Counter.items() and iter(counter) ? ******')\n",
    "\n",
    "iterator = iter(counter)    # counter is a dict, so it is an iterable\n",
    "print(list(iterator))       # iterator yiels keys in the counter (i.e. unique elements in lst)"
   ]
  },
  {
   "cell_type": "markdown",
   "metadata": {},
   "source": [
    "#### Counter(dict(list_of_pairs))"
   ]
  },
  {
   "cell_type": "code",
   "execution_count": 45,
   "metadata": {},
   "outputs": [
    {
     "name": "stdout",
     "output_type": "stream",
     "text": [
      "{2: 5, 3: 2, 4: 1, 1: 2, 6: 1, 7: 1, 8: 3}\n",
      "Counter({2: 5, 8: 3, 3: 2, 1: 2, 4: 1, 6: 1, 7: 1})\n"
     ]
    }
   ],
   "source": [
    "list_of_pairs = [(2, 5), (3, 2), (4, 1), (1, 2), (6, 1), (7, 1), (8, 3)]\n",
    "print(dict(list_of_pairs))\n",
    "counter = Counter(dict(list_of_pairs))  # convert from a list of (elem, cnt) pairs\n",
    "print(counter)"
   ]
  },
  {
   "cell_type": "markdown",
   "metadata": {},
   "source": [
    "#### n least common elements"
   ]
  },
  {
   "cell_type": "code",
   "execution_count": 47,
   "metadata": {},
   "outputs": [
    {
     "data": {
      "text/plain": [
       "[(7, 1), (6, 1), (4, 1)]"
      ]
     },
     "execution_count": 47,
     "metadata": {},
     "output_type": "execute_result"
    }
   ],
   "source": [
    "n = 3\n",
    "counter.most_common()[:-n-1:-1]"
   ]
  },
  {
   "cell_type": "markdown",
   "metadata": {},
   "source": [
    "#### n most common elements"
   ]
  },
  {
   "cell_type": "code",
   "execution_count": 50,
   "metadata": {},
   "outputs": [
    {
     "data": {
      "text/plain": [
       "[(2, 5), (8, 3)]"
      ]
     },
     "execution_count": 50,
     "metadata": {},
     "output_type": "execute_result"
    }
   ],
   "source": [
    "n = 2\n",
    "counter.most_common()[:n:1]"
   ]
  },
  {
   "cell_type": "markdown",
   "metadata": {},
   "source": [
    "#### remove zero and negative counts"
   ]
  },
  {
   "cell_type": "code",
   "execution_count": 5,
   "metadata": {},
   "outputs": [
    {
     "name": "stdout",
     "output_type": "stream",
     "text": [
      "Counter({1: 2, 2: 2, 3: 0, 7: -7})\n",
      "Counter({1: 2, 2: 2})\n"
     ]
    }
   ],
   "source": [
    "counter = Counter({1:3,2:4,3:0})\n",
    "deduct = {1:1, 2:2, 7:7}\n",
    "counter.subtract(deduct)\n",
    "print(counter)\n",
    "counter += Counter()  # remove zero and negative counts\n",
    "print(counter)"
   ]
  },
  {
   "cell_type": "markdown",
   "metadata": {},
   "source": [
    "## collections.defaultdict\n",
    "\n",
    "defaultdict is a dictionary-like object which provides all methods provided by a dictionary but takes an argument (called **default_factory**) as a default data type for the dictionary. Using **defaultdict** is faster than doing the same using **dict.setdefault()** method:"
   ]
  },
  {
   "cell_type": "raw",
   "metadata": {},
   "source": [
    "dictionary.setdefault(keyname, value) [2]\n",
    "\n",
    "keyname\tRequired. The keyname of the item you want to return the value from value\t\n",
    "\n",
    "value   Optional. If the key exist, this parameter has no effect. If the key does not exist, this value becomes \n",
    "                  the key's value. Default value None\n"
   ]
  },
  {
   "cell_type": "code",
   "execution_count": 6,
   "metadata": {},
   "outputs": [
    {
     "data": {
      "text/plain": [
       "{1: 1, 2: 2, 7: 7, 9: 5, 3: None}"
      ]
     },
     "execution_count": 6,
     "metadata": {},
     "output_type": "execute_result"
    }
   ],
   "source": [
    "# using dict.set_default()\n",
    "d = {1:1, 2:2, 7:7}\n",
    "d.setdefault(9, 5)  # inserts key 9 with a value of 5\n",
    "d.setdefault(2, 0)  # does nothing, since key 2 already exists in d\n",
    "d.setdefault(3)     # key 3 does not exist, create an entry d[3] = None\n",
    "d"
   ]
  },
  {
   "cell_type": "code",
   "execution_count": 7,
   "metadata": {},
   "outputs": [],
   "source": [
    "d = {}  # a normal dict instance, which would raise a KeyError if a key does not exist in it"
   ]
  },
  {
   "cell_type": "code",
   "execution_count": 58,
   "metadata": {},
   "outputs": [
    {
     "ename": "KeyError",
     "evalue": "'one'",
     "output_type": "error",
     "traceback": [
      "\u001b[0;31m---------------------------------------------------------------------------\u001b[0m",
      "\u001b[0;31mKeyError\u001b[0m                                  Traceback (most recent call last)",
      "\u001b[0;32m<ipython-input-58-992e684d2538>\u001b[0m in \u001b[0;36m<module>\u001b[0;34m\u001b[0m\n\u001b[0;32m----> 1\u001b[0;31m \u001b[0md\u001b[0m\u001b[0;34m[\u001b[0m\u001b[0;34m'one'\u001b[0m\u001b[0;34m]\u001b[0m  \u001b[0;31m# builtin dict d will raise a KeyError\u001b[0m\u001b[0;34m\u001b[0m\u001b[0;34m\u001b[0m\u001b[0m\n\u001b[0m",
      "\u001b[0;31mKeyError\u001b[0m: 'one'"
     ]
    }
   ],
   "source": [
    "d['one']  # builtin dict d will raise a KeyError"
   ]
  },
  {
   "cell_type": "markdown",
   "metadata": {},
   "source": [
    "**A defaultdict will never raise a KeyError. Instead, any key that does not exist gets the value returned by the default factory.**"
   ]
  },
  {
   "cell_type": "code",
   "execution_count": 60,
   "metadata": {},
   "outputs": [],
   "source": [
    "from collections import defaultdict\n",
    "d  = defaultdict(object)"
   ]
  },
  {
   "cell_type": "code",
   "execution_count": 10,
   "metadata": {},
   "outputs": [
    {
     "data": {
      "text/plain": [
       "<object at 0x1792df202e0>"
      ]
     },
     "execution_count": 10,
     "metadata": {},
     "output_type": "execute_result"
    }
   ],
   "source": [
    "d['one'] "
   ]
  },
  {
   "cell_type": "code",
   "execution_count": 11,
   "metadata": {},
   "outputs": [
    {
     "name": "stdout",
     "output_type": "stream",
     "text": [
      "one\n"
     ]
    }
   ],
   "source": [
    "for item in d:\n",
    "    print(item)"
   ]
  },
  {
   "cell_type": "markdown",
   "metadata": {},
   "source": [
    "Can also initialize with default values:"
   ]
  },
  {
   "cell_type": "code",
   "execution_count": 12,
   "metadata": {},
   "outputs": [],
   "source": [
    "d = defaultdict(lambda: 0)"
   ]
  },
  {
   "cell_type": "code",
   "execution_count": 13,
   "metadata": {},
   "outputs": [
    {
     "data": {
      "text/plain": [
       "0"
      ]
     },
     "execution_count": 13,
     "metadata": {},
     "output_type": "execute_result"
    }
   ],
   "source": [
    "d['one']"
   ]
  },
  {
   "cell_type": "markdown",
   "metadata": {},
   "source": [
    "### A more complicated example with defaultdict [3]"
   ]
  },
  {
   "cell_type": "markdown",
   "metadata": {},
   "source": [
    "In the this example, we start with a list of tuples (state, city). \n",
    "\n",
    "We want to build a dictionary where the keys are the states and the values are lists of all cities for that state. \n",
    "To build this dictionary of lists, we use a **defaultdict** with **a default factory of list**. A new list is created for each new key."
   ]
  },
  {
   "cell_type": "code",
   "execution_count": 73,
   "metadata": {},
   "outputs": [
    {
     "name": "stdout",
     "output_type": "stream",
     "text": [
      "defaultdict(<class 'list'>, {'TX': ['Austin', 'Houston', 'Dallas'], 'NY': ['Albany', 'Syracuse', 'Buffalo', 'Rochester'], 'CA': ['Sacramento', 'Palo Alto'], 'GA': ['Atlanta']}) \n",
      "\n",
      "TX: Austin, Houston, Dallas\n",
      "NY: Albany, Syracuse, Buffalo, Rochester\n",
      "CA: Sacramento, Palo Alto\n",
      "GA: Atlanta\n"
     ]
    }
   ],
   "source": [
    "from collections import defaultdict\n",
    "master_list = [('TX','Austin'), ('TX','Houston'), ('NY','Albany'), ('NY', 'Syracuse'), ('NY', 'Buffalo'), \n",
    "               ('NY', 'Rochester'), ('TX', 'Dallas'), ('CA','Sacramento'), ('CA', 'Palo Alto'), ('GA', 'Atlanta')]\n",
    "\n",
    "state_to_cities = defaultdict(list)\n",
    "for state, city in master_list:\n",
    "    state_to_cities[state].append(city)\n",
    "\n",
    "print(state_to_cities, '\\n')\n",
    "for state in state_to_cities:\n",
    "    city_list = state_to_cities[state]\n",
    "    print(f'{state}: {\", \" .join(city_list)}')"
   ]
  },
  {
   "cell_type": "markdown",
   "metadata": {},
   "source": [
    "In conclusion, whenever you need a dictionary, and each element’s value should start with a default value, use a defaultdict."
   ]
  },
  {
   "cell_type": "markdown",
   "metadata": {},
   "source": [
    "## collections.OrderedDict\n",
    "\n",
    "An OrderedDict is a dictionary subclass that remembers the order in which its contents are added.\n",
    "\n",
    "Starting from Python 3.6 onwards, a normal dictionary ALSO remembers the order in which its contents are added [4]:"
   ]
  },
  {
   "cell_type": "code",
   "execution_count": 87,
   "metadata": {},
   "outputs": [
    {
     "name": "stdout",
     "output_type": "stream",
     "text": [
      "Normal dictionary:\n",
      "a A\n",
      "b B\n",
      "c C\n",
      "d D\n",
      "e E\n"
     ]
    }
   ],
   "source": [
    "print('Normal dictionary:')  # no matter how many times you run this cell, it will always print an ordered d\n",
    "\n",
    "d = {}\n",
    "\n",
    "d['a'] = 'A'\n",
    "d['b'] = 'B'\n",
    "d['c'] = 'C'\n",
    "d['d'] = 'D'\n",
    "d['e'] = 'E'\n",
    "\n",
    "for k, v in d.items():\n",
    "    print(k, v)"
   ]
  },
  {
   "cell_type": "markdown",
   "metadata": {},
   "source": [
    "An Ordered Dictionary is **almost** made obsolate by the normal dictionary from Python 3.6 onwards [4]"
   ]
  },
  {
   "cell_type": "code",
   "execution_count": 15,
   "metadata": {},
   "outputs": [
    {
     "name": "stdout",
     "output_type": "stream",
     "text": [
      "OrderedDict:\n",
      "a A\n",
      "b B\n",
      "c C\n",
      "d D\n",
      "e E\n"
     ]
    }
   ],
   "source": [
    "from collections import OrderedDict\n",
    "\n",
    "print('OrderedDict:')\n",
    "\n",
    "d = OrderedDict()\n",
    "\n",
    "d['a'] = 'A'\n",
    "d['b'] = 'B'\n",
    "d['c'] = 'C'\n",
    "d['d'] = 'D'\n",
    "d['e'] = 'E'\n",
    "\n",
    "for k, v in d.items():\n",
    "    print(k, v)"
   ]
  },
  {
   "cell_type": "markdown",
   "metadata": {},
   "source": [
    "## Equality with an Ordered Dictionary\n",
    "The **almost** part: A regular dict looks at its contents when testing for equality. An OrderedDict also considers the order the items were added.\n",
    "\n",
    "A normal Dictionary:"
   ]
  },
  {
   "cell_type": "code",
   "execution_count": 90,
   "metadata": {},
   "outputs": [
    {
     "name": "stdout",
     "output_type": "stream",
     "text": [
      "Dictionaries are equal?\n",
      "d1= {'a': 'A', 'b': 'B'}\n",
      "d2= {'b': 'B', 'a': 'A'}\n",
      "True\n"
     ]
    }
   ],
   "source": [
    "print('Dictionaries are equal?')\n",
    "\n",
    "d1 = {}\n",
    "d1['a'] = 'A'\n",
    "d1['b'] = 'B'\n",
    "\n",
    "d2 = {}\n",
    "d2['b'] = 'B'\n",
    "d2['a'] = 'A'\n",
    "\n",
    "print('d1=', d1)\n",
    "print('d2=', d2)\n",
    "print(d1==d2)"
   ]
  },
  {
   "cell_type": "markdown",
   "metadata": {},
   "source": [
    "An Ordered Dictionary:"
   ]
  },
  {
   "cell_type": "code",
   "execution_count": 93,
   "metadata": {},
   "outputs": [
    {
     "name": "stdout",
     "output_type": "stream",
     "text": [
      "Dictionaries are equal?\n",
      "d1= OrderedDict([('a', 'A'), ('b', 'B')])\n",
      "d2= OrderedDict([('b', 'B'), ('a', 'A')])\n",
      "False\n"
     ]
    }
   ],
   "source": [
    "from collections import OrderedDict\n",
    "print('Dictionaries are equal?')\n",
    "\n",
    "d1 = OrderedDict()\n",
    "d1['a'] = 'A'\n",
    "d1['b'] = 'B'\n",
    "\n",
    "\n",
    "d2 = OrderedDict()\n",
    "\n",
    "d2['b'] = 'B'\n",
    "d2['a'] = 'A'\n",
    "\n",
    "print('d1=', d1)\n",
    "print('d2=', d2)\n",
    "print(d1==d2)"
   ]
  },
  {
   "cell_type": "markdown",
   "metadata": {},
   "source": [
    "## collections.deque() : A list like class optimized for left/right insertions/deletions"
   ]
  },
  {
   "cell_type": "markdown",
   "metadata": {},
   "source": [
    "The deque is a list optimized for inserting and removing items from left/right."
   ]
  },
  {
   "cell_type": "code",
   "execution_count": 108,
   "metadata": {},
   "outputs": [
    {
     "name": "stdout",
     "output_type": "stream",
     "text": [
      "deque(['a', 'b', 'c'])\n"
     ]
    }
   ],
   "source": [
    "from collections import deque\n",
    "\n",
    "# You can create a deque with deque() constructor. You have to pass a list as an argument.\n",
    "list = [\"a\",\"b\",\"c\"]\n",
    "deq = deque(list)\n",
    "print(deq)"
   ]
  },
  {
   "cell_type": "code",
   "execution_count": 109,
   "metadata": {},
   "outputs": [
    {
     "name": "stdout",
     "output_type": "stream",
     "text": [
      "deque([1, 'a', 'b', 'c', 'd'])\n"
     ]
    }
   ],
   "source": [
    "deq.append(\"d\")     # appends to the right of the deque obj\n",
    "deq.appendleft(1)   # appends to the left of the deque obj\n",
    "print(deq)"
   ]
  },
  {
   "cell_type": "code",
   "execution_count": 110,
   "metadata": {},
   "outputs": [
    {
     "name": "stdout",
     "output_type": "stream",
     "text": [
      "deque(['a', 'b', 'c'])\n"
     ]
    }
   ],
   "source": [
    "deq.pop()           # removes from the right of the deque object  \n",
    "deq.popleft()       # removes from the left of the deque object\n",
    "print(deq)"
   ]
  },
  {
   "cell_type": "code",
   "execution_count": 111,
   "metadata": {},
   "outputs": [
    {
     "name": "stdout",
     "output_type": "stream",
     "text": [
      "1\n"
     ]
    }
   ],
   "source": [
    "# counting a specific element in the deque object\n",
    "print(deq.count('b'))"
   ]
  },
  {
   "cell_type": "code",
   "execution_count": 107,
   "metadata": {},
   "outputs": [
    {
     "name": "stdout",
     "output_type": "stream",
     "text": [
      "deque([])\n"
     ]
    }
   ],
   "source": [
    "# clearing all the elements away from the deque object\n",
    "deq.clear()\n",
    "print(deq)"
   ]
  },
  {
   "cell_type": "markdown",
   "metadata": {},
   "source": [
    "## collections.ChainMap()"
   ]
  },
  {
   "cell_type": "markdown",
   "metadata": {},
   "source": [
    "ChainMap is used to combine several dictionaries (aka. mappings). It returns a list of dictionaries"
   ]
  },
  {
   "cell_type": "code",
   "execution_count": 14,
   "metadata": {},
   "outputs": [
    {
     "name": "stdout",
     "output_type": "stream",
     "text": [
      "[{'a': 1, 'b': 2}, {'c': 3, 'b': 4}]\n",
      "1\n",
      "2\n",
      "[{'a': 1, 'b': 2}, {'c': 5, 'b': 4}]\n"
     ]
    }
   ],
   "source": [
    "from collections import ChainMap\n",
    "# To create a chainmap we can use ChainMap() constructor. \n",
    "# We have to pass the dictionaries we are going to combine as an argument set.\n",
    "dict1 = { 'a' : 1, 'b' : 2 }\n",
    "dict2 = { 'c' : 3, 'b' : 4 }\n",
    "chain_map = ChainMap(dict1, dict2)\n",
    "print(chain_map.maps)\n",
    "\n",
    "# You can access chain map values by key name\n",
    "print(chain_map['a'])\n",
    "print(chain_map['b'])\n",
    "\n",
    "# An important point is ChainMap updates its values when its associated dictionaries are updated. \n",
    "# For example, if you change the value of 'c' in dict2 to '5', you will notice the change in ChainMap as well.\n",
    "# This is the updatable aspect of a ChainMap\n",
    "dict2['c'] = 5\n",
    "print(chain_map.maps)"
   ]
  },
  {
   "cell_type": "markdown",
   "metadata": {},
   "source": [
    "#### Getting Keys and Values from ChainMap"
   ]
  },
  {
   "cell_type": "markdown",
   "metadata": {},
   "source": [
    "You can access the keys of a ChainMap with keys() function. \n",
    "Similarly, you can access the values of elements with values() function, as shown below:"
   ]
  },
  {
   "cell_type": "code",
   "execution_count": 11,
   "metadata": {},
   "outputs": [
    {
     "name": "stdout",
     "output_type": "stream",
     "text": [
      "['c', 'b', 'a']\n",
      "[3, 2, 1]\n"
     ]
    }
   ],
   "source": [
    "dict1 = { 'a' : 1, 'b' : 2 }\n",
    "dict2 = { 'c' : 3, 'b' : 4 }\n",
    "chain_map = ChainMap(dict1, dict2)\n",
    "print (list(chain_map.keys()))\n",
    "print (list(chain_map.values()))"
   ]
  },
  {
   "cell_type": "markdown",
   "metadata": {},
   "source": [
    "As a rule of thumb, when one key appears in more than one associated dictionaries (i.e. b), \n",
    "ChainMap takes the value for that key from the first dictionary (i.e. dict1)."
   ]
  },
  {
   "cell_type": "markdown",
   "metadata": {},
   "source": [
    "#### Adding a New Dictionary to ChainMap"
   ]
  },
  {
   "cell_type": "markdown",
   "metadata": {},
   "source": [
    "If you want to add a new dictionary to an existing ChainMap, use **new_child()** function. It creates a new ChainMap with the newly added dictionary."
   ]
  },
  {
   "cell_type": "code",
   "execution_count": 13,
   "metadata": {},
   "outputs": [
    {
     "name": "stdout",
     "output_type": "stream",
     "text": [
      "ChainMap({'e': 5, 'f': 6}, {'a': 1, 'b': 2}, {'c': 3, 'b': 4})\n"
     ]
    }
   ],
   "source": [
    "dict3 = {'e' : 5, 'f' : 6}\n",
    "new_chain_map = chain_map.new_child(dict3)\n",
    "print(new_chain_map)"
   ]
  },
  {
   "cell_type": "markdown",
   "metadata": {},
   "source": [
    "Notice that new dictionary (i.e. dict3) is added to the beginning of ChainMap list."
   ]
  },
  {
   "cell_type": "markdown",
   "metadata": {},
   "source": [
    "# namedtuple\n",
    "The standard tuple uses numerical indexes to access its members, for example:"
   ]
  },
  {
   "cell_type": "code",
   "execution_count": 15,
   "metadata": {},
   "outputs": [],
   "source": [
    "sam = (2, 'Lab','Sammy')  # a dog tuple (age, breed, name)"
   ]
  },
  {
   "cell_type": "code",
   "execution_count": 16,
   "metadata": {},
   "outputs": [
    {
     "data": {
      "text/plain": [
       "2"
      ]
     },
     "execution_count": 16,
     "metadata": {},
     "output_type": "execute_result"
    }
   ],
   "source": [
    "sam[0]"
   ]
  },
  {
   "cell_type": "markdown",
   "metadata": {},
   "source": [
    "One of the biggest problems with ordinary tuples is that you have to remember the index of each field of a tuple object (i.e. age has an index 0, breed has an index 1 and name has an index 3)\n",
    "\n",
    "For simple use cases, this is usually enough. On the other hand, remembering which index should be used for each value can lead to errors, especially if the tuple has a lot of fields. A namedtuple assigns names, as well as the numerical index, to each field. \n",
    "\n",
    "Each kind of namedtuple is represented by its own class, created by using the **namedtuple() factory function**. The arguments are the name of the new class and a string containing the names of the elements.\n",
    "\n",
    "You can basically think of namedtuples as a very quick way of creating a new class type with some attribute fields. For example:"
   ]
  },
  {
   "cell_type": "code",
   "execution_count": 20,
   "metadata": {},
   "outputs": [],
   "source": [
    "from collections import namedtuple"
   ]
  },
  {
   "cell_type": "code",
   "execution_count": 21,
   "metadata": {},
   "outputs": [],
   "source": [
    "Dog = namedtuple('Dog','age breed name')\n",
    "\n",
    "sam = Dog(age=2,breed='Lab',name='Sammy')\n",
    "\n",
    "frank = Dog(age=2,breed='Shepard',name=\"Frankie\")"
   ]
  },
  {
   "cell_type": "markdown",
   "metadata": {},
   "source": [
    "We construct the namedtuple by first passing the object type name (Dog) and then passing a string with the variety of fields as a string with spaces between the field names. We can then call on the various attributes:"
   ]
  },
  {
   "cell_type": "code",
   "execution_count": 22,
   "metadata": {},
   "outputs": [
    {
     "data": {
      "text/plain": [
       "Dog(age=2, breed='Lab', name='Sammy')"
      ]
     },
     "execution_count": 22,
     "metadata": {},
     "output_type": "execute_result"
    }
   ],
   "source": [
    "sam"
   ]
  },
  {
   "cell_type": "code",
   "execution_count": 23,
   "metadata": {},
   "outputs": [
    {
     "data": {
      "text/plain": [
       "2"
      ]
     },
     "execution_count": 23,
     "metadata": {},
     "output_type": "execute_result"
    }
   ],
   "source": [
    "sam.age"
   ]
  },
  {
   "cell_type": "code",
   "execution_count": 24,
   "metadata": {},
   "outputs": [
    {
     "data": {
      "text/plain": [
       "'Lab'"
      ]
     },
     "execution_count": 24,
     "metadata": {},
     "output_type": "execute_result"
    }
   ],
   "source": [
    "sam.breed"
   ]
  },
  {
   "cell_type": "code",
   "execution_count": 25,
   "metadata": {},
   "outputs": [
    {
     "data": {
      "text/plain": [
       "2"
      ]
     },
     "execution_count": 25,
     "metadata": {},
     "output_type": "execute_result"
    }
   ],
   "source": [
    "sam[0]"
   ]
  },
  {
   "cell_type": "markdown",
   "metadata": {},
   "source": [
    "## Conclusion\n",
    "\n",
    "Hopefully you now see how incredibly useful the collections module is in Python and it should be your go-to module for a variety of common tasks!"
   ]
  },
  {
   "cell_type": "markdown",
   "metadata": {},
   "source": [
    "## REFERENCES"
   ]
  },
  {
   "cell_type": "markdown",
   "metadata": {},
   "source": [
    "[1] https://stackabuse.com/introduction-to-pythons-collections-module/\n",
    "\n",
    "[2] https://www.w3schools.com/python/ref_dictionary_setdefault.asp\n",
    "\n",
    "[3] https://www.accelebrate.com/blog/using-defaultdict-python\n",
    "\n",
    "[4] https://stackoverflow.com/questions/39980323/are-dictionaries-ordered-in-python-3-6\n",
    "\n",
    "[5] About the use of ChainMap:\n",
    "    https://blog.florimond.dev/a-practical-usage-of-chainmap-in-python"
   ]
  }
 ],
 "metadata": {
  "kernelspec": {
   "display_name": "Python 3",
   "language": "python",
   "name": "python3"
  },
  "language_info": {
   "codemirror_mode": {
    "name": "ipython",
    "version": 3
   },
   "file_extension": ".py",
   "mimetype": "text/x-python",
   "name": "python",
   "nbconvert_exporter": "python",
   "pygments_lexer": "ipython3",
   "version": "3.7.4"
  }
 },
 "nbformat": 4,
 "nbformat_minor": 1
}
