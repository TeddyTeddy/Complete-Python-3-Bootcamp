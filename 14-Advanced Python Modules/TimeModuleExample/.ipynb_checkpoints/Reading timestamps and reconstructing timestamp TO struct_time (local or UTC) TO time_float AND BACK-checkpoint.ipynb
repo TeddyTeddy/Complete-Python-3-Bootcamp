{
 "cells": [
  {
   "attachments": {},
   "cell_type": "markdown",
   "metadata": {},
   "source": [
    "<img style=\"transform: rotate(90deg)\" src=\"TimeFloatToLocal_UTC_struct_time_4.JPG\" alt=\"sieve shaker\" title=\"Title text\"/>"
   ]
  },
  {
   "cell_type": "markdown",
   "metadata": {},
   "source": [
    "**Figure 1** - Python time objects (red) and time functions (yellow)"
   ]
  },
  {
   "cell_type": "markdown",
   "metadata": {},
   "source": [
    "**Note**: To be able to implement this exercise, you need to have Python 3.7.4 or higher. This is necessary to be able to use **tm_zone** and **tm_gmtoff** with directives %Z and %z respectively in **strptime()** and **strftime()**"
   ]
  },
  {
   "cell_type": "markdown",
   "metadata": {},
   "source": [
    "Referring to the red items above, we are going to start from locale sensitive timestamp. Imagine we have a locale sensitive timestamp called **original_time_stamp**. Then, using **strptime()** we will get **struct_time object** (in UTC or in local timezone). From then on, we will get **time_float** using either **calendar.timegm()** or **time.mktime()** depending on the **tm_zone** information.\n",
    "\n",
    "Once we have the **time_float**, we will calculate our way back to and calculate the timestamp based on **tm_zone** information. To achive this, we will either use **gmtime()** or **localtime()** (based on **tm_zone**)\n",
    "to calculate **calculated_struct_time**. Then we will pass **calculated_struct_time** to **strftime()** to get back the **calculated_timestamp**.\n",
    "\n",
    "Once we have **calculated_timestamp**, we will compare it with the **original_timestamp**. If they are the same, we successfully travelled through the diagram."
   ]
  },
  {
   "cell_type": "markdown",
   "metadata": {},
   "source": [
    "To accomplish this task, you are given a **timestamps.json** file:"
   ]
  },
  {
   "cell_type": "raw",
   "metadata": {},
   "source": [
    "[\n",
    "  {\"timestamp\":\"2019 11 15 09 34 50 GMT +0000\", \"format_string\":\"%Y %m %d %H %M %S %Z %z\"},\n",
    "  {\"timestamp\":\"2019 11 15 09 34 50 EET +0200\", \"format_string\":\"%Y %m %d %H %M %S %Z %z\"},\n",
    "  {\"timestamp\":\"2019 11 15 13 13 41 EET +0200\", \"format_string\":\"%Y %m %d %H %M %S %Z %z\"}\n",
    "]"
   ]
  },
  {
   "cell_type": "markdown",
   "metadata": {},
   "source": [
    "## Step 1 - Reading the timestamps.json, and obtaining a list of dictionaries"
   ]
  },
  {
   "cell_type": "markdown",
   "metadata": {},
   "source": [
    "Use json.load() module to load and parse to a list of dictionaries.\n",
    "\n",
    "Create a module named file_reader, which has read_file() function implemented.\n",
    "\n",
    "Create an application file named time_application.py, which calls read_file() as follows:"
   ]
  },
  {
   "cell_type": "code",
   "execution_count": null,
   "metadata": {},
   "outputs": [],
   "source": [
    "dict_list = file_reader.read_file('timestamps.json')"
   ]
  },
  {
   "cell_type": "markdown",
   "metadata": {},
   "source": [
    "## Step 2 - Printing timestamps and format strings"
   ]
  },
  {
   "cell_type": "markdown",
   "metadata": {},
   "source": [
    "Go through every dictionary in dict_list and print the respective timestamp and the format string"
   ]
  },
  {
   "cell_type": "markdown",
   "metadata": {},
   "source": [
    "## Step 3 - Obtain original_struct_time"
   ]
  },
  {
   "cell_type": "markdown",
   "metadata": {},
   "source": [
    "Using the info in step 2, calculate **original_struct_time** for a given timestamp & format_string"
   ]
  },
  {
   "cell_type": "markdown",
   "metadata": {},
   "source": [
    "## Step 4 - Obtain time_float from original_struct_time"
   ]
  },
  {
   "cell_type": "markdown",
   "metadata": {},
   "source": [
    "Write a function called get_time_float() in your time_application.py. When called, it should return time_float:"
   ]
  },
  {
   "cell_type": "code",
   "execution_count": null,
   "metadata": {},
   "outputs": [],
   "source": [
    "time_float = get_time_float(original_struct_time)"
   ]
  },
  {
   "cell_type": "markdown",
   "metadata": {},
   "source": [
    "## Step 5 - Now it is time to calculate the timestamp from the time_float"
   ]
  },
  {
   "cell_type": "markdown",
   "metadata": {},
   "source": [
    "Write a function called calculate_struct_time() in your time_application.py. When called, it should return a \n",
    "locale sensitive struct_time:"
   ]
  },
  {
   "cell_type": "code",
   "execution_count": null,
   "metadata": {},
   "outputs": [],
   "source": [
    "calculated_struct_time = calculate_struct_time(time_float, original_struct_time.tm_zone)"
   ]
  },
  {
   "cell_type": "markdown",
   "metadata": {},
   "source": [
    "## Step 6 - Calculate calculated_timestamp from calculated_struct_time"
   ]
  },
  {
   "cell_type": "markdown",
   "metadata": {},
   "source": [
    "Referring to the figure, use **strftime** for this task."
   ]
  },
  {
   "cell_type": "markdown",
   "metadata": {},
   "source": [
    "## Step 7 - Print and compare all the given/calculated timestamp/struct_time/time_float"
   ]
  },
  {
   "cell_type": "markdown",
   "metadata": {},
   "source": [
    "For a given timestamp (aka. original_timestamp) and its format_string, do the following:"
   ]
  },
  {
   "cell_type": "code",
   "execution_count": null,
   "metadata": {},
   "outputs": [],
   "source": [
    "        print('********************************************')\n",
    "        print(f'Original timestamp:   {d[\"timestamp\"]} ')\n",
    "        print('Original struct_time:    ', original_struct_time, original_struct_time.tm_zone, original_struct_time.tm_gmtoff)\n",
    "        print(f'Time float {time_float}')\n",
    "        print('Calculated struct_time:  ', calculated_struct_time, calculated_struct_time.tm_zone, calculated_struct_time.tm_gmtoff)\n",
    "        print(f'Calculated timestamp: {calculated_timestamp}')\n",
    "        print(f'Original timestamp == Calculated Timestamp : {d[\"timestamp\"] == calculated_timestamp}')"
   ]
  },
  {
   "cell_type": "markdown",
   "metadata": {},
   "source": [
    "In the last print statement, if you get True, that means you have travelled through the figure from timestamp to\n",
    "time_float and vice versa successfully."
   ]
  },
  {
   "cell_type": "markdown",
   "metadata": {},
   "source": [
    "# SOLUTION"
   ]
  },
  {
   "cell_type": "markdown",
   "metadata": {},
   "source": [
    "Solution can be found under the folder: 14-Advanced Python Modules/TimeModuleExample/"
   ]
  }
 ],
 "metadata": {
  "kernelspec": {
   "display_name": "Python 3",
   "language": "python",
   "name": "python3"
  },
  "language_info": {
   "codemirror_mode": {
    "name": "ipython",
    "version": 3
   },
   "file_extension": ".py",
   "mimetype": "text/x-python",
   "name": "python",
   "nbconvert_exporter": "python",
   "pygments_lexer": "ipython3",
   "version": "3.7.4"
  }
 },
 "nbformat": 4,
 "nbformat_minor": 2
}
