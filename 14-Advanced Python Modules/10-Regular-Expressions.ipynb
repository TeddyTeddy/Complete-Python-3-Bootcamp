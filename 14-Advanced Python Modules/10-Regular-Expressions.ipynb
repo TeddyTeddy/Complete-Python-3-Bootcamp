{
 "cells": [
  {
   "cell_type": "markdown",
   "metadata": {},
   "source": [
    "## Where are Regular Expressions used?"
   ]
  },
  {
   "cell_type": "markdown",
   "metadata": {},
   "source": [
    "REs are used to match string patterns"
   ]
  },
  {
   "cell_type": "markdown",
   "metadata": {},
   "source": [
    "## \\ (back slash) character"
   ]
  },
  {
   "cell_type": "markdown",
   "metadata": {},
   "source": [
    "Python uses back slash to indicate special characters:"
   ]
  },
  {
   "cell_type": "code",
   "execution_count": null,
   "metadata": {},
   "outputs": [],
   "source": [
    "'\\n'  # denotes/indicates a newline"
   ]
  },
  {
   "cell_type": "code",
   "execution_count": null,
   "metadata": {},
   "outputs": [],
   "source": [
    "'\\t'  # indicates a tab"
   ]
  },
  {
   "cell_type": "markdown",
   "metadata": {},
   "source": [
    "note that \\n & \\t are considered a single character"
   ]
  },
  {
   "cell_type": "raw",
   "metadata": {},
   "source": [
    "NOTE: \\ is a special/meta character in Python"
   ]
  },
  {
   "cell_type": "markdown",
   "metadata": {},
   "source": [
    "## r string : raw string"
   ]
  },
  {
   "cell_type": "markdown",
   "metadata": {},
   "source": [
    "r in front of a string is called r expression. It voids Python's special characters"
   ]
  },
  {
   "cell_type": "code",
   "execution_count": null,
   "metadata": {},
   "outputs": [],
   "source": [
    "r'\\n' # means it is a raw string with two characters as opposed to just one newline character"
   ]
  },
  {
   "cell_type": "markdown",
   "metadata": {},
   "source": [
    "## Some examples"
   ]
  },
  {
   "cell_type": "code",
   "execution_count": null,
   "metadata": {},
   "outputs": [],
   "source": [
    "import re\n",
    "result = re.search('n', '\\n') # first item is the re, the second item is the Python string\n",
    "print(result)"
   ]
  },
  {
   "cell_type": "code",
   "execution_count": null,
   "metadata": {},
   "outputs": [],
   "source": [
    "result = re.search('n', r'\\n')\n",
    "print(result)\n",
    "\n",
    "# the same as above\n",
    "result = re.search('n', '\\\\n')\n",
    "print(result)"
   ]
  },
  {
   "cell_type": "code",
   "execution_count": null,
   "metadata": {},
   "outputs": [],
   "source": [
    "result = re.search('n', '\\n\\n\\n\\n')  # Python string contains 4 newline characters (i.e. \\n is a newline char)\n",
    "print(result)"
   ]
  },
  {
   "cell_type": "code",
   "execution_count": null,
   "metadata": {},
   "outputs": [],
   "source": [
    "result = re.search('n', r'\\n\\n\\n\\n')  # Python string contains 4 literal \\n with no special meaning\n",
    "print(result)"
   ]
  },
  {
   "cell_type": "markdown",
   "metadata": {},
   "source": [
    "## REs and its special characters"
   ]
  },
  {
   "cell_type": "markdown",
   "metadata": {},
   "source": [
    "In re.search(RE, string_to_search) method call,\n",
    "RE has its own special characters.\n",
    "\n",
    "One example is RE with '\\n' and r'\\n' both look for newlines:"
   ]
  },
  {
   "cell_type": "code",
   "execution_count": null,
   "metadata": {},
   "outputs": [],
   "source": [
    "result = re.search('\\n', '\\n\\n\\n')  # note there is a match starting at index 0 and ending in index 1\n",
    "print(result)"
   ]
  },
  {
   "cell_type": "code",
   "execution_count": null,
   "metadata": {},
   "outputs": [],
   "source": [
    "result = re.search(r'\\n', '\\n\\n\\n')\n",
    "print(result)"
   ]
  },
  {
   "cell_type": "markdown",
   "metadata": {},
   "source": [
    "In the example above raw expression r'\\n' is passed to search() \n",
    "which then finds its own special newline character from the raw expression. Then it looks for the newline character in string_to_search '\\n\\n\\n'."
   ]
  },
  {
   "cell_type": "code",
   "execution_count": null,
   "metadata": {},
   "outputs": [],
   "source": [
    "result = re.search(r'\\n', r'\\n\\n\\n')   # literal Python string does not comtain any newline character\n",
    "print(result)"
   ]
  },
  {
   "cell_type": "markdown",
   "metadata": {},
   "source": [
    "## re.match() and re.search()"
   ]
  },
  {
   "cell_type": "code",
   "execution_count": null,
   "metadata": {},
   "outputs": [],
   "source": [
    "re.search(pattern, string, flags)\n",
    "# searches anywhere within string\n",
    "# flags specify special options (i.e. ignore case etc)"
   ]
  },
  {
   "cell_type": "code",
   "execution_count": null,
   "metadata": {},
   "outputs": [],
   "source": [
    "re.match(pattern, string, flags)\n",
    "# searches only the beginning of the string"
   ]
  },
  {
   "cell_type": "code",
   "execution_count": null,
   "metadata": {},
   "outputs": [],
   "source": [
    "re.match('c','abcdef')  # None"
   ]
  },
  {
   "cell_type": "code",
   "execution_count": null,
   "metadata": {},
   "outputs": [],
   "source": [
    "re.search('c', 'abcdef') # tells you where it matched the first and only the first"
   ]
  },
  {
   "cell_type": "code",
   "execution_count": null,
   "metadata": {},
   "outputs": [],
   "source": [
    "re.search('c','abcdefc')  # multiple c's first instance only"
   ]
  },
  {
   "cell_type": "code",
   "execution_count": null,
   "metadata": {},
   "outputs": [],
   "source": [
    "re.match('a','abcdef') # searches only the beginning of the string"
   ]
  },
  {
   "cell_type": "code",
   "execution_count": null,
   "metadata": {},
   "outputs": [],
   "source": [
    "# multiline string works with re.search()\n",
    "result = re.search('c', 'abdef\\nc')\n",
    "print(result)\n",
    "\n",
    "# multiline string does NOT work with re.match()\n",
    "result = re.match('c', 'abdef\\nc')\n",
    "print(result)"
   ]
  },
  {
   "cell_type": "markdown",
   "metadata": {},
   "source": [
    "## Printing the output of re.match() and re.search()"
   ]
  },
  {
   "cell_type": "code",
   "execution_count": null,
   "metadata": {},
   "outputs": [],
   "source": [
    "re.match('a','abcdef').group() # string output, default arg is 0"
   ]
  },
  {
   "cell_type": "code",
   "execution_count": null,
   "metadata": {},
   "outputs": [],
   "source": [
    "re.match('a','abcdef').group(0)"
   ]
  },
  {
   "cell_type": "code",
   "execution_count": null,
   "metadata": {},
   "outputs": [],
   "source": [
    "re.search('n', 'abcdefnc abcd').group()"
   ]
  },
  {
   "cell_type": "code",
   "execution_count": null,
   "metadata": {},
   "outputs": [],
   "source": [
    "# pull out different types of strings depending on the pattern\n",
    "re.search('n.+', 'abcdefnc abcd').group() "
   ]
  },
  {
   "cell_type": "markdown",
   "metadata": {},
   "source": [
    "## Getting start & end indexes of a matching string of a given pattern"
   ]
  },
  {
   "cell_type": "markdown",
   "metadata": {},
   "source": [
    "Referring to the previous example:"
   ]
  },
  {
   "cell_type": "code",
   "execution_count": null,
   "metadata": {},
   "outputs": [],
   "source": [
    "# pull out different types of strings depending on the pattern\n",
    "re.search('n.+', 'abcdefnc abcd').group() "
   ]
  },
  {
   "cell_type": "code",
   "execution_count": null,
   "metadata": {},
   "outputs": [],
   "source": [
    "# pull out different types of strings depending on the pattern\n",
    "re.search('n.+', 'abcdefnc abcd').start()"
   ]
  },
  {
   "cell_type": "code",
   "execution_count": null,
   "metadata": {},
   "outputs": [],
   "source": [
    "re.search('n.+', 'abcdefnc abcd').end() "
   ]
  },
  {
   "cell_type": "markdown",
   "metadata": {},
   "source": [
    "For example, you can use end()+1 to search for the next match and so on."
   ]
  },
  {
   "cell_type": "markdown",
   "metadata": {},
   "source": [
    "## Literal Matching"
   ]
  },
  {
   "cell_type": "code",
   "execution_count": null,
   "metadata": {},
   "outputs": [],
   "source": [
    "# pattern = 'na'; n followed by a must be matched in string\n",
    "re.search('na', 'abcdefnc abcd')  # None"
   ]
  },
  {
   "cell_type": "code",
   "execution_count": null,
   "metadata": {},
   "outputs": [],
   "source": [
    "# pattern = 'na'; n followed by a must be matched in string\n",
    "re.search('n|a', 'abcdefnc abcd')  # n or a must be matched"
   ]
  },
  {
   "cell_type": "code",
   "execution_count": null,
   "metadata": {},
   "outputs": [],
   "source": [
    "re.search('n|a|b', 'bcdefnc abcda') # as many OR expressions"
   ]
  },
  {
   "cell_type": "markdown",
   "metadata": {},
   "source": [
    "## re.findall()"
   ]
  },
  {
   "cell_type": "code",
   "execution_count": null,
   "metadata": {},
   "outputs": [],
   "source": [
    "re.findall('n|a', 'bcdefnc abcda')  # findall() pulls out all instances"
   ]
  },
  {
   "cell_type": "markdown",
   "metadata": {},
   "source": [
    "in comparison with re.search() which pulls out only the first instance"
   ]
  },
  {
   "cell_type": "code",
   "execution_count": null,
   "metadata": {},
   "outputs": [],
   "source": [
    "re.search('n|a', 'bcdefnc abcda')"
   ]
  },
  {
   "cell_type": "markdown",
   "metadata": {},
   "source": [
    "## What is a character set? (in a RE)"
   ]
  },
  {
   "cell_type": "markdown",
   "metadata": {},
   "source": [
    "Character sets contain characters to look for (i.e. [a-ZA-Z0-9_])"
   ]
  },
  {
   "cell_type": "markdown",
   "metadata": {},
   "source": [
    "## What is a meta character (in a RE)?"
   ]
  },
  {
   "cell_type": "markdown",
   "metadata": {},
   "source": [
    "A meta character represents a character set on its own.\n",
    "Referring to the previous example ***\\w*** metacharacter represents\n",
    "the alpha numeric character set [a-ZA-Z0-9_]"
   ]
  },
  {
   "cell_type": "markdown",
   "metadata": {},
   "source": [
    "## Examples of \\w metacharacter"
   ]
  },
  {
   "cell_type": "code",
   "execution_count": null,
   "metadata": {},
   "outputs": [],
   "source": [
    "re.search('abcd', 'abcdefnc abcd')  # a literal search for abcd"
   ]
  },
  {
   "cell_type": "markdown",
   "metadata": {},
   "source": [
    "\\w is a meta character that represents a character set\n",
    "[a-ZA-Z0-9_]"
   ]
  },
  {
   "cell_type": "code",
   "execution_count": null,
   "metadata": {},
   "outputs": [],
   "source": [
    "re.findall(r'\\w\\w\\w\\w', 'abcdefnc abcd') # finds 3 instances"
   ]
  },
  {
   "cell_type": "code",
   "execution_count": null,
   "metadata": {},
   "outputs": [],
   "source": [
    "re.search(r'\\w\\w\\w\\w', 'ab_defnc abcd')   # finds the first instance"
   ]
  },
  {
   "cell_type": "code",
   "execution_count": null,
   "metadata": {},
   "outputs": [],
   "source": [
    "re.findall(r'\\w\\w\\w\\w', 'ab_defnc abcd')"
   ]
  },
  {
   "cell_type": "code",
   "execution_count": null,
   "metadata": {},
   "outputs": [],
   "source": [
    "re.findall(r'\\w\\w\\w\\w', 'a!_defnc abcd')"
   ]
  },
  {
   "cell_type": "code",
   "execution_count": null,
   "metadata": {},
   "outputs": [],
   "source": [
    "re.findall(r'\\w\\w\\w\\w', 'a!_de?nc abcd')"
   ]
  },
  {
   "cell_type": "code",
   "execution_count": null,
   "metadata": {},
   "outputs": [],
   "source": [
    "re.findall(r'\\w\\w\\w\\w', 'a!_de?nc abc%')"
   ]
  },
  {
   "cell_type": "code",
   "execution_count": null,
   "metadata": {},
   "outputs": [],
   "source": [
    "# does not match symbols, only numbers and characters and _\n",
    "re.findall(r'\\w\\w\\w', 'a3.!-!')"
   ]
  },
  {
   "cell_type": "code",
   "execution_count": null,
   "metadata": {},
   "outputs": [],
   "source": [
    "re.search(r'\\w\\w\\w', 'a33-_!').group(0)"
   ]
  },
  {
   "cell_type": "markdown",
   "metadata": {},
   "source": [
    "## \\W is the compliment of \\w"
   ]
  },
  {
   "cell_type": "markdown",
   "metadata": {},
   "source": [
    "\\W is the opposite of \\w; all the characters except [a-ZA-Z0-9_]"
   ]
  },
  {
   "cell_type": "raw",
   "metadata": {},
   "source": [
    "In other words \\w and \\W together represent all characters"
   ]
  },
  {
   "cell_type": "markdown",
   "metadata": {},
   "source": [
    "## Examples of \\w and \\W"
   ]
  },
  {
   "cell_type": "markdown",
   "metadata": {},
   "source": [
    "In earlier example:"
   ]
  },
  {
   "cell_type": "code",
   "execution_count": null,
   "metadata": {},
   "outputs": [],
   "source": [
    "re.findall(r'\\w\\w\\w', 'a3.-_!')  # None"
   ]
  },
  {
   "cell_type": "code",
   "execution_count": null,
   "metadata": {},
   "outputs": [],
   "source": [
    "re.findall(r'\\w\\w\\W', 'a3.-_!')  # \\W matches non-chars and non-numbers"
   ]
  },
  {
   "cell_type": "code",
   "execution_count": null,
   "metadata": {},
   "outputs": [],
   "source": [
    "# empty spaces are also chars\n",
    "re.findall(r'\\w\\w\\W', 'a3 .-_!')  # \\W matches non-chars and non-numbers"
   ]
  },
  {
   "cell_type": "markdown",
   "metadata": {},
   "source": [
    "We will go over other character sets later on"
   ]
  },
  {
   "cell_type": "markdown",
   "metadata": {},
   "source": [
    "## Quantifiers (in a RE)"
   ]
  },
  {
   "cell_type": "markdown",
   "metadata": {},
   "source": [
    "Quantifiers are metacharacters representing quantity in a pattern"
   ]
  },
  {
   "cell_type": "code",
   "execution_count": null,
   "metadata": {},
   "outputs": [],
   "source": [
    "# some quantifiers\n",
    "'+' # 1 or more greedily\n",
    "'?' # 0 or 1\n",
    "'*' # 0 or more greedily\n",
    "'{x}' # x times\n",
    "'{n,m}' # n to m repetitions {,3}, {3,} greedily"
   ]
  },
  {
   "cell_type": "markdown",
   "metadata": {},
   "source": [
    "Examples:"
   ]
  },
  {
   "cell_type": "code",
   "execution_count": 10,
   "metadata": {},
   "outputs": [
    {
     "data": {
      "text/plain": [
       "['ab', 'cd', 'ef', 'nc', 'ab', 'cd']"
      ]
     },
     "execution_count": 10,
     "metadata": {},
     "output_type": "execute_result"
    }
   ],
   "source": [
    "re.findall(r'\\w\\w','abcdefnc abcd')"
   ]
  },
  {
   "cell_type": "code",
   "execution_count": 11,
   "metadata": {},
   "outputs": [
    {
     "data": {
      "text/plain": [
       "['abcdefnc', 'abcd']"
      ]
     },
     "execution_count": 11,
     "metadata": {},
     "output_type": "execute_result"
    }
   ],
   "source": [
    "re.findall(r'\\w+','abcdefnc abcd')"
   ]
  },
  {
   "cell_type": "code",
   "execution_count": 12,
   "metadata": {},
   "outputs": [
    {
     "data": {
      "text/plain": [
       "['abcdefnc abcd']"
      ]
     },
     "execution_count": 12,
     "metadata": {},
     "output_type": "execute_result"
    }
   ],
   "source": [
    "re.findall(r'\\w+\\W+\\w+','abcdefnc abcd')"
   ]
  },
  {
   "cell_type": "code",
   "execution_count": 13,
   "metadata": {},
   "outputs": [
    {
     "data": {
      "text/plain": [
       "['abcdefnc   abcd']"
      ]
     },
     "execution_count": 13,
     "metadata": {},
     "output_type": "execute_result"
    }
   ],
   "source": [
    "re.findall(r'\\w+\\W+\\w+','abcdefnc   abcd')  # or .search().group()"
   ]
  },
  {
   "cell_type": "code",
   "execution_count": 14,
   "metadata": {},
   "outputs": [
    {
     "data": {
      "text/plain": [
       "['abcdefncabcd']"
      ]
     },
     "execution_count": 14,
     "metadata": {},
     "output_type": "execute_result"
    }
   ],
   "source": [
    "# the whole string is an instance of the pattern\n",
    "re.findall(r'\\w+\\W?\\w+','abcdefncabcd')  # ? is zero or one"
   ]
  },
  {
   "cell_type": "code",
   "execution_count": 15,
   "metadata": {},
   "outputs": [
    {
     "data": {
      "text/plain": [
       "['abcdefnc abcd']"
      ]
     },
     "execution_count": 15,
     "metadata": {},
     "output_type": "execute_result"
    }
   ],
   "source": [
    "# the whole string is an instance of the pattern\n",
    "re.findall(r'\\w+\\W?\\w+','abcdefnc abcd')  # ? is zero or one"
   ]
  },
  {
   "cell_type": "code",
   "execution_count": 17,
   "metadata": {},
   "outputs": [
    {
     "data": {
      "text/plain": [
       "['abcdefnc', 'abcd']"
      ]
     },
     "execution_count": 17,
     "metadata": {},
     "output_type": "execute_result"
    }
   ],
   "source": [
    "re.findall(r'\\w+\\W?\\w+','abcdefnc  abcd')  # ? is zero or one"
   ]
  },
  {
   "cell_type": "code",
   "execution_count": 18,
   "metadata": {},
   "outputs": [
    {
     "data": {
      "text/plain": [
       "[]"
      ]
     },
     "execution_count": 18,
     "metadata": {},
     "output_type": "execute_result"
    }
   ],
   "source": [
    "re.findall(r'\\w+\\W+\\w+','abcdefncabcd')  # + is one or more"
   ]
  },
  {
   "cell_type": "code",
   "execution_count": 19,
   "metadata": {},
   "outputs": [
    {
     "data": {
      "text/plain": [
       "['aaa', 'aaa', 'aaa']"
      ]
     },
     "execution_count": 19,
     "metadata": {},
     "output_type": "execute_result"
    }
   ],
   "source": [
    "re.findall(r'\\w{3}', 'aaaaaaaaaaa')  # only 3 \\w metachars"
   ]
  },
  {
   "cell_type": "code",
   "execution_count": 20,
   "metadata": {},
   "outputs": [
    {
     "data": {
      "text/plain": [
       "['aaaa', 'aaaa', 'aaa']"
      ]
     },
     "execution_count": 20,
     "metadata": {},
     "output_type": "execute_result"
    }
   ],
   "source": [
    "re.findall(r'\\w{1,4}', 'aaaaaaaaaaa')"
   ]
  },
  {
   "cell_type": "code",
   "execution_count": 21,
   "metadata": {},
   "outputs": [
    {
     "data": {
      "text/plain": [
       "['abcdefnc abcd']"
      ]
     },
     "execution_count": 21,
     "metadata": {},
     "output_type": "execute_result"
    }
   ],
   "source": [
    "re.findall(r'\\w{1,10}\\W{0,4}\\w+', 'abcdefnc abcd')"
   ]
  },
  {
   "cell_type": "code",
   "execution_count": 22,
   "metadata": {},
   "outputs": [
    {
     "data": {
      "text/plain": [
       "['abcdefnc abcd']"
      ]
     },
     "execution_count": 22,
     "metadata": {},
     "output_type": "execute_result"
    }
   ],
   "source": [
    "re.findall(r'\\w{1,}\\W{0,}\\w+', 'abcdefnc abcd')"
   ]
  },
  {
   "cell_type": "markdown",
   "metadata": {},
   "source": [
    "## Other types of character sets"
   ]
  },
  {
   "cell_type": "markdown",
   "metadata": {},
   "source": [
    "### \\d and \\D character set (in a RE)"
   ]
  },
  {
   "cell_type": "code",
   "execution_count": null,
   "metadata": {},
   "outputs": [],
   "source": [
    "'\\d' # matches digits [0-9]\n",
    "'\\D' # any non-digit chars; ~\\d"
   ]
  },
  {
   "cell_type": "code",
   "execution_count": 23,
   "metadata": {},
   "outputs": [
    {
     "data": {
      "text/plain": [
       "['23']"
      ]
     },
     "execution_count": 23,
     "metadata": {},
     "output_type": "execute_result"
    }
   ],
   "source": [
    "re.findall('\\d+', '23abced++')"
   ]
  },
  {
   "cell_type": "markdown",
   "metadata": {},
   "source": [
    "note that \\d and \\D together represent the all the characters"
   ]
  },
  {
   "cell_type": "code",
   "execution_count": 24,
   "metadata": {},
   "outputs": [
    {
     "data": {
      "text/plain": [
       "['23abced++']"
      ]
     },
     "execution_count": 24,
     "metadata": {},
     "output_type": "execute_result"
    }
   ],
   "source": [
    "re.findall('\\d+\\D+', '23abced++')"
   ]
  },
  {
   "cell_type": "markdown",
   "metadata": {},
   "source": [
    "### \\s and \\S character sets (in a RE)"
   ]
  },
  {
   "cell_type": "code",
   "execution_count": 25,
   "metadata": {},
   "outputs": [
    {
     "data": {
      "text/plain": [
       "' \\t\\n\\r\\x0b\\x0c'"
      ]
     },
     "execution_count": 25,
     "metadata": {},
     "output_type": "execute_result"
    }
   ],
   "source": [
    "import string\n",
    "f'{string.whitespace}'"
   ]
  },
  {
   "cell_type": "markdown",
   "metadata": {},
   "source": [
    "In Python 3.x, string.whitespace will give the following **whitespace chars**:"
   ]
  },
  {
   "cell_type": "raw",
   "metadata": {},
   "source": [
    "    - space\n",
    "    - tab: \\t\n",
    "    - linefeed/newline: \\n\n",
    "    - return: \\r\n",
    "    - formfeed: \\x0b\n",
    "    - vertical tab: \\x0c"
   ]
  },
  {
   "cell_type": "code",
   "execution_count": null,
   "metadata": {},
   "outputs": [],
   "source": [
    "'\\s' # matches any whitespace characters\n",
    "'\\S' # matches any non-whitespace character"
   ]
  },
  {
   "cell_type": "code",
   "execution_count": 26,
   "metadata": {},
   "outputs": [
    {
     "data": {
      "text/plain": [
       "['23abced++']"
      ]
     },
     "execution_count": 26,
     "metadata": {},
     "output_type": "execute_result"
    }
   ],
   "source": [
    "re.findall('\\S+', '23abced++')"
   ]
  },
  {
   "cell_type": "code",
   "execution_count": 27,
   "metadata": {},
   "outputs": [
    {
     "data": {
      "text/plain": [
       "['Tempor',\n",
       " 'nec',\n",
       " 'feugiat',\n",
       " 'nisl',\n",
       " 'pretium',\n",
       " 'fusce',\n",
       " 'id.',\n",
       " 'Sit',\n",
       " 'amet',\n",
       " 'commodo',\n",
       " 'nulla',\n",
       " 'facilisi',\n",
       " 'nullam',\n",
       " 'vehicula',\n",
       " 'ipsum',\n",
       " 'a',\n",
       " 'arcu.']"
      ]
     },
     "execution_count": 27,
     "metadata": {},
     "output_type": "execute_result"
    }
   ],
   "source": [
    "s = 'Tempor nec feugiat nisl pretium fusce id. Sit amet commodo nulla facilisi nullam vehicula ipsum a arcu.'\n",
    "re.findall('\\S+', s)"
   ]
  },
  {
   "cell_type": "code",
   "execution_count": 28,
   "metadata": {},
   "outputs": [
    {
     "data": {
      "text/plain": [
       "'Tempor nec feugiat nisl pretium fusce id. Sit amet commodo nulla facilisi nullam vehicula ipsum a arcu.'"
      ]
     },
     "execution_count": 28,
     "metadata": {},
     "output_type": "execute_result"
    }
   ],
   "source": [
    "' '.join(re.findall('\\S+', s))"
   ]
  },
  {
   "cell_type": "markdown",
   "metadata": {},
   "source": [
    "### . character set"
   ]
  },
  {
   "cell_type": "raw",
   "metadata": {},
   "source": [
    "    linefeed/newline: \\n"
   ]
  },
  {
   "cell_type": "markdown",
   "metadata": {},
   "source": [
    "the . is a metacharacter representing [any char except the newline character]"
   ]
  },
  {
   "cell_type": "code",
   "execution_count": 35,
   "metadata": {},
   "outputs": [
    {
     "data": {
      "text/plain": [
       "['Tempor nec feugiat nisl pretium fusce id. Sit amet commodo nulla facilisi nullam vehicula ipsum a arcu.',\n",
       " 'Viverra nibh cras pulvinar mattis nunc sed blandit libero volutpat. ',\n",
       " 'Facilisis magna etiam tempor orci.']"
      ]
     },
     "execution_count": 35,
     "metadata": {},
     "output_type": "execute_result"
    }
   ],
   "source": [
    "s = '''Tempor nec feugiat nisl pretium fusce id. Sit amet commodo nulla facilisi nullam vehicula ipsum a arcu.\n",
    "\n",
    "Viverra nibh cras pulvinar mattis nunc sed blandit libero volutpat. \n",
    "\n",
    "Facilisis magna etiam tempor orci.\n",
    "\n",
    "'''\n",
    "# note that there are 3 lines in s\n",
    "\n",
    "re.findall('.+',s)"
   ]
  },
  {
   "cell_type": "code",
   "execution_count": 36,
   "metadata": {},
   "outputs": [
    {
     "data": {
      "text/plain": [
       "['Tempor nec feugiat nisl pretium fusce id. Sit amet commodo nulla facilisi nullam vehicula ipsum a arcu.\\n\\nViverra nibh cras pulvinar mattis nunc sed blandit libero volutpat. \\n\\nFacilisis magna etiam tempor orci.\\n\\n']"
      ]
     },
     "execution_count": 36,
     "metadata": {},
     "output_type": "execute_result"
    }
   ],
   "source": [
    "re.findall('.+', s, re.DOTALL)  # If the DOTALL flag has been specified, this matches any character including a newline"
   ]
  },
  {
   "cell_type": "raw",
   "metadata": {},
   "source": [
    "NOTE: So far we learned about some BUILTIN character sets: ., \\s, \\S, \\w, \\W, \\d and \\D. We can also define our own CUSTOM character sets. That is the next topic."
   ]
  },
  {
   "cell_type": "markdown",
   "metadata": {},
   "source": [
    "## Creating CUSTOM character sets"
   ]
  },
  {
   "cell_type": "markdown",
   "metadata": {},
   "source": [
    "A custom char set is defined by using [ ] metacharacters. Any character within [ ] are considered to be part of your custom char set."
   ]
  },
  {
   "cell_type": "markdown",
   "metadata": {},
   "source": [
    "An example:"
   ]
  },
  {
   "cell_type": "code",
   "execution_count": null,
   "metadata": {},
   "outputs": [],
   "source": [
    "[abc] # a custom char set including a, b, c"
   ]
  },
  {
   "cell_type": "markdown",
   "metadata": {},
   "source": [
    "**-** is another metacharacter. When used inside [ ] it means 'to'. Example:"
   ]
  },
  {
   "cell_type": "code",
   "execution_count": null,
   "metadata": {},
   "outputs": [],
   "source": [
    "[A-Z] # any character starting from A all the way up to and including Z"
   ]
  },
  {
   "cell_type": "markdown",
   "metadata": {},
   "source": [
    "Lets use [A-Z] custom char set in an example:"
   ]
  },
  {
   "cell_type": "code",
   "execution_count": 37,
   "metadata": {},
   "outputs": [],
   "source": [
    "my_string = 'Hello, There, How, Are, You'"
   ]
  },
  {
   "cell_type": "code",
   "execution_count": 38,
   "metadata": {},
   "outputs": [
    {
     "data": {
      "text/plain": [
       "['H', 'T', 'H', 'A', 'Y']"
      ]
     },
     "execution_count": 38,
     "metadata": {},
     "output_type": "execute_result"
    }
   ],
   "source": [
    "re.findall('[A-Z]', my_string)  # pulls out all the capital letters"
   ]
  },
  {
   "cell_type": "code",
   "execution_count": 39,
   "metadata": {},
   "outputs": [
    {
     "data": {
      "text/plain": [
       "['H', ',', 'T', ',', 'H', ',', 'A', ',', 'Y']"
      ]
     },
     "execution_count": 39,
     "metadata": {},
     "output_type": "execute_result"
    }
   ],
   "source": [
    "re.findall('[A-Z,]', my_string)  # pulls out all the capital letters or ,"
   ]
  },
  {
   "cell_type": "code",
   "execution_count": 40,
   "metadata": {},
   "outputs": [
    {
     "data": {
      "text/plain": [
       "['H', ',', 'T', ',', 'H', ',', 'A', ',', 'Y', '.', '.', '.']"
      ]
     },
     "execution_count": 40,
     "metadata": {},
     "output_type": "execute_result"
    }
   ],
   "source": [
    "my_string2 = 'Hello, There, How, Are, You...'\n",
    "re.findall('[A-Z,.]', my_string2)    # . in [] means literally a . i.e. metacharacters loose their meaning inside [ ]"
   ]
  },
  {
   "cell_type": "code",
   "execution_count": 41,
   "metadata": {},
   "outputs": [
    {
     "data": {
      "text/plain": [
       "['H',\n",
       " 'e',\n",
       " 'l',\n",
       " 'l',\n",
       " 'o',\n",
       " ',',\n",
       " ' ',\n",
       " 'T',\n",
       " 'h',\n",
       " 'e',\n",
       " 'r',\n",
       " 'e',\n",
       " ',',\n",
       " ' ',\n",
       " 'H',\n",
       " 'o',\n",
       " 'w',\n",
       " ',',\n",
       " ' ',\n",
       " 'A',\n",
       " 'r',\n",
       " 'e',\n",
       " ',',\n",
       " ' ',\n",
       " 'Y',\n",
       " 'o',\n",
       " 'u',\n",
       " '.',\n",
       " '.',\n",
       " '.']"
      ]
     },
     "execution_count": 41,
     "metadata": {},
     "output_type": "execute_result"
    }
   ],
   "source": [
    "my_string3 = 'Hello, There, How, Are, You...'\n",
    "re.findall('[A-Za-z,.\\s]', my_string3)  # \\s is a python metacharacter not a RE metacharacter"
   ]
  },
  {
   "cell_type": "markdown",
   "metadata": {},
   "source": [
    "## ^ metacharacter used in Custom Character Set (in a RE)"
   ]
  },
  {
   "cell_type": "markdown",
   "metadata": {},
   "source": [
    "**^** means **NOT** when used within [ ] custom character set declaration"
   ]
  },
  {
   "cell_type": "code",
   "execution_count": 49,
   "metadata": {},
   "outputs": [
    {
     "data": {
      "text/plain": [
       "['h', 'i', 'i', 'a', 'i', 'g']"
      ]
     },
     "execution_count": 49,
     "metadata": {},
     "output_type": "execute_result"
    }
   ],
   "source": [
    "my_string5 = 'This is a string'\n",
    "re.findall('[a-i]', my_string5) # find a character in starting from a up to and including i."
   ]
  },
  {
   "cell_type": "code",
   "execution_count": 50,
   "metadata": {},
   "outputs": [
    {
     "data": {
      "text/plain": [
       "['T', 's', ' ', 's', ' ', ' ', 's', 't', 'r', 'n']"
      ]
     },
     "execution_count": 50,
     "metadata": {},
     "output_type": "execute_result"
    }
   ],
   "source": [
    "re.findall('[^a-i]', my_string5) # find a character in NOT [a-i]"
   ]
  },
  {
   "cell_type": "raw",
   "metadata": {},
   "source": [
    "NOTE: ^ has a special meaning depending on where it is used. If used inside [] it means NOT that character set.\n",
    "      If used outside [] it means at the beginning of a string (which we will mention later)"
   ]
  },
  {
   "cell_type": "markdown",
   "metadata": {},
   "source": [
    "## Quantifiers With Custom Character Sets (in a RE)"
   ]
  },
  {
   "cell_type": "code",
   "execution_count": null,
   "metadata": {},
   "outputs": [],
   "source": [
    "# main quantifiers\n",
    "'+' # 1 or more greedily\n",
    "'?' # 0 or 1\n",
    "'*' # 0 or more greedily\n",
    "'{x}' # x times\n",
    "'{n,m}' # n to m repetitions {,3}, {3,} greedily"
   ]
  },
  {
   "cell_type": "code",
   "execution_count": 42,
   "metadata": {},
   "outputs": [
    {
     "data": {
      "text/plain": [
       "['HELLO', 'T', 'H', 'A', 'Y']"
      ]
     },
     "execution_count": 42,
     "metadata": {},
     "output_type": "execute_result"
    }
   ],
   "source": [
    "my_string4 = 'HELLO, There, How, Are, You...'\n",
    "re.findall('[A-Z]+', my_string4)"
   ]
  },
  {
   "cell_type": "code",
   "execution_count": 43,
   "metadata": {},
   "outputs": [
    {
     "data": {
      "text/plain": [
       "['HELLO']"
      ]
     },
     "execution_count": 43,
     "metadata": {},
     "output_type": "execute_result"
    }
   ],
   "source": [
    "re.findall('[A-Z]{2,}', my_string4)"
   ]
  },
  {
   "cell_type": "code",
   "execution_count": 45,
   "metadata": {},
   "outputs": [
    {
     "data": {
      "text/plain": [
       "['HELLO, There, How, Are, You']"
      ]
     },
     "execution_count": 45,
     "metadata": {},
     "output_type": "execute_result"
    }
   ],
   "source": [
    "re.findall('[A-Za-z\\s,]+', my_string4)"
   ]
  },
  {
   "cell_type": "code",
   "execution_count": 46,
   "metadata": {},
   "outputs": [
    {
     "data": {
      "text/plain": [
       "['O, ', 'There, ', 'How, ', 'Are, ', 'You']"
      ]
     },
     "execution_count": 46,
     "metadata": {},
     "output_type": "execute_result"
    }
   ],
   "source": [
    "re.findall('[A-Z]?[a-z\\s,]+', my_string4)"
   ]
  },
  {
   "cell_type": "code",
   "execution_count": 52,
   "metadata": {},
   "outputs": [
    {
     "data": {
      "text/plain": [
       "['...']"
      ]
     },
     "execution_count": 52,
     "metadata": {},
     "output_type": "execute_result"
    }
   ],
   "source": [
    "re.findall('[^A-Za-z\\s,]+', my_string4)"
   ]
  },
  {
   "cell_type": "code",
   "execution_count": 53,
   "metadata": {},
   "outputs": [
    {
     "data": {
      "text/plain": [
       "[', ', 'here, ', 'ow, ', 're, ', 'ou...']"
      ]
     },
     "execution_count": 53,
     "metadata": {},
     "output_type": "execute_result"
    }
   ],
   "source": [
    "re.findall('[^A-Z]+', my_string4)"
   ]
  },
  {
   "cell_type": "markdown",
   "metadata": {},
   "source": [
    "## Groups (In a RE) + findall()"
   ]
  },
  {
   "cell_type": "markdown",
   "metadata": {},
   "source": [
    "Groups allow us to pull out sections of a match and store them"
   ]
  },
  {
   "cell_type": "code",
   "execution_count": 55,
   "metadata": {},
   "outputs": [],
   "source": [
    "import re\n",
    "my_string6  = 'John has 6 cats but I think my friend Susan has 3 dogs and Mike has 8 fishes'"
   ]
  },
  {
   "cell_type": "code",
   "execution_count": 56,
   "metadata": {},
   "outputs": [
    {
     "data": {
      "text/plain": [
       "['John has 6 cats', 'Susan has 3 dogs', 'Mike has 8 fishes']"
      ]
     },
     "execution_count": 56,
     "metadata": {},
     "output_type": "execute_result"
    }
   ],
   "source": [
    "re.findall('[A-Za-z]+ \\w+ \\d+ \\w+', my_string6)"
   ]
  },
  {
   "cell_type": "raw",
   "metadata": {},
   "source": [
    "# the use of brackets () denotes a group\n",
    "() = metacharacter"
   ]
  },
  {
   "cell_type": "markdown",
   "metadata": {},
   "source": [
    "Following the previous example, lets use groups:"
   ]
  },
  {
   "cell_type": "code",
   "execution_count": 58,
   "metadata": {},
   "outputs": [
    {
     "data": {
      "text/plain": [
       "['John', 'Susan', 'Mike']"
      ]
     },
     "execution_count": 58,
     "metadata": {},
     "output_type": "execute_result"
    }
   ],
   "source": [
    "re.findall('([A-Za-z]+) \\w+ \\d+ \\w+', my_string6) # just to pull out the names"
   ]
  },
  {
   "cell_type": "code",
   "execution_count": 59,
   "metadata": {},
   "outputs": [
    {
     "data": {
      "text/plain": [
       "['cats', 'dogs', 'fishes']"
      ]
     },
     "execution_count": 59,
     "metadata": {},
     "output_type": "execute_result"
    }
   ],
   "source": [
    "re.findall('[A-Za-z]+ \\w+ \\d+ (\\w+)', my_string6) # just to pull out the animals"
   ]
  },
  {
   "cell_type": "code",
   "execution_count": 61,
   "metadata": {},
   "outputs": [
    {
     "data": {
      "text/plain": [
       "[('John', '6', 'cats'), ('Susan', '3', 'dogs'), ('Mike', '8', 'fishes')]"
      ]
     },
     "execution_count": 61,
     "metadata": {},
     "output_type": "execute_result"
    }
   ],
   "source": [
    "re.findall('([A-Za-z]+) \\w+ (\\d+) (\\w+)', my_string6) # just to pull out the (names, numbers, animals)"
   ]
  },
  {
   "cell_type": "code",
   "execution_count": 62,
   "metadata": {},
   "outputs": [
    {
     "data": {
      "text/plain": [
       "[('John', '6', 'cats'), ('Susan', '3', 'dogs'), ('Mike', '8', 'fishes')]"
      ]
     },
     "execution_count": 62,
     "metadata": {},
     "output_type": "execute_result"
    }
   ],
   "source": [
    "info = re.findall('([A-Za-z]+) \\w+ (\\d+) (\\w+)', my_string6) # just to pull out the (names, numbers, animals)\n",
    "info"
   ]
  },
  {
   "cell_type": "code",
   "execution_count": 66,
   "metadata": {},
   "outputs": [
    {
     "name": "stdout",
     "output_type": "stream",
     "text": [
      "('John', '6', 'cats') ('Susan', '3', 'dogs') ('Mike', '8', 'fishes')\n"
     ]
    },
    {
     "data": {
      "text/plain": [
       "[('John', 'Susan', 'Mike'), ('6', '3', '8'), ('cats', 'dogs', 'fishes')]"
      ]
     },
     "execution_count": 66,
     "metadata": {},
     "output_type": "execute_result"
    }
   ],
   "source": [
    "print(*info)\n",
    "list(zip(*info))  # organize info by names, numbers and animals categories"
   ]
  },
  {
   "cell_type": "code",
   "execution_count": 102,
   "metadata": {},
   "outputs": [
    {
     "data": {
      "text/plain": [
       "[('John has 6 cats', 'John', '6', 'cats'),\n",
       " ('Susan has 3 dogs', 'Susan', '3', 'dogs'),\n",
       " ('Mike has 8 fishes', 'Mike', '8', 'fishes')]"
      ]
     },
     "execution_count": 102,
     "metadata": {},
     "output_type": "execute_result"
    }
   ],
   "source": [
    "# an example of a parent group and its child groups\n",
    "data = re.findall('(([A-Za-z]+) \\w+ (\\d+) (\\w+))', my_string6)\n",
    "data"
   ]
  },
  {
   "cell_type": "markdown",
   "metadata": {},
   "source": [
    "## Groups (In a RE) + search() -> match.group() and match.groups()"
   ]
  },
  {
   "cell_type": "markdown",
   "metadata": {},
   "source": [
    "Still following the same example:"
   ]
  },
  {
   "cell_type": "code",
   "execution_count": 2,
   "metadata": {},
   "outputs": [],
   "source": [
    "import re\n",
    "my_string6  = 'John has 6 cats but I think my friend Susan has 3 dogs and Mike has 8 fishes'"
   ]
  },
  {
   "cell_type": "code",
   "execution_count": 3,
   "metadata": {},
   "outputs": [
    {
     "data": {
      "text/plain": [
       "<re.Match object; span=(0, 15), match='John has 6 cats'>"
      ]
     },
     "execution_count": 3,
     "metadata": {},
     "output_type": "execute_result"
    }
   ],
   "source": [
    "match = re.search('([A-Za-z]+) \\w+ (\\d+) (\\w+)', my_string6) # finds the first match instance (due to search method call)\n",
    "match"
   ]
  },
  {
   "cell_type": "code",
   "execution_count": 72,
   "metadata": {},
   "outputs": [
    {
     "data": {
      "text/plain": [
       "'John has 6 cats'"
      ]
     },
     "execution_count": 72,
     "metadata": {},
     "output_type": "execute_result"
    }
   ],
   "source": [
    "match.group(0)  # outputs the first match instance"
   ]
  },
  {
   "cell_type": "code",
   "execution_count": 76,
   "metadata": {},
   "outputs": [
    {
     "data": {
      "text/plain": [
       "'John'"
      ]
     },
     "execution_count": 76,
     "metadata": {},
     "output_type": "execute_result"
    }
   ],
   "source": [
    "match.group(1)  # outputs the first group in the match instance"
   ]
  },
  {
   "cell_type": "code",
   "execution_count": 78,
   "metadata": {},
   "outputs": [
    {
     "data": {
      "text/plain": [
       "'6'"
      ]
     },
     "execution_count": 78,
     "metadata": {},
     "output_type": "execute_result"
    }
   ],
   "source": [
    "match.group(2)  # outputs the second group in the match instance"
   ]
  },
  {
   "cell_type": "code",
   "execution_count": 79,
   "metadata": {},
   "outputs": [
    {
     "data": {
      "text/plain": [
       "'cats'"
      ]
     },
     "execution_count": 79,
     "metadata": {},
     "output_type": "execute_result"
    }
   ],
   "source": [
    "match.group(3)  # outputs the third group in the match instance"
   ]
  },
  {
   "cell_type": "code",
   "execution_count": 82,
   "metadata": {},
   "outputs": [
    {
     "data": {
      "text/plain": [
       "('John', 'cats')"
      ]
     },
     "execution_count": 82,
     "metadata": {},
     "output_type": "execute_result"
    }
   ],
   "source": [
    "match.group(1, 3) # can pull out multiple groups in the match instance"
   ]
  },
  {
   "cell_type": "code",
   "execution_count": 4,
   "metadata": {},
   "outputs": [
    {
     "data": {
      "text/plain": [
       "('John', '6', 'cats')"
      ]
     },
     "execution_count": 4,
     "metadata": {},
     "output_type": "execute_result"
    }
   ],
   "source": [
    "match.groups()  # outputs the groups in the match instance (e.g. match.groups(0)) as a tuple (name, numbers, animals)"
   ]
  },
  {
   "cell_type": "markdown",
   "metadata": {},
   "source": [
    "## Groups (In a RE) + search() -> match.span()"
   ]
  },
  {
   "cell_type": "markdown",
   "metadata": {},
   "source": [
    "Still following the same example:"
   ]
  },
  {
   "cell_type": "code",
   "execution_count": 87,
   "metadata": {},
   "outputs": [],
   "source": [
    "import re\n",
    "my_string6  = 'John has 6 cats but I think my friend Susan has 3 dogs and Mike has 8 fishes'"
   ]
  },
  {
   "cell_type": "code",
   "execution_count": 88,
   "metadata": {},
   "outputs": [],
   "source": [
    "match = re.search('([A-Za-z]+) \\w+ (\\d+) (\\w+)', my_string6) # finds the first match instance (due to search method call)"
   ]
  },
  {
   "cell_type": "code",
   "execution_count": 96,
   "metadata": {},
   "outputs": [
    {
     "name": "stdout",
     "output_type": "stream",
     "text": [
      "John has 6 cats\n"
     ]
    },
    {
     "data": {
      "text/plain": [
       "(0, 15)"
      ]
     },
     "execution_count": 96,
     "metadata": {},
     "output_type": "execute_result"
    }
   ],
   "source": [
    "print(match.group(0))\n",
    "match.span(0) # returns a tuple (start_index, end_index) of match instance match.group(0)"
   ]
  },
  {
   "cell_type": "code",
   "execution_count": 95,
   "metadata": {},
   "outputs": [
    {
     "name": "stdout",
     "output_type": "stream",
     "text": [
      "John\n"
     ]
    },
    {
     "data": {
      "text/plain": [
       "(0, 4)"
      ]
     },
     "execution_count": 95,
     "metadata": {},
     "output_type": "execute_result"
    }
   ],
   "source": [
    "print(match.group(1))\n",
    "match.span(1) # returns a tuple (start_index, end_index) of match.group(1) "
   ]
  },
  {
   "cell_type": "code",
   "execution_count": 98,
   "metadata": {},
   "outputs": [
    {
     "name": "stdout",
     "output_type": "stream",
     "text": [
      "6\n"
     ]
    },
    {
     "data": {
      "text/plain": [
       "(9, 10)"
      ]
     },
     "execution_count": 98,
     "metadata": {},
     "output_type": "execute_result"
    }
   ],
   "source": [
    "print(match.group(2))\n",
    "match.span(2) # returns a tuple (start_index, end_index) of match.group(2) "
   ]
  },
  {
   "cell_type": "code",
   "execution_count": 100,
   "metadata": {},
   "outputs": [
    {
     "name": "stdout",
     "output_type": "stream",
     "text": [
      "cats\n"
     ]
    },
    {
     "data": {
      "text/plain": [
       "(11, 15)"
      ]
     },
     "execution_count": 100,
     "metadata": {},
     "output_type": "execute_result"
    }
   ],
   "source": [
    "print(match.group(3))\n",
    "match.span(3) # returns a tuple (start_index, end_index) of match.group(3)"
   ]
  },
  {
   "cell_type": "markdown",
   "metadata": {},
   "source": [
    "## re.finditer(pattern, string, flags) method"
   ]
  },
  {
   "cell_type": "markdown",
   "metadata": {},
   "source": [
    "So far we have seen:\n",
    "    - re.search(pattern, string, flags) :  returns a match object pointing at the first instance of the pattern\n",
    "    - re.findall(pattern, string, flags) : returns the all instances of the pattern"
   ]
  },
  {
   "cell_type": "markdown",
   "metadata": {},
   "source": [
    "re.finditer() method is somewhere between re.search() and re.findall(). It returns an iterator yielding a match object yielding the i.th instances of the pattern, where i is from one to the number of instances of the pattern."
   ]
  },
  {
   "cell_type": "markdown",
   "metadata": {},
   "source": [
    "Still following the same example:"
   ]
  },
  {
   "cell_type": "code",
   "execution_count": 3,
   "metadata": {},
   "outputs": [],
   "source": [
    "import re\n",
    "my_string6  = 'John has 6 cats but I think my friend Susan has 3 dogs and Mike has 8 fishes'"
   ]
  },
  {
   "cell_type": "code",
   "execution_count": 4,
   "metadata": {},
   "outputs": [],
   "source": [
    "iterator = re.finditer('([A-Za-z]+) \\w+ (\\d+) (\\w+)', my_string6)"
   ]
  },
  {
   "cell_type": "code",
   "execution_count": 5,
   "metadata": {},
   "outputs": [
    {
     "name": "stdout",
     "output_type": "stream",
     "text": [
      "John has 6 cats\n",
      "Susan has 3 dogs\n",
      "Mike has 8 fishes\n"
     ]
    }
   ],
   "source": [
    "for match in iterator: # iterators get exhausted\n",
    "    print(match.group(0))"
   ]
  },
  {
   "cell_type": "code",
   "execution_count": 6,
   "metadata": {},
   "outputs": [],
   "source": [
    "iterator = re.finditer('([A-Za-z]+) \\w+ (\\d+) (\\w+)', my_string6)"
   ]
  },
  {
   "cell_type": "code",
   "execution_count": 7,
   "metadata": {},
   "outputs": [
    {
     "name": "stdout",
     "output_type": "stream",
     "text": [
      "('John', '6', 'cats')\n",
      "('Susan', '3', 'dogs')\n",
      "('Mike', '8', 'fishes')\n"
     ]
    }
   ],
   "source": [
    "for match in iterator: # iterators get exhausted\n",
    "    print(match.group(1, 2, 3))"
   ]
  },
  {
   "cell_type": "code",
   "execution_count": 8,
   "metadata": {},
   "outputs": [],
   "source": [
    "iterator = re.finditer('([A-Za-z]+) \\w+ (\\d+) (\\w+)', my_string6)"
   ]
  },
  {
   "cell_type": "code",
   "execution_count": 9,
   "metadata": {},
   "outputs": [
    {
     "name": "stdout",
     "output_type": "stream",
     "text": [
      "('John', '6', 'cats')\n",
      "('Susan', '3', 'dogs')\n",
      "('Mike', '8', 'fishes')\n"
     ]
    }
   ],
   "source": [
    "for match in iterator: # iterators get exhausted\n",
    "    print(match.groups())"
   ]
  },
  {
   "cell_type": "markdown",
   "metadata": {},
   "source": [
    "## (In a RE) Naming groups"
   ]
  },
  {
   "cell_type": "markdown",
   "metadata": {},
   "source": [
    "Below given an example, where we repeat a group twice:"
   ]
  },
  {
   "cell_type": "code",
   "execution_count": 7,
   "metadata": {},
   "outputs": [],
   "source": [
    "import re\n",
    "\n",
    "#              state     city    zipcode\n",
    "my_string7 = 'New York, New York 11369'\n",
    "\n",
    "# ([A-Za-z\\s]+)  --> 1.st New York\n",
    "# ([A-Za-z\\s]+)  --> 2.nd New York\n",
    "#(\\d+)           --> 11369  "
   ]
  },
  {
   "cell_type": "code",
   "execution_count": 118,
   "metadata": {},
   "outputs": [],
   "source": [
    "match = re.search('([A-Za-z\\s]+), ([A-Za-z\\s]+) (\\d+)', my_string7)"
   ]
  },
  {
   "cell_type": "code",
   "execution_count": 119,
   "metadata": {},
   "outputs": [
    {
     "data": {
      "text/plain": [
       "('New York', 'New York', '11369', 'New York, New York 11369')"
      ]
     },
     "execution_count": 119,
     "metadata": {},
     "output_type": "execute_result"
    }
   ],
   "source": [
    "match.group(1), match.group(2), match.group(3), match.group(0)"
   ]
  },
  {
   "cell_type": "markdown",
   "metadata": {},
   "source": [
    "If we have many groups like above, no need to memorize the group indexes and group names."
   ]
  },
  {
   "cell_type": "markdown",
   "metadata": {},
   "source": [
    "We can name each group using the following syntax:"
   ]
  },
  {
   "cell_type": "raw",
   "metadata": {},
   "source": [
    "?P< >  # to name a group, group name inside < > followed by the RE for the group"
   ]
  },
  {
   "cell_type": "code",
   "execution_count": null,
   "metadata": {},
   "outputs": [],
   "source": [
    "(?P<City>RE_city)      (?P<State>RE_state)    (?P<ZipCode>RE_zipcode)   # lets finalize this"
   ]
  },
  {
   "cell_type": "code",
   "execution_count": 8,
   "metadata": {},
   "outputs": [
    {
     "data": {
      "text/plain": [
       "('New York', 'New York', '11369')"
      ]
     },
     "execution_count": 8,
     "metadata": {},
     "output_type": "execute_result"
    }
   ],
   "source": [
    "pattern = re.compile('(?P<City>[A-Za-z\\s]+), (?P<State>[A-Za-z\\s]+) (?P<ZipCode>\\d+)')\n",
    "\n",
    "match = re.search(pattern, my_string7)\n",
    "\n",
    "match.group('State'), match.group('City'), match.group('ZipCode') "
   ]
  },
  {
   "cell_type": "code",
   "execution_count": 125,
   "metadata": {},
   "outputs": [
    {
     "data": {
      "text/plain": [
       "'New York'"
      ]
     },
     "execution_count": 125,
     "metadata": {},
     "output_type": "execute_result"
    }
   ],
   "source": [
    "match.group(1)"
   ]
  },
  {
   "cell_type": "code",
   "execution_count": 126,
   "metadata": {},
   "outputs": [
    {
     "data": {
      "text/plain": [
       "('New York', 'New York', '11369')"
      ]
     },
     "execution_count": 126,
     "metadata": {},
     "output_type": "execute_result"
    }
   ],
   "source": [
    "match.groups()"
   ]
  },
  {
   "cell_type": "markdown",
   "metadata": {},
   "source": [
    "If you ask yourself what does 11369 represent, then use match.groupdict()"
   ]
  },
  {
   "cell_type": "code",
   "execution_count": 9,
   "metadata": {},
   "outputs": [
    {
     "data": {
      "text/plain": [
       "{'City': 'New York', 'State': 'New York', 'ZipCode': '11369'}"
      ]
     },
     "execution_count": 9,
     "metadata": {},
     "output_type": "execute_result"
    }
   ],
   "source": [
    "match.groupdict()  # returns a dictionary where each key represents a group name and each value represents\n",
    "                   # the corresponding group match"
   ]
  },
  {
   "cell_type": "markdown",
   "metadata": {},
   "source": [
    "## (in a RE) Quantifiers on Groups with search()"
   ]
  },
  {
   "cell_type": "markdown",
   "metadata": {},
   "source": [
    "Given the following example:"
   ]
  },
  {
   "cell_type": "code",
   "execution_count": 11,
   "metadata": {},
   "outputs": [],
   "source": [
    "import re\n",
    "my_string8 = 'abababababab'  # ab repeated many times"
   ]
  },
  {
   "cell_type": "code",
   "execution_count": 14,
   "metadata": {},
   "outputs": [
    {
     "data": {
      "text/plain": [
       "<re.Match object; span=(0, 12), match='abababababab'>"
      ]
     },
     "execution_count": 14,
     "metadata": {},
     "output_type": "execute_result"
    }
   ],
   "source": [
    "# ab in the group must match as a whole\n",
    "re.search('(ab)+', my_string8)  # find the repetition of ab 1 or more times "
   ]
  },
  {
   "cell_type": "code",
   "execution_count": 16,
   "metadata": {},
   "outputs": [
    {
     "data": {
      "text/plain": [
       "<re.Match object; span=(0, 12), match='abababababab'>"
      ]
     },
     "execution_count": 16,
     "metadata": {},
     "output_type": "execute_result"
    }
   ],
   "source": [
    "# find the metacharacter representing the set [ab] 1 or more times\n",
    "re.search('[ab]+', my_string8) # a or b must be matched"
   ]
  },
  {
   "cell_type": "code",
   "execution_count": 18,
   "metadata": {},
   "outputs": [
    {
     "name": "stdout",
     "output_type": "stream",
     "text": [
      "<re.Match object; span=(0, 6), match='ababab'>\n",
      "<re.Match object; span=(0, 13), match='abababbbbbbbb'>\n"
     ]
    }
   ],
   "source": [
    "# difference between (ab)+ and [ab]+  shown below:\n",
    "my_string9 = 'abababbbbbbbb'\n",
    "print(re.search('(ab)+', my_string9))\n",
    "print(re.search('[ab]+', my_string9))"
   ]
  },
  {
   "cell_type": "markdown",
   "metadata": {},
   "source": [
    "If you have a string with two parts: one part repeating a pattern\n",
    "and the second part can hold any random string, then you can put that\n",
    "repeating pattern in a group and the random string in \\w+:"
   ]
  },
  {
   "cell_type": "code",
   "execution_count": 19,
   "metadata": {},
   "outputs": [
    {
     "data": {
      "text/plain": [
       "<re.Match object; span=(0, 13), match='abababbbbbbbb'>"
      ]
     },
     "execution_count": 19,
     "metadata": {},
     "output_type": "execute_result"
    }
   ],
   "source": [
    "my_string9 = 'abababbbbbbbb'\n",
    "re.search('(ab)+\\w+', my_string9)"
   ]
  },
  {
   "cell_type": "raw",
   "metadata": {},
   "source": [
    "NOTE: When you use quantifier with a group, you do not declare multiple groups in your pattern, you only have one group:"
   ]
  },
  {
   "cell_type": "code",
   "execution_count": null,
   "metadata": {},
   "outputs": [],
   "source": [
    "import re\n",
    "my_string8 = 'abababababab'  # ab repeated many times"
   ]
  },
  {
   "cell_type": "code",
   "execution_count": 22,
   "metadata": {},
   "outputs": [
    {
     "data": {
      "text/plain": [
       "'abababababab'"
      ]
     },
     "execution_count": 22,
     "metadata": {},
     "output_type": "execute_result"
    }
   ],
   "source": [
    "match = re.search('(ab)+', my_string8)\n",
    "match.group(0) # pulls out the entire match instance"
   ]
  },
  {
   "cell_type": "code",
   "execution_count": 23,
   "metadata": {},
   "outputs": [
    {
     "data": {
      "text/plain": [
       "'ab'"
      ]
     },
     "execution_count": 23,
     "metadata": {},
     "output_type": "execute_result"
    }
   ],
   "source": [
    "# we only have 1 group, whose value gets overwritten\n",
    "match.group(1)"
   ]
  },
  {
   "cell_type": "code",
   "execution_count": 24,
   "metadata": {},
   "outputs": [
    {
     "ename": "IndexError",
     "evalue": "no such group",
     "output_type": "error",
     "traceback": [
      "\u001b[0;31m---------------------------------------------------------------------------\u001b[0m",
      "\u001b[0;31mIndexError\u001b[0m                                Traceback (most recent call last)",
      "\u001b[0;32m<ipython-input-24-9b0d9a0db853>\u001b[0m in \u001b[0;36m<module>\u001b[0;34m\u001b[0m\n\u001b[1;32m      1\u001b[0m \u001b[0;31m# we only have 1 group\u001b[0m\u001b[0;34m\u001b[0m\u001b[0;34m\u001b[0m\u001b[0;34m\u001b[0m\u001b[0m\n\u001b[0;32m----> 2\u001b[0;31m \u001b[0mmatch\u001b[0m\u001b[0;34m.\u001b[0m\u001b[0mgroup\u001b[0m\u001b[0;34m(\u001b[0m\u001b[0;36m2\u001b[0m\u001b[0;34m)\u001b[0m\u001b[0;34m\u001b[0m\u001b[0;34m\u001b[0m\u001b[0m\n\u001b[0m",
      "\u001b[0;31mIndexError\u001b[0m: no such group"
     ]
    }
   ],
   "source": [
    "# we only have 1 group\n",
    "match.group(2)"
   ]
  },
  {
   "cell_type": "code",
   "execution_count": 11,
   "metadata": {},
   "outputs": [
    {
     "name": "stdout",
     "output_type": "stream",
     "text": [
      "ab (8, 10)\n",
      "ab (10, 12)\n"
     ]
    }
   ],
   "source": [
    "# Multiple groups with quantifiers\n",
    "my_string8 = 'abababababab'                  # ab repeated many times\n",
    "match = re.search('(ab)+(ab)+', my_string8)  # first group is greedy, second group is minimal\n",
    "print(match.group(1), match.span(1))         # first group is greedy\n",
    "print(match.group(2), match.span(2))         # second group is minimal"
   ]
  },
  {
   "cell_type": "code",
   "execution_count": 33,
   "metadata": {},
   "outputs": [
    {
     "name": "stdout",
     "output_type": "stream",
     "text": [
      "<re.Match object; span=(0, 9), match='123456789'>\n",
      "('9',)\n",
      "9\n"
     ]
    }
   ],
   "source": [
    "# Example of defining 1 group\n",
    "my_string10= '123456789'\n",
    "match = re.search('(\\d)+', my_string10)\n",
    "print(match)\n",
    "print(match.groups())\n",
    "print(match.group(1))"
   ]
  },
  {
   "cell_type": "code",
   "execution_count": 35,
   "metadata": {},
   "outputs": [
    {
     "name": "stdout",
     "output_type": "stream",
     "text": [
      "<re.Match object; span=(0, 3), match='123'>\n",
      "('1', '2', '3')\n",
      "1\n",
      "2\n",
      "3\n"
     ]
    }
   ],
   "source": [
    "# Example of defining 3 groups\n",
    "my_string10= '123456789'\n",
    "match = re.search('(\\d)(\\d)(\\d)', my_string10)\n",
    "print(match)\n",
    "print(match.groups())\n",
    "print(match.group(1))\n",
    "print(match.group(2))\n",
    "print(match.group(3))"
   ]
  },
  {
   "cell_type": "code",
   "execution_count": 36,
   "metadata": {},
   "outputs": [
    {
     "name": "stdout",
     "output_type": "stream",
     "text": [
      "<re.Match object; span=(0, 3), match='123'>\n",
      "('1', '2', '3')\n",
      "1\n",
      "2\n",
      "3\n",
      "<re.Match object; span=(3, 6), match='456'>\n",
      "('4', '5', '6')\n",
      "4\n",
      "5\n",
      "6\n",
      "<re.Match object; span=(6, 9), match='789'>\n",
      "('7', '8', '9')\n",
      "7\n",
      "8\n",
      "9\n"
     ]
    }
   ],
   "source": [
    "# Example of defining 3 groups with finditer()\n",
    "my_string10= '123456789'\n",
    "iterator = re.finditer('(\\d)(\\d)(\\d)', my_string10)\n",
    "for match in iterator:\n",
    "    print(match)\n",
    "    print(match.groups())\n",
    "    print(match.group(1))\n",
    "    print(match.group(2))\n",
    "    print(match.group(3))"
   ]
  },
  {
   "cell_type": "markdown",
   "metadata": {},
   "source": [
    "# (In a RE) Quantifiers with groups with findall()"
   ]
  },
  {
   "cell_type": "code",
   "execution_count": 41,
   "metadata": {},
   "outputs": [
    {
     "data": {
      "text/plain": [
       "['9']"
      ]
     },
     "execution_count": 41,
     "metadata": {},
     "output_type": "execute_result"
    }
   ],
   "source": [
    "import re\n",
    "my_string10= '123456789'\n",
    "\n",
    "# The entire string is an instance of the pattern\n",
    "# When we use quantifiers on groups, we only get the final value on the instance(s)\n",
    "re.findall('(\\d)+', my_string10)"
   ]
  },
  {
   "cell_type": "code",
   "execution_count": 47,
   "metadata": {},
   "outputs": [
    {
     "name": "stdout",
     "output_type": "stream",
     "text": [
      "['4', '9']\n",
      "[('1234', '4'), ('56789', '9')]\n"
     ]
    }
   ],
   "source": [
    "# 1234 is an instance of the pattern\n",
    "# 56789 is an instance of the pattern\n",
    "my_string11= '1234 56789'\n",
    "# When we use quantifiers on groups, we only get the group's final value on the instances\n",
    "print(re.findall('(\\d)+', my_string11))\n",
    "\n",
    "# if we want to find the instances 1234 and 56789,\n",
    "# then we create a parent group around (\\d)+\n",
    "print(re.findall('((\\d)+)', my_string11))"
   ]
  },
  {
   "cell_type": "code",
   "execution_count": 49,
   "metadata": {},
   "outputs": [
    {
     "name": "stdout",
     "output_type": "stream",
     "text": [
      "['ab', 'ab']\n",
      "[('ab', 'ab'), ('ababababab', 'ab')]\n"
     ]
    }
   ],
   "source": [
    "# another example\n",
    "my_string12 = 'abbbbb ababababab'\n",
    "# ab is the first instance of the pattern\n",
    "# ababababab is the second instance of the pattern\n",
    "# pattern has capturing group with a quantifier +, so we get the group's final value on the instances\n",
    "print(re.findall('(ab)+', my_string12))\n",
    "\n",
    "# We have a capturing parent group around (ab)+, that means one or more ab\n",
    "# will be captured in the parent group\n",
    "# child group (ab) will capture only ab as before\n",
    "print(re.findall('((ab)+)', my_string12))"
   ]
  },
  {
   "cell_type": "markdown",
   "metadata": {},
   "source": [
    "## Groups for word completion"
   ]
  },
  {
   "cell_type": "code",
   "execution_count": 55,
   "metadata": {},
   "outputs": [
    {
     "name": "stdout",
     "output_type": "stream",
     "text": [
      "<re.Match object; span=(0, 14), match='Happy Birthday'>\n",
      "Happy Birthday\n",
      "Birthday\n",
      "('Birthday',)\n"
     ]
    }
   ],
   "source": [
    "match = re.search('Happy (Valentines|Birthday|Anniversary)', 'Happy Birthday')\n",
    "print(match)\n",
    "print(match.group(0))\n",
    "print(match.group(1))\n",
    "print(match.groups())"
   ]
  },
  {
   "cell_type": "code",
   "execution_count": 60,
   "metadata": {},
   "outputs": [
    {
     "name": "stdout",
     "output_type": "stream",
     "text": [
      "<re.Match object; span=(0, 16), match='Happy Valentines'>\n",
      "Happy Valentines\n",
      "Valentines\n",
      "('Valentines',)\n"
     ]
    }
   ],
   "source": [
    "pattern = 'Happy (Valentines|Birthday|Anniversary)'\n",
    "match = re.search(pattern, 'Happy Valentines')\n",
    "print(match)\n",
    "print(match.group(0))\n",
    "print(match.group(1))\n",
    "print(match.groups())"
   ]
  },
  {
   "cell_type": "code",
   "execution_count": 62,
   "metadata": {},
   "outputs": [
    {
     "name": "stdout",
     "output_type": "stream",
     "text": [
      "<re.Match object; span=(0, 16), match='Happy Valentines'>\n",
      "Happy Valentines\n",
      "()\n"
     ]
    }
   ],
   "source": [
    "# the longer version of the same pattern:\n",
    "pattern = 'Happy Valentines|Happy Birthday|Happy Anniversary'\n",
    "match = re.search(pattern, 'Happy Valentines')\n",
    "print(match)\n",
    "print(match.group(0))\n",
    "print(match.groups())"
   ]
  },
  {
   "cell_type": "markdown",
   "metadata": {},
   "source": [
    "## Capturing vs Non-Capturing Groups"
   ]
  },
  {
   "cell_type": "markdown",
   "metadata": {},
   "source": [
    "All the groups we saw so far are capturing groups meaning they output the instances that match the group. Example:"
   ]
  },
  {
   "cell_type": "code",
   "execution_count": 66,
   "metadata": {},
   "outputs": [
    {
     "name": "stdout",
     "output_type": "stream",
     "text": [
      "['4', '9']\n",
      "('4',)\n"
     ]
    }
   ],
   "source": [
    "# Capturing groups\n",
    "import re\n",
    "string11 = '1234 56789'\n",
    "\n",
    "# with capturing groups:\n",
    "# 1. Find the instance(s) of the whole pattern (i.e. 1234 and 56789)\n",
    "# 2. In each instance, find the group(s) and output the groups (bcoz groups are capturing)\n",
    "print(re.findall('(\\d)+', string11))\n",
    "print(re.search('(\\d)+',string11).groups())"
   ]
  },
  {
   "cell_type": "raw",
   "metadata": {},
   "source": [
    "?: represents non-capturing groups (whereas ?P represents naming the groups)"
   ]
  },
  {
   "cell_type": "code",
   "execution_count": 12,
   "metadata": {},
   "outputs": [
    {
     "name": "stdout",
     "output_type": "stream",
     "text": [
      "['4', '9']\n",
      "['1234', '56789']\n"
     ]
    }
   ],
   "source": [
    "# comparing capturing vs non-capturing groups\n",
    "string11 = '1234 56789'\n",
    "# with capturing groups:\n",
    "# 1. Find the instance(s) of the whole pattern (i.e. 1234 and 56789)\n",
    "# 2. In each instance, find the group(s) and output the groups (bcoz groups are capturing)\n",
    "print(re.findall('(\\d)+', string11))\n",
    "\n",
    "# with non-capturing groups:\n",
    "# 1. Find the instance(s) of the whole pattern\n",
    "# 2. Output each instance as is (bcoz groups are non-capturing)\n",
    "print(re.findall('(?:\\d)+', string11))  # with ?: non-capturing group, findall() does not output the group instance\n",
    "                                        # but the whole pattern instance"
   ]
  },
  {
   "cell_type": "code",
   "execution_count": 15,
   "metadata": {},
   "outputs": [
    {
     "data": {
      "text/plain": [
       "['Alex', 'Danny', 'Mike']"
      ]
     },
     "execution_count": 15,
     "metadata": {},
     "output_type": "execute_result"
    }
   ],
   "source": [
    "# Another example to use non-capturing groups\n",
    "string12 = '123123 = Alex, 123123123 = Danny, 123123123123 = Mike, 456456 = Rick, 121212 = Josh, 132132 = Ellen'\n",
    "# We want to pull out all names whose ID has 123 within\n",
    "re.findall('(?:123)+ = ([A-Za-z]+)', string12)"
   ]
  },
  {
   "cell_type": "code",
   "execution_count": 18,
   "metadata": {},
   "outputs": [
    {
     "data": {
      "text/plain": [
       "['1*1*1*1*22222', '1*1*3333']"
      ]
     },
     "execution_count": 18,
     "metadata": {},
     "output_type": "execute_result"
    }
   ],
   "source": [
    "string13 = '1*1*1*1*22222   1*1*3333  2*1*2*1*222    1*2*2*2*333    3*3*3*444'\n",
    "# We are looking for two or more 1* followed by one or more numbers\n",
    "re.findall(r'(?:1\\*){2,}\\d+', string13)"
   ]
  },
  {
   "cell_type": "code",
   "execution_count": 21,
   "metadata": {},
   "outputs": [
    {
     "name": "stdout",
     "output_type": "stream",
     "text": [
      "<re.Match object; span=(0, 4), match='1234'>\n",
      "()\n"
     ]
    }
   ],
   "source": [
    "# Non-capturing groups not only affects .findall() but it also affects .search() and match methods\n",
    "string13 = '1234 56789'\n",
    "match = re.search(r'(?:\\d)+', string13)  # ?:  non-capturing group\n",
    "print(match)\n",
    "print(match.groups())"
   ]
  },
  {
   "cell_type": "markdown",
   "metadata": {},
   "source": [
    "## Backreferences Using Capturing Groups Within The Pattern"
   ]
  },
  {
   "cell_type": "markdown",
   "metadata": {},
   "source": [
    "Backreferencing is making a reference to a capturing group instance within the pattern. \n",
    "Examples:"
   ]
  },
  {
   "cell_type": "code",
   "execution_count": 24,
   "metadata": {},
   "outputs": [
    {
     "name": "stdout",
     "output_type": "stream",
     "text": [
      "<re.Match object; span=(0, 11), match='Merry Merry'>\n",
      "('Merry',)\n"
     ]
    }
   ],
   "source": [
    "# \\1 means the first capturing group instance\n",
    "match = re.search(r'(\\w+) \\1', 'Merry Merry Xmas')\n",
    "print(match)\n",
    "print(match.groups())"
   ]
  },
  {
   "cell_type": "code",
   "execution_count": 25,
   "metadata": {},
   "outputs": [
    {
     "name": "stdout",
     "output_type": "stream",
     "text": [
      "None\n"
     ]
    },
    {
     "ename": "AttributeError",
     "evalue": "'NoneType' object has no attribute 'groups'",
     "output_type": "error",
     "traceback": [
      "\u001b[0;31m---------------------------------------------------------------------------\u001b[0m",
      "\u001b[0;31mAttributeError\u001b[0m                            Traceback (most recent call last)",
      "\u001b[0;32m<ipython-input-25-b1effc44ce5e>\u001b[0m in \u001b[0;36m<module>\u001b[0;34m\u001b[0m\n\u001b[1;32m      2\u001b[0m \u001b[0mmatch\u001b[0m \u001b[0;34m=\u001b[0m \u001b[0mre\u001b[0m\u001b[0;34m.\u001b[0m\u001b[0msearch\u001b[0m\u001b[0;34m(\u001b[0m\u001b[0;34mr'(\\w+) \\1'\u001b[0m\u001b[0;34m,\u001b[0m \u001b[0;34m'Merry Sausage Xmas'\u001b[0m\u001b[0;34m)\u001b[0m\u001b[0;34m\u001b[0m\u001b[0;34m\u001b[0m\u001b[0m\n\u001b[1;32m      3\u001b[0m \u001b[0mprint\u001b[0m\u001b[0;34m(\u001b[0m\u001b[0mmatch\u001b[0m\u001b[0;34m)\u001b[0m\u001b[0;34m\u001b[0m\u001b[0;34m\u001b[0m\u001b[0m\n\u001b[0;32m----> 4\u001b[0;31m \u001b[0mprint\u001b[0m\u001b[0;34m(\u001b[0m\u001b[0mmatch\u001b[0m\u001b[0;34m.\u001b[0m\u001b[0mgroups\u001b[0m\u001b[0;34m(\u001b[0m\u001b[0;34m)\u001b[0m\u001b[0;34m)\u001b[0m\u001b[0;34m\u001b[0m\u001b[0;34m\u001b[0m\u001b[0m\n\u001b[0m",
      "\u001b[0;31mAttributeError\u001b[0m: 'NoneType' object has no attribute 'groups'"
     ]
    }
   ],
   "source": [
    "# \\1 means the first capturing group instance\n",
    "match = re.search(r'(\\w+) \\1', 'Merry Sausage Xmas') # Group instance Merry is not repeated 2.nd time; \n",
    "print(match)\n",
    "print(match.groups())"
   ]
  },
  {
   "cell_type": "markdown",
   "metadata": {},
   "source": [
    "NOTE: Where to use backreferences? If you want to check repeated words in a text"
   ]
  },
  {
   "cell_type": "markdown",
   "metadata": {},
   "source": [
    "Using backreferencing in .findall(). Continuing on the previous example:"
   ]
  },
  {
   "cell_type": "code",
   "execution_count": 27,
   "metadata": {},
   "outputs": [
    {
     "data": {
      "text/plain": [
       "['Merry', 'XMas', 'Merry']"
      ]
     },
     "execution_count": 27,
     "metadata": {},
     "output_type": "execute_result"
    }
   ],
   "source": [
    "re.findall(r'(\\w+) \\1', 'Merry Merry XMas, Merry XMas XMas, Merry Merry XMas')"
   ]
  },
  {
   "cell_type": "markdown",
   "metadata": {},
   "source": [
    "## ^ (at beginning of a string)         $ (at end of a string)"
   ]
  },
  {
   "cell_type": "code",
   "execution_count": 41,
   "metadata": {},
   "outputs": [
    {
     "name": "stdout",
     "output_type": "stream",
     "text": [
      "Lorem ipsum dolor sit amet, consectetur adipiscing elit, \n",
      "sed do eiusmod tempor incididunt ut labore et dolore magna aliqua. \n",
      "Dignissim cras tincidunt lobortis feugiat.\n",
      "Mattis nunc sed blandit libero volutpat sed cras ornare. \n",
      "Purus ut faucibus pulvinar elementum integer enim neque volutpat ac. \n",
      "purus faucibus ornare suspendisse sed nisi lacus. \n",
      "Consequat nisl vel pretium lectus quam id leo in vitae. \n",
      "Viverra justo nec ultrices dui sapien eget mi proin. \n",
      "Morbi tristique senectus et netus et malesuada fames ac. \n",
      "Amet nulla facilisi morbi tempus iaculis urna id volutpat lacus. \n",
      "In tellus integer feugiat scelerisque.\n"
     ]
    }
   ],
   "source": [
    "import re\n",
    "\n",
    "string14 = \"\"\"Lorem ipsum dolor sit amet, consectetur adipiscing elit, \n",
    "sed do eiusmod tempor incididunt ut labore et dolore magna aliqua. \n",
    "Dignissim cras tincidunt lobortis feugiat.\n",
    "Mattis nunc sed blandit libero volutpat sed cras ornare. \n",
    "Purus ut faucibus pulvinar elementum integer enim neque volutpat ac. \n",
    "purus faucibus ornare suspendisse sed nisi lacus. \n",
    "Consequat nisl vel pretium lectus quam id leo in vitae. \n",
    "Viverra justo nec ultrices dui sapien eget mi proin. \n",
    "Morbi tristique senectus et netus et malesuada fames ac. \n",
    "Amet nulla facilisi morbi tempus iaculis urna id volutpat lacus. \n",
    "In tellus integer feugiat scelerisque.\"\"\"\n",
    "\n",
    "print(string14)"
   ]
  },
  {
   "cell_type": "raw",
   "metadata": {},
   "source": [
    "^ = matches at the beginning of strings\n",
    "$ = matches at the end of string"
   ]
  },
  {
   "cell_type": "code",
   "execution_count": 30,
   "metadata": {},
   "outputs": [
    {
     "data": {
      "text/plain": [
       "<re.Match object; span=(0, 11), match='Lorem ipsum'>"
      ]
     },
     "execution_count": 30,
     "metadata": {},
     "output_type": "execute_result"
    }
   ],
   "source": [
    "re.search('^Lorem ipsum', string14)"
   ]
  },
  {
   "cell_type": "code",
   "execution_count": 32,
   "metadata": {},
   "outputs": [
    {
     "data": {
      "text/plain": [
       "<re.Match object; span=(0, 11), match='Lorem ipsum'>"
      ]
     },
     "execution_count": 32,
     "metadata": {},
     "output_type": "execute_result"
    }
   ],
   "source": [
    "re.match('Lorem ipsum', string14)"
   ]
  },
  {
   "cell_type": "code",
   "execution_count": 34,
   "metadata": {},
   "outputs": [
    {
     "data": {
      "text/plain": [
       "<re.Match object; span=(592, 612), match='feugiat scelerisque.'>"
      ]
     },
     "execution_count": 34,
     "metadata": {},
     "output_type": "execute_result"
    }
   ],
   "source": [
    "re.search('feugiat scelerisque\\.$', string14)"
   ]
  },
  {
   "cell_type": "markdown",
   "metadata": {},
   "source": [
    "## FLAGS : re.MULTILINE  : re.M"
   ]
  },
  {
   "cell_type": "code",
   "execution_count": 37,
   "metadata": {},
   "outputs": [
    {
     "data": {
      "text/plain": [
       "<re.Match object; span=(227, 235), match='Purus ut'>"
      ]
     },
     "execution_count": 37,
     "metadata": {},
     "output_type": "execute_result"
    }
   ],
   "source": [
    "re.search('^Purus ut', string14, flags = re.MULTILINE)"
   ]
  },
  {
   "cell_type": "markdown",
   "metadata": {},
   "source": [
    "## FLAGS : re.IGNORECASE : re.I"
   ]
  },
  {
   "cell_type": "code",
   "execution_count": 42,
   "metadata": {},
   "outputs": [
    {
     "data": {
      "text/plain": [
       "['Purus', 'purus']"
      ]
     },
     "execution_count": 42,
     "metadata": {},
     "output_type": "execute_result"
    }
   ],
   "source": [
    "re.findall('purus', string14, flags = re.I)"
   ]
  },
  {
   "cell_type": "markdown",
   "metadata": {},
   "source": [
    "## FLAGS : re.DOTALL used with ."
   ]
  },
  {
   "cell_type": "code",
   "execution_count": 45,
   "metadata": {},
   "outputs": [
    {
     "name": "stdout",
     "output_type": "stream",
     "text": [
      "Lorem ipsum dolor sit amet, consectetur adipiscing elit, \n",
      "sed do eiusmod tempor incididunt ut labore et dolore magna aliqua. \n",
      "Dignissim cras tincidunt lobortis feugiat.\n",
      "Mattis nunc sed blandit libero volutpat sed cras ornare. \n",
      "Purus ut faucibus pulvinar elementum integer enim neque volutpat ac. \n",
      "purus faucibus ornare suspendisse sed nisi lacus. \n",
      "Consequat nisl vel pretium lectus quam id leo in vitae. \n",
      "Viverra justo nec ultrices dui sapien eget mi proin. \n",
      "Morbi tristique senectus et netus et malesuada fames ac. \n",
      "Amet nulla facilisi morbi tempus iaculis urna id volutpat lacus. \n",
      "In tellus integer feugiat scelerisque.\n"
     ]
    }
   ],
   "source": [
    "string14 = \"\"\"Lorem ipsum dolor sit amet, consectetur adipiscing elit, \n",
    "sed do eiusmod tempor incididunt ut labore et dolore magna aliqua. \n",
    "Dignissim cras tincidunt lobortis feugiat.\n",
    "Mattis nunc sed blandit libero volutpat sed cras ornare. \n",
    "Purus ut faucibus pulvinar elementum integer enim neque volutpat ac. \n",
    "purus faucibus ornare suspendisse sed nisi lacus. \n",
    "Consequat nisl vel pretium lectus quam id leo in vitae. \n",
    "Viverra justo nec ultrices dui sapien eget mi proin. \n",
    "Morbi tristique senectus et netus et malesuada fames ac. \n",
    "Amet nulla facilisi morbi tempus iaculis urna id volutpat lacus. \n",
    "In tellus integer feugiat scelerisque.\"\"\"\n",
    "\n",
    "print(string14)"
   ]
  },
  {
   "cell_type": "code",
   "execution_count": 46,
   "metadata": {},
   "outputs": [
    {
     "data": {
      "text/plain": [
       "'Lorem ipsum dolor sit amet, consectetur adipiscing elit, '"
      ]
     },
     "execution_count": 46,
     "metadata": {},
     "output_type": "execute_result"
    }
   ],
   "source": [
    "re.match('.*', string14).group(0)"
   ]
  },
  {
   "cell_type": "code",
   "execution_count": 48,
   "metadata": {},
   "outputs": [
    {
     "data": {
      "text/plain": [
       "'Lorem ipsum dolor sit amet, consectetur adipiscing elit, \\nsed do eiusmod tempor incididunt ut labore et dolore magna aliqua. \\nDignissim cras tincidunt lobortis feugiat.\\nMattis nunc sed blandit libero volutpat sed cras ornare. \\nPurus ut faucibus pulvinar elementum integer enim neque volutpat ac. \\npurus faucibus ornare suspendisse sed nisi lacus. \\nConsequat nisl vel pretium lectus quam id leo in vitae. \\nViverra justo nec ultrices dui sapien eget mi proin. \\nMorbi tristique senectus et netus et malesuada fames ac. \\nAmet nulla facilisi morbi tempus iaculis urna id volutpat lacus. \\nIn tellus integer feugiat scelerisque.'"
      ]
     },
     "execution_count": 48,
     "metadata": {},
     "output_type": "execute_result"
    }
   ],
   "source": [
    "re.match('.*', string14, flags = re.DOTALL).group(0)  # note the \\n characters in the string"
   ]
  },
  {
   "cell_type": "markdown",
   "metadata": {},
   "source": [
    "## re methods : re.split"
   ]
  },
  {
   "cell_type": "code",
   "execution_count": 3,
   "metadata": {},
   "outputs": [],
   "source": [
    "string15 = 'Today is sunny. I want to go to the park. I want to eat ice cream.'"
   ]
  },
  {
   "cell_type": "code",
   "execution_count": 51,
   "metadata": {},
   "outputs": [
    {
     "data": {
      "text/plain": [
       "['Today is sunny', ' I want to go to the park', ' I want to eat ice cream', '']"
      ]
     },
     "execution_count": 51,
     "metadata": {},
     "output_type": "execute_result"
    }
   ],
   "source": [
    "re.split('\\.', string15)  # re.split returns a list"
   ]
  },
  {
   "cell_type": "markdown",
   "metadata": {},
   "source": [
    "We can get the similar result with findall()"
   ]
  },
  {
   "cell_type": "code",
   "execution_count": 4,
   "metadata": {},
   "outputs": [
    {
     "data": {
      "text/plain": [
       "['Today is sunny', ' I want to go to the park', ' I want to eat ice cream']"
      ]
     },
     "execution_count": 4,
     "metadata": {},
     "output_type": "execute_result"
    }
   ],
   "source": [
    "import re\n",
    "re.findall('([A-Za-z ]+)(?:\\.)', string15)  # note that split() has simpler pattern"
   ]
  },
  {
   "cell_type": "code",
   "execution_count": 11,
   "metadata": {},
   "outputs": [
    {
     "data": {
      "text/plain": [
       "['Today is sunny.',\n",
       " ' I want to go to the park.',\n",
       " ' I want to eat ice cream.',\n",
       " '.']"
      ]
     },
     "execution_count": 11,
     "metadata": {},
     "output_type": "execute_result"
    }
   ],
   "source": [
    "# Referring to the previous split example, if we want to include the split character . in the outcome:\n",
    "split_char = '.'\n",
    "[i+split_char for i in re.split('\\.', string15)]\n"
   ]
  },
  {
   "cell_type": "code",
   "execution_count": 29,
   "metadata": {},
   "outputs": [
    {
     "name": "stdout",
     "output_type": "stream",
     "text": [
      "('My mother has ', 'blue', ' eyes.')\n",
      "[('My mother has ', 'blue', ' eyes.')]\n",
      "['My mother has ', 'blue', ' eyes.']\n",
      "['', 'My mother has ', '']\n",
      "['', '']\n",
      "['', 'My mother has ', 'blue', ' eyes.', '']\n"
     ]
    },
    {
     "data": {
      "text/plain": [
       "['My mother has ', 'blue', ' eyes.']"
      ]
     },
     "execution_count": 29,
     "metadata": {},
     "output_type": "execute_result"
    }
   ],
   "source": [
    "# a more complicated example:\n",
    "# using split() and search() and the tags, try to pull out 'My mother has blue eyes'\n",
    "string16 = '<p>My mother has <span style=\"color:blue\">blue</span> eyes.</p>'\n",
    "\n",
    "long_pattern = '(?:<p>)([A-Za-z ]+)(?:<span.+>)([A-Za-z ]+)(?:</span>)([A-Za-z .]+)(?:</p>)'\n",
    "match = re.search(long_pattern, string16)\n",
    "print(match.groups())\n",
    "\n",
    "# findall() returns a list of tuples\n",
    "print(re.findall(long_pattern, string16))\n",
    "\n",
    "print(re.findall('>([^<]+)<', string16))  # the best solution, row 3\n",
    "\n",
    "match = re.split('<p>|<span.+>|</span>|</p>', string16, flags = re.DOTALL)  # doesnt work\n",
    "print(match)\n",
    "\n",
    "# re.split() returns a list\n",
    "match = re.split('<.+>', string16) # captures the entire string bcoz it is greedy, line 5\n",
    "print(match)\n",
    "\n",
    "match = re.split('<.+?>', string16) # +? non-greedy via ?, but it has empty string problem\n",
    "print(match)\n",
    "\n",
    "[i for i in re.split('<.+?>', string16) if i] # empty string problem solved with list comprehension"
   ]
  },
  {
   "cell_type": "markdown",
   "metadata": {},
   "source": [
    "## re methods : re.sub"
   ]
  },
  {
   "cell_type": "raw",
   "metadata": {},
   "source": [
    "Method signature:\n",
    "re.sub(pattern, replacement_string, string)\n",
    "\n",
    "For each match instance of the pattern, re.sub() replaces the instance with replacement_string.\n",
    "\n",
    "re.sub() can operate on a multiline string without restrictions"
   ]
  },
  {
   "cell_type": "code",
   "execution_count": 32,
   "metadata": {},
   "outputs": [
    {
     "data": {
      "text/plain": [
       "'Lorem United States  ipsum dolor sit amet, consectetur adipiscing elit, \\nsed do eiusmod tempor incididunt ut labore et dolore magna aliqua. \\nDignissim cras tincidunt lobortis feugiat.\\nMattis nunc sed blandit libero volutpat sed cras ornare. \\nPurus ut faucibus pulvinar United States A elementum integer enim neque volutpat ac. \\npurus faucibus ornare suspendisse sed nisi lacus. \\nConsequat United States  nisl vel pretium lectus quam id leo in vitae. \\nViverra justo nec ultrices dui sapien eget mi proin. \\nMorbi tristique senectus et netus et malesuada fames ac. \\nAmet nulla facilisi morbi tempus iaculis urna id volutpat lacus. \\nIn tellus integer feugiat United States A scelerisque.'"
      ]
     },
     "execution_count": 32,
     "metadata": {},
     "output_type": "execute_result"
    }
   ],
   "source": [
    "# Example:\n",
    "string14 = \"\"\"Lorem US ipsum dolor sit amet, consectetur adipiscing elit, \n",
    "sed do eiusmod tempor incididunt ut labore et dolore magna aliqua. \n",
    "Dignissim cras tincidunt lobortis feugiat.\n",
    "Mattis nunc sed blandit libero volutpat sed cras ornare. \n",
    "Purus ut faucibus pulvinar USA elementum integer enim neque volutpat ac. \n",
    "purus faucibus ornare suspendisse sed nisi lacus. \n",
    "Consequat U.S nisl vel pretium lectus quam id leo in vitae. \n",
    "Viverra justo nec ultrices dui sapien eget mi proin. \n",
    "Morbi tristique senectus et netus et malesuada fames ac. \n",
    "Amet nulla facilisi morbi tempus iaculis urna id volutpat lacus. \n",
    "In tellus integer feugiat USA scelerisque.\"\"\"\n",
    "\n",
    "re.sub('US|USA|U.S', 'United States ', string14)"
   ]
  },
  {
   "cell_type": "markdown",
   "metadata": {},
   "source": [
    "### using lambda's in re.sub()"
   ]
  },
  {
   "cell_type": "code",
   "execution_count": 35,
   "metadata": {},
   "outputs": [
    {
     "data": {
      "text/plain": [
       "\"Dan has <re.Match object; span=(8, 9), match='3'> snails. Mike has <re.Match object; span=(27, 28), match='4'> cats. Alisa has <re.Match object; span=(45, 46), match='9'> monkeys.\""
      ]
     },
     "execution_count": 35,
     "metadata": {},
     "output_type": "execute_result"
    }
   ],
   "source": [
    "string17 = 'Dan has 3 snails. Mike has 4 cats. Alisa has 9 monkeys.'\n",
    "\n",
    "re.sub('(\\d+)', lambda x: str(x), string17)  # x is the match object!"
   ]
  },
  {
   "cell_type": "code",
   "execution_count": 38,
   "metadata": {},
   "outputs": [
    {
     "data": {
      "text/plain": [
       "'Dan has 6 snails. Mike has 8 cats. Alisa has 18 monkeys.'"
      ]
     },
     "execution_count": 38,
     "metadata": {},
     "output_type": "execute_result"
    }
   ],
   "source": [
    "re.sub('(\\d+)', lambda x: str(int(x.group(1))*2), string17)\n",
    "# Step 1) lambda x : x.group()  x is a match object\n",
    "# Step 2) x.group(1) gets the capturing group's instance as a string (i.e. '3', '4', '9')\n",
    "# Step 3) int() turns the result of Step 2 into an integer (i.e. number_of_animals)\n",
    "# Step 4) number_animals is multiplied by 2\n",
    "# Step 5) The result of Step 4 is converted back to str"
   ]
  },
  {
   "cell_type": "code",
   "execution_count": 40,
   "metadata": {},
   "outputs": [
    {
     "name": "stdout",
     "output_type": "stream",
     "text": [
      "eating laughing sleeping studying\n"
     ]
    }
   ],
   "source": [
    "# another example of using lambdas in re.sub()\n",
    "string18 = 'eat laugh sleep study'\n",
    "\n",
    "result = re.sub('\\w+', lambda m: m.group() + 'ing', string18)\n",
    "\n",
    "print(result)"
   ]
  },
  {
   "cell_type": "markdown",
   "metadata": {},
   "source": [
    "#### Backreferencing in re.sub() ???"
   ]
  },
  {
   "cell_type": "code",
   "execution_count": 41,
   "metadata": {},
   "outputs": [],
   "source": [
    "string19 = 'Merry Merry Christmas'"
   ]
  },
  {
   "cell_type": "code",
   "execution_count": 46,
   "metadata": {},
   "outputs": [
    {
     "data": {
      "text/plain": [
       "('Merry ', 'Merry ')"
      ]
     },
     "execution_count": 46,
     "metadata": {},
     "output_type": "execute_result"
    }
   ],
   "source": [
    "re.search(r'(\\w+ )(\\1)', string19).groups()  # remove r and see the output!"
   ]
  },
  {
   "cell_type": "code",
   "execution_count": 49,
   "metadata": {},
   "outputs": [
    {
     "data": {
      "text/plain": [
       "'Happy Merry Christmas'"
      ]
     },
     "execution_count": 49,
     "metadata": {},
     "output_type": "execute_result"
    }
   ],
   "source": [
    "# backreferencing example with re.sub()\n",
    "re.sub(r'(\\w+) (\\1)', r'Happy \\1', string19)  # \\1 = Merry"
   ]
  },
  {
   "cell_type": "code",
   "execution_count": 51,
   "metadata": {},
   "outputs": [
    {
     "data": {
      "text/plain": [
       "'Merry Happy Christmas'"
      ]
     },
     "execution_count": 51,
     "metadata": {},
     "output_type": "execute_result"
    }
   ],
   "source": [
    "re.sub(r'(\\w+) (\\1)', r'\\1 Happy', string19)"
   ]
  },
  {
   "cell_type": "code",
   "execution_count": 52,
   "metadata": {},
   "outputs": [
    {
     "data": {
      "text/plain": [
       "'Happy Merry Christmas'"
      ]
     },
     "execution_count": 52,
     "metadata": {},
     "output_type": "execute_result"
    }
   ],
   "source": [
    "re.sub(r'(\\w+) (\\1)', r'Happy \\2', string19)"
   ]
  }
 ],
 "metadata": {
  "kernelspec": {
   "display_name": "Python 3",
   "language": "python",
   "name": "python3"
  },
  "language_info": {
   "codemirror_mode": {
    "name": "ipython",
    "version": 3
   },
   "file_extension": ".py",
   "mimetype": "text/x-python",
   "name": "python",
   "nbconvert_exporter": "python",
   "pygments_lexer": "ipython3",
   "version": "3.7.4"
  }
 },
 "nbformat": 4,
 "nbformat_minor": 2
}
