{
 "cells": [
  {
   "cell_type": "markdown",
   "metadata": {},
   "source": [
    "# map()\n",
    "\n",
    "map() is a built-in Python function that takes in two or more arguments: a function and one or more iterables, in the form:\n",
    "\n",
    "    map(function, iterable, ...)\n",
    "    \n",
    "map() returns an *iterator* - that is, map() returns a special object that yields one result at a time as needed. We will learn more about iterators and generators in a future lecture. For now, since our examples are so small, we will cast map() as a list to see the results immediately.\n",
    "\n",
    "When we went over list comprehensions we created a small expression to convert Celsius to Fahrenheit. Let's do the same here but use map:"
   ]
  },
  {
   "cell_type": "code",
   "execution_count": 1,
   "metadata": {},
   "outputs": [],
   "source": [
    "def fahrenheit(celsius):\n",
    "    return (9/5)*celsius + 32\n",
    "    \n",
    "temps = [0, 22.5, 40, 100]"
   ]
  },
  {
   "cell_type": "markdown",
   "metadata": {},
   "source": [
    "Now let's see map() in action:"
   ]
  },
  {
   "cell_type": "code",
   "execution_count": 2,
   "metadata": {},
   "outputs": [
    {
     "data": {
      "text/plain": [
       "[32.0, 72.5, 104.0, 212.0]"
      ]
     },
     "execution_count": 2,
     "metadata": {},
     "output_type": "execute_result"
    }
   ],
   "source": [
    "F_temps = map(fahrenheit, temps)\n",
    "\n",
    "#Show\n",
    "list(F_temps)"
   ]
  },
  {
   "cell_type": "markdown",
   "metadata": {},
   "source": [
    "In the example above, map() applies the fahrenheit function to every item in temps. However, we don't have to define our functions beforehand; we can use a lambda expression instead:"
   ]
  },
  {
   "cell_type": "code",
   "execution_count": 3,
   "metadata": {},
   "outputs": [
    {
     "data": {
      "text/plain": [
       "[32.0, 72.5, 104.0, 212.0]"
      ]
     },
     "execution_count": 3,
     "metadata": {},
     "output_type": "execute_result"
    }
   ],
   "source": [
    "list(map(lambda x: (9/5)*x + 32, temps))"
   ]
  },
  {
   "cell_type": "markdown",
   "metadata": {},
   "source": [
    "Great! We got the same result! Using map with lambda expressions is much more common since the entire purpose of map() is to save effort on having to create manual for loops."
   ]
  },
  {
   "cell_type": "markdown",
   "metadata": {},
   "source": [
    "### map() with multiple iterables\n",
    "map() can accept more than one iterable. The iterables should be the same length - in the event that they are not, map() will stop as soon as the shortest iterable is exhausted.\n",
    "\n",
    "\n",
    "For instance, if our function is trying to add two values **x** and **y**, we can pass a list of **x** values and another list of **y** values to map(). The function (or lambda) will be fed the 0th index from each list, and then the 1st index, and so on until the n-th index is reached.\n",
    "\n",
    "Let's see this in action with two and then three lists:"
   ]
  },
  {
   "cell_type": "code",
   "execution_count": 4,
   "metadata": {},
   "outputs": [
    {
     "data": {
      "text/plain": [
       "[6, 8, 10, 12]"
      ]
     },
     "execution_count": 4,
     "metadata": {},
     "output_type": "execute_result"
    }
   ],
   "source": [
    "a = [1,2,3,4]\n",
    "b = [5,6,7,8]\n",
    "c = [9,10,11,12]\n",
    "\n",
    "list(map(lambda x,y:x+y,a,b))"
   ]
  },
  {
   "cell_type": "code",
   "execution_count": 5,
   "metadata": {},
   "outputs": [
    {
     "data": {
      "text/plain": [
       "[15, 18, 21, 24]"
      ]
     },
     "execution_count": 5,
     "metadata": {},
     "output_type": "execute_result"
    }
   ],
   "source": [
    "# Now all three lists\n",
    "list(map(lambda x,y,z:x+y+z,a,b,c))"
   ]
  },
  {
   "cell_type": "markdown",
   "metadata": {},
   "source": [
    "We can see in the example above that the parameter **x** gets its values from the list **a**, while **y** gets its values from **b** and **z** from list **c**. Go ahead and play with your own example to make sure you fully understand mapping to more than one iterable.\n",
    "\n",
    "Great job! You should now have a basic understanding of the map() function."
   ]
  },
  {
   "cell_type": "markdown",
   "metadata": {},
   "source": [
    "## my_map() generator function : A possible implementation of built-in map() class"
   ]
  },
  {
   "cell_type": "markdown",
   "metadata": {},
   "source": [
    "Refer to the source code in 09-Built-in Functions > my_map"
   ]
  },
  {
   "cell_type": "code",
   "execution_count": 2,
   "metadata": {},
   "outputs": [
    {
     "name": "stdout",
     "output_type": "stream",
     "text": [
      "True\n",
      "True\n",
      "True\n",
      "inside get_total() and *args are: (1, 5, 7)\n",
      "inside get_total() and *args are: (2, 2, 7)\n",
      "inside get_total() and *args are: (3, 4, 7)\n",
      "[13, 11, 14]\n",
      "True\n",
      "True\n",
      "True\n",
      "inside get_total() and *args are: (1, 5, 7)\n",
      "inside get_total() and *args are: (2, 2, 7)\n",
      "inside get_total() and *args are: (3, 4, 7)\n",
      "[13, 11, 14]\n"
     ]
    }
   ],
   "source": [
    "def get_total(*args):\n",
    "    print(f'inside get_total() and *args are: {args}')\n",
    "    for arg in args:\n",
    "        if type(arg) != int:\n",
    "            msg = f'Expected int argument, got {type(arg)} argument'\n",
    "            raise TypeError(msg)\n",
    "    return sum(args)\n",
    "\n",
    "\n",
    "# def map(__func: (...) -> _S,\n",
    "#         __iter1: Iterable,\n",
    "#         __iter2: Iterable,\n",
    "#         __iter3: Iterable,\n",
    "#         __iter4: Iterable,\n",
    "#         __iter5: Iterable,\n",
    "#         __iter6: Iterable,\n",
    "#         *iterables: Iterable) -> Iterator[_S]\n",
    "# Possible types:\n",
    "# • (__func: (_T1) -> _S, __iter1: Iterable[_T1]) -> Iterator[_S]\n",
    "# • (__func: (_T1, _T2) -> _S, __iter1: Iterable[_T1], __iter2: Iterable[_T2]) -> Iterator[_S]\n",
    "# • (__func: (_T1, _T2, _T3) -> _S, __iter1: Iterable[_T1], __iter2: Iterable[_T2], __iter3: Iterable[_T3]) -> Iterator[_S]\n",
    "# • (__func: (_T1, _T2, _T3, _T4) -> _S, __iter1: Iterable[_T1], __iter2: Iterable[_T2], __iter3: Iterable[_T3], __iter4: Iterable[_T4]) -> Iterator[_S]\n",
    "# • (__func: (_T1, _T2, _T3, _T4, _T5) -> _S, __iter1: Iterable[_T1], __iter2: Iterable[_T2], __iter3: Iterable[_T3], __iter4: Iterable[_T4], __iter5: Iterable[_T5]) -> Iterator[_S]\n",
    "# • (__func: (...) -> _S, __iter1: Iterable, __iter2: Iterable, __iter3: Iterable, __iter4: Iterable, __iter5: Iterable, __iter6: Iterable, iterables: Tuple[Iterable, ...]) -> Iterator[_S]\n",
    "# map(func, *iterables) –> map object\n",
    "# Make an iterator that computes the function using arguments from each of the iterables.\n",
    "# Stops when the shortest iterable is exhausted.\n",
    "def my_map(*args):\n",
    "    if len(args) < 2:\n",
    "        msg = 'map() must have at least two arguments.'\n",
    "        raise TypeError(msg)\n",
    "\n",
    "    func = args[0]\n",
    "    iterables_list = list(args)  # [function iterable1 iterable2 ...]\n",
    "    iterables_list.pop(0)  # 0.th argument is a function, not an iterable --> [ iterable1, iterable2 ... ]\n",
    "    iterators = []\n",
    "    for iterable in iterables_list:\n",
    "        iterators.append(iter(iterable))\n",
    "\n",
    "    # iterator = iter(iterables_list)\n",
    "    # while True:\n",
    "    #     try:\n",
    "    #         iterable = next(iterator)\n",
    "    #     except StopIteration:\n",
    "    #         break\n",
    "    #     else:\n",
    "    #         iterators.append(iter(iterable))\n",
    "\n",
    "    while True:\n",
    "        try:\n",
    "            arguments = []\n",
    "            for iterator in iterators:\n",
    "                arguments.append(next(iterator))  # next(iterator) can throw a StopIteration error\n",
    "        except StopIteration:\n",
    "            break\n",
    "        else:  # no StopIteration error\n",
    "            yield func(*arguments)\n",
    "    # raise StopIteration  ## imaginary statement for generator function my_map\n",
    "\n",
    "\n",
    "if __name__ == '__main__':\n",
    "    list_1 = [1, 2, 3]  # an iterable\n",
    "    list_2 = [5, 2, 4]  # an iterable\n",
    "    list_3 = [7, 7, 7]  # an iterable\n",
    "    builtin_map_instance = map(get_total, list_1, list_2, list_3)     # built-in map class usage, returns an iterator\n",
    "    print('__next__' in dir(builtin_map_instance))  # True, built-in map returns a generator, which is an iterator\n",
    "    print('__iter__' in dir(builtin_map_instance))  # True, built-in map iterator is an iterable\n",
    "    print(builtin_map_instance == iter(builtin_map_instance)) # True, map instance returns itself as iterator\n",
    "    print(list(builtin_map_instance))\n",
    "\n",
    "    my_map_generator = my_map(get_total, list_1, list_2, list_3)  # own my_map usage\n",
    "    print('__next__' in dir(my_map_generator))  # True, proof that my_map_generator is an iterator\n",
    "    print('__iter__' in dir(my_map_generator))  # True, proof that my_map_generator is an iterable\n",
    "    print(my_map_generator == iter(my_map_generator))  # True, proof that my_map returns itself as its own iterator\n",
    "    print(list(my_map_generator))  # Yes! list class excepts our own \"my_map\" iterator\n",
    "\n"
   ]
  }
 ],
 "metadata": {
  "kernelspec": {
   "display_name": "Python 3",
   "language": "python",
   "name": "python3"
  },
  "language_info": {
   "codemirror_mode": {
    "name": "ipython",
    "version": 3
   },
   "file_extension": ".py",
   "mimetype": "text/x-python",
   "name": "python",
   "nbconvert_exporter": "python",
   "pygments_lexer": "ipython3",
   "version": "3.7.4"
  }
 },
 "nbformat": 4,
 "nbformat_minor": 1
}
